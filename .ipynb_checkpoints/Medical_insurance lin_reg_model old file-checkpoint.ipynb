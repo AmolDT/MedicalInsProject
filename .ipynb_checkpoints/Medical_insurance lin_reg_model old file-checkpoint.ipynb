{
 "cells": [
  {
   "cell_type": "markdown",
   "id": "4138b82d",
   "metadata": {},
   "source": [
    "# importing libraries"
   ]
  },
  {
   "cell_type": "code",
   "execution_count": 189,
   "id": "a987eb6f",
   "metadata": {},
   "outputs": [],
   "source": [
    "import pandas as pd\n",
    "import numpy as np\n",
    "\n",
    "import seaborn as sns\n",
    "import matplotlib.pyplot as plt\n",
    "\n",
    "from sklearn.model_selection import train_test_split\n",
    "from sklearn.linear_model import LinearRegression\n",
    "\n",
    "from sklearn.metrics import mean_absolute_error,mean_squared_error,r2_score\n",
    "\n",
    "from sklearn.linear_model import Ridge,Lasso\n",
    "from sklearn.model_selection import GridSearchCV,RandomizedSearchCV\n",
    "\n",
    "\n",
    "\n",
    "import warnings\n",
    "warnings.filterwarnings('ignore')"
   ]
  },
  {
   "cell_type": "markdown",
   "id": "e3dd07ba",
   "metadata": {},
   "source": [
    "# 1. problem statement "
   ]
  },
  {
   "cell_type": "raw",
   "id": "b6f69a13",
   "metadata": {},
   "source": [
    "predicting medical insurance considering regression problem using linear regression\n"
   ]
  },
  {
   "cell_type": "markdown",
   "id": "486db624",
   "metadata": {},
   "source": [
    "# 2. Data Gathering "
   ]
  },
  {
   "cell_type": "code",
   "execution_count": 2,
   "id": "75e5071a",
   "metadata": {},
   "outputs": [
    {
     "data": {
      "text/html": [
       "<div>\n",
       "<style scoped>\n",
       "    .dataframe tbody tr th:only-of-type {\n",
       "        vertical-align: middle;\n",
       "    }\n",
       "\n",
       "    .dataframe tbody tr th {\n",
       "        vertical-align: top;\n",
       "    }\n",
       "\n",
       "    .dataframe thead th {\n",
       "        text-align: right;\n",
       "    }\n",
       "</style>\n",
       "<table border=\"1\" class=\"dataframe\">\n",
       "  <thead>\n",
       "    <tr style=\"text-align: right;\">\n",
       "      <th></th>\n",
       "      <th>age</th>\n",
       "      <th>sex</th>\n",
       "      <th>bmi</th>\n",
       "      <th>children</th>\n",
       "      <th>smoker</th>\n",
       "      <th>region</th>\n",
       "      <th>charges</th>\n",
       "    </tr>\n",
       "  </thead>\n",
       "  <tbody>\n",
       "    <tr>\n",
       "      <th>0</th>\n",
       "      <td>19</td>\n",
       "      <td>female</td>\n",
       "      <td>27.900</td>\n",
       "      <td>0</td>\n",
       "      <td>yes</td>\n",
       "      <td>southwest</td>\n",
       "      <td>16884.92400</td>\n",
       "    </tr>\n",
       "    <tr>\n",
       "      <th>1</th>\n",
       "      <td>18</td>\n",
       "      <td>male</td>\n",
       "      <td>33.770</td>\n",
       "      <td>1</td>\n",
       "      <td>no</td>\n",
       "      <td>southeast</td>\n",
       "      <td>1725.55230</td>\n",
       "    </tr>\n",
       "    <tr>\n",
       "      <th>2</th>\n",
       "      <td>28</td>\n",
       "      <td>male</td>\n",
       "      <td>33.000</td>\n",
       "      <td>3</td>\n",
       "      <td>no</td>\n",
       "      <td>southeast</td>\n",
       "      <td>4449.46200</td>\n",
       "    </tr>\n",
       "    <tr>\n",
       "      <th>3</th>\n",
       "      <td>33</td>\n",
       "      <td>male</td>\n",
       "      <td>22.705</td>\n",
       "      <td>0</td>\n",
       "      <td>no</td>\n",
       "      <td>northwest</td>\n",
       "      <td>21984.47061</td>\n",
       "    </tr>\n",
       "    <tr>\n",
       "      <th>4</th>\n",
       "      <td>32</td>\n",
       "      <td>male</td>\n",
       "      <td>28.880</td>\n",
       "      <td>0</td>\n",
       "      <td>no</td>\n",
       "      <td>northwest</td>\n",
       "      <td>3866.85520</td>\n",
       "    </tr>\n",
       "    <tr>\n",
       "      <th>...</th>\n",
       "      <td>...</td>\n",
       "      <td>...</td>\n",
       "      <td>...</td>\n",
       "      <td>...</td>\n",
       "      <td>...</td>\n",
       "      <td>...</td>\n",
       "      <td>...</td>\n",
       "    </tr>\n",
       "    <tr>\n",
       "      <th>1333</th>\n",
       "      <td>50</td>\n",
       "      <td>male</td>\n",
       "      <td>30.970</td>\n",
       "      <td>3</td>\n",
       "      <td>no</td>\n",
       "      <td>northwest</td>\n",
       "      <td>10600.54830</td>\n",
       "    </tr>\n",
       "    <tr>\n",
       "      <th>1334</th>\n",
       "      <td>18</td>\n",
       "      <td>female</td>\n",
       "      <td>31.920</td>\n",
       "      <td>0</td>\n",
       "      <td>no</td>\n",
       "      <td>northeast</td>\n",
       "      <td>2205.98080</td>\n",
       "    </tr>\n",
       "    <tr>\n",
       "      <th>1335</th>\n",
       "      <td>18</td>\n",
       "      <td>female</td>\n",
       "      <td>36.850</td>\n",
       "      <td>0</td>\n",
       "      <td>no</td>\n",
       "      <td>southeast</td>\n",
       "      <td>1629.83350</td>\n",
       "    </tr>\n",
       "    <tr>\n",
       "      <th>1336</th>\n",
       "      <td>21</td>\n",
       "      <td>female</td>\n",
       "      <td>25.800</td>\n",
       "      <td>0</td>\n",
       "      <td>no</td>\n",
       "      <td>southwest</td>\n",
       "      <td>2007.94500</td>\n",
       "    </tr>\n",
       "    <tr>\n",
       "      <th>1337</th>\n",
       "      <td>61</td>\n",
       "      <td>female</td>\n",
       "      <td>29.070</td>\n",
       "      <td>0</td>\n",
       "      <td>yes</td>\n",
       "      <td>northwest</td>\n",
       "      <td>29141.36030</td>\n",
       "    </tr>\n",
       "  </tbody>\n",
       "</table>\n",
       "<p>1338 rows × 7 columns</p>\n",
       "</div>"
      ],
      "text/plain": [
       "      age     sex     bmi  children smoker     region      charges\n",
       "0      19  female  27.900         0    yes  southwest  16884.92400\n",
       "1      18    male  33.770         1     no  southeast   1725.55230\n",
       "2      28    male  33.000         3     no  southeast   4449.46200\n",
       "3      33    male  22.705         0     no  northwest  21984.47061\n",
       "4      32    male  28.880         0     no  northwest   3866.85520\n",
       "...   ...     ...     ...       ...    ...        ...          ...\n",
       "1333   50    male  30.970         3     no  northwest  10600.54830\n",
       "1334   18  female  31.920         0     no  northeast   2205.98080\n",
       "1335   18  female  36.850         0     no  southeast   1629.83350\n",
       "1336   21  female  25.800         0     no  southwest   2007.94500\n",
       "1337   61  female  29.070         0    yes  northwest  29141.36030\n",
       "\n",
       "[1338 rows x 7 columns]"
      ]
     },
     "execution_count": 2,
     "metadata": {},
     "output_type": "execute_result"
    }
   ],
   "source": [
    "df=pd.read_csv(\"medical_insurance.csv\")\n",
    "df"
   ]
  },
  {
   "cell_type": "markdown",
   "id": "ce25f1b1",
   "metadata": {},
   "source": [
    "# 3. Exploratory Data Analysis"
   ]
  },
  {
   "cell_type": "code",
   "execution_count": 3,
   "id": "1f9fc2a0",
   "metadata": {},
   "outputs": [
    {
     "name": "stdout",
     "output_type": "stream",
     "text": [
      "<class 'pandas.core.frame.DataFrame'>\n",
      "RangeIndex: 1338 entries, 0 to 1337\n",
      "Data columns (total 7 columns):\n",
      " #   Column    Non-Null Count  Dtype  \n",
      "---  ------    --------------  -----  \n",
      " 0   age       1338 non-null   int64  \n",
      " 1   sex       1338 non-null   object \n",
      " 2   bmi       1338 non-null   float64\n",
      " 3   children  1338 non-null   int64  \n",
      " 4   smoker    1338 non-null   object \n",
      " 5   region    1338 non-null   object \n",
      " 6   charges   1338 non-null   float64\n",
      "dtypes: float64(2), int64(2), object(3)\n",
      "memory usage: 73.3+ KB\n"
     ]
    }
   ],
   "source": [
    "# checking missing values or outliers present in data\n",
    "df.info()"
   ]
  },
  {
   "cell_type": "markdown",
   "id": "0d2fcdb6",
   "metadata": {},
   "source": [
    "# age"
   ]
  },
  {
   "cell_type": "code",
   "execution_count": 4,
   "id": "2beecae2",
   "metadata": {},
   "outputs": [
    {
     "data": {
      "text/plain": [
       "0       19\n",
       "1       18\n",
       "2       28\n",
       "3       33\n",
       "4       32\n",
       "        ..\n",
       "1333    50\n",
       "1334    18\n",
       "1335    18\n",
       "1336    21\n",
       "1337    61\n",
       "Name: age, Length: 1338, dtype: int64"
      ]
     },
     "execution_count": 4,
     "metadata": {},
     "output_type": "execute_result"
    }
   ],
   "source": [
    "df['age']"
   ]
  },
  {
   "cell_type": "code",
   "execution_count": 5,
   "id": "1483c597",
   "metadata": {},
   "outputs": [
    {
     "data": {
      "text/plain": [
       "0"
      ]
     },
     "execution_count": 5,
     "metadata": {},
     "output_type": "execute_result"
    }
   ],
   "source": [
    "df['age'].isna().sum()  # no missing value present in age column"
   ]
  },
  {
   "cell_type": "code",
   "execution_count": 6,
   "id": "7bbc9b97",
   "metadata": {},
   "outputs": [
    {
     "data": {
      "text/plain": [
       "<AxesSubplot:xlabel='age'>"
      ]
     },
     "execution_count": 6,
     "metadata": {},
     "output_type": "execute_result"
    },
    {
     "data": {
      "image/png": "[encoded data removed]",
      "text/plain": [
       "<Figure size 640x480 with 1 Axes>"
      ]
     },
     "metadata": {},
     "output_type": "display_data"
    }
   ],
   "source": [
    "# checking for outliers\n",
    "sns.boxplot(df['age'])\n",
    "# outliers are not present in 'age' column"
   ]
  },
  {
   "cell_type": "code",
   "execution_count": 7,
   "id": "6fa0cadc",
   "metadata": {},
   "outputs": [
    {
     "name": "stdout",
     "output_type": "stream",
     "text": [
      "<class 'pandas.core.frame.DataFrame'>\n",
      "RangeIndex: 1338 entries, 0 to 1337\n",
      "Data columns (total 7 columns):\n",
      " #   Column    Non-Null Count  Dtype  \n",
      "---  ------    --------------  -----  \n",
      " 0   age       1338 non-null   int64  \n",
      " 1   sex       1338 non-null   object \n",
      " 2   bmi       1338 non-null   float64\n",
      " 3   children  1338 non-null   int64  \n",
      " 4   smoker    1338 non-null   object \n",
      " 5   region    1338 non-null   object \n",
      " 6   charges   1338 non-null   float64\n",
      "dtypes: float64(2), int64(2), object(3)\n",
      "memory usage: 73.3+ KB\n"
     ]
    }
   ],
   "source": [
    "df.info()"
   ]
  },
  {
   "cell_type": "code",
   "execution_count": null,
   "id": "e669ebd5",
   "metadata": {},
   "outputs": [],
   "source": []
  },
  {
   "cell_type": "markdown",
   "id": "b8f5bbdd",
   "metadata": {},
   "source": [
    "# sex"
   ]
  },
  {
   "cell_type": "code",
   "execution_count": 8,
   "id": "d6dc8b88",
   "metadata": {},
   "outputs": [
    {
     "data": {
      "text/plain": [
       "0       female\n",
       "1         male\n",
       "2         male\n",
       "3         male\n",
       "4         male\n",
       "         ...  \n",
       "1333      male\n",
       "1334    female\n",
       "1335    female\n",
       "1336    female\n",
       "1337    female\n",
       "Name: sex, Length: 1338, dtype: object"
      ]
     },
     "execution_count": 8,
     "metadata": {},
     "output_type": "execute_result"
    }
   ],
   "source": [
    "df['sex']"
   ]
  },
  {
   "cell_type": "code",
   "execution_count": 9,
   "id": "18a234bf",
   "metadata": {},
   "outputs": [
    {
     "data": {
      "text/plain": [
       "0"
      ]
     },
     "execution_count": 9,
     "metadata": {},
     "output_type": "execute_result"
    }
   ],
   "source": [
    "df['sex'].isna ().sum() # no missing values are present"
   ]
  },
  {
   "cell_type": "code",
   "execution_count": 10,
   "id": "f8f25b8d",
   "metadata": {},
   "outputs": [],
   "source": [
    "# we have to convert object dtype into float /int \n",
    "# for that we have to do encoding "
   ]
  },
  {
   "cell_type": "code",
   "execution_count": 11,
   "id": "c0ea3e4c",
   "metadata": {},
   "outputs": [
    {
     "data": {
      "text/plain": [
       "{'male': 676, 'female': 662}"
      ]
     },
     "execution_count": 11,
     "metadata": {},
     "output_type": "execute_result"
    }
   ],
   "source": [
    "df['sex'].value_counts().to_dict()"
   ]
  },
  {
   "cell_type": "code",
   "execution_count": 12,
   "id": "03e51cb3",
   "metadata": {},
   "outputs": [],
   "source": [
    "df['sex'].replace({'male': 1, 'female': 0},inplace=True)\n"
   ]
  },
  {
   "cell_type": "code",
   "execution_count": 13,
   "id": "7139b7f9",
   "metadata": {},
   "outputs": [
    {
     "name": "stdout",
     "output_type": "stream",
     "text": [
      "<class 'pandas.core.frame.DataFrame'>\n",
      "RangeIndex: 1338 entries, 0 to 1337\n",
      "Data columns (total 7 columns):\n",
      " #   Column    Non-Null Count  Dtype  \n",
      "---  ------    --------------  -----  \n",
      " 0   age       1338 non-null   int64  \n",
      " 1   sex       1338 non-null   int64  \n",
      " 2   bmi       1338 non-null   float64\n",
      " 3   children  1338 non-null   int64  \n",
      " 4   smoker    1338 non-null   object \n",
      " 5   region    1338 non-null   object \n",
      " 6   charges   1338 non-null   float64\n",
      "dtypes: float64(2), int64(3), object(2)\n",
      "memory usage: 73.3+ KB\n"
     ]
    }
   ],
   "source": [
    "df.info()"
   ]
  },
  {
   "cell_type": "markdown",
   "id": "a4bc139e",
   "metadata": {},
   "source": [
    "# bmi"
   ]
  },
  {
   "cell_type": "code",
   "execution_count": 14,
   "id": "1c6dad88",
   "metadata": {},
   "outputs": [
    {
     "data": {
      "text/plain": [
       "0       27.900\n",
       "1       33.770\n",
       "2       33.000\n",
       "3       22.705\n",
       "4       28.880\n",
       "         ...  \n",
       "1333    30.970\n",
       "1334    31.920\n",
       "1335    36.850\n",
       "1336    25.800\n",
       "1337    29.070\n",
       "Name: bmi, Length: 1338, dtype: float64"
      ]
     },
     "execution_count": 14,
     "metadata": {},
     "output_type": "execute_result"
    }
   ],
   "source": [
    "df['bmi']"
   ]
  },
  {
   "cell_type": "code",
   "execution_count": 15,
   "id": "3bf5cc1e",
   "metadata": {},
   "outputs": [
    {
     "data": {
      "text/plain": [
       "0"
      ]
     },
     "execution_count": 15,
     "metadata": {},
     "output_type": "execute_result"
    }
   ],
   "source": [
    "df['bmi'].isna().sum() # no missing values "
   ]
  },
  {
   "cell_type": "code",
   "execution_count": 16,
   "id": "849643cf",
   "metadata": {},
   "outputs": [
    {
     "data": {
      "text/plain": [
       "<AxesSubplot:xlabel='bmi'>"
      ]
     },
     "execution_count": 16,
     "metadata": {},
     "output_type": "execute_result"
    },
    {
     "data": {
      "image/png": "[encoded data removed]",
      "text/plain": [
       "<Figure size 640x480 with 1 Axes>"
      ]
     },
     "metadata": {},
     "output_type": "display_data"
    }
   ],
   "source": [
    "sns.boxplot(df['bmi'])                                                                # outliers are detected in 'bmi' column"
   ]
  },
  {
   "cell_type": "code",
   "execution_count": 17,
   "id": "fa6cf80f",
   "metadata": {},
   "outputs": [
    {
     "name": "stdout",
     "output_type": "stream",
     "text": [
      "<class 'pandas.core.frame.DataFrame'>\n",
      "RangeIndex: 1338 entries, 0 to 1337\n",
      "Data columns (total 7 columns):\n",
      " #   Column    Non-Null Count  Dtype  \n",
      "---  ------    --------------  -----  \n",
      " 0   age       1338 non-null   int64  \n",
      " 1   sex       1338 non-null   int64  \n",
      " 2   bmi       1338 non-null   float64\n",
      " 3   children  1338 non-null   int64  \n",
      " 4   smoker    1338 non-null   object \n",
      " 5   region    1338 non-null   object \n",
      " 6   charges   1338 non-null   float64\n",
      "dtypes: float64(2), int64(3), object(2)\n",
      "memory usage: 73.3+ KB\n"
     ]
    }
   ],
   "source": [
    "df.info()"
   ]
  },
  {
   "cell_type": "markdown",
   "id": "2928bbff",
   "metadata": {},
   "source": [
    "# children"
   ]
  },
  {
   "cell_type": "code",
   "execution_count": 18,
   "id": "9408c431",
   "metadata": {},
   "outputs": [
    {
     "data": {
      "text/plain": [
       "0       0\n",
       "1       1\n",
       "2       3\n",
       "3       0\n",
       "4       0\n",
       "       ..\n",
       "1333    3\n",
       "1334    0\n",
       "1335    0\n",
       "1336    0\n",
       "1337    0\n",
       "Name: children, Length: 1338, dtype: int64"
      ]
     },
     "execution_count": 18,
     "metadata": {},
     "output_type": "execute_result"
    }
   ],
   "source": [
    "df['children']"
   ]
  },
  {
   "cell_type": "code",
   "execution_count": 19,
   "id": "f025cafd",
   "metadata": {},
   "outputs": [
    {
     "data": {
      "text/plain": [
       "0"
      ]
     },
     "execution_count": 19,
     "metadata": {},
     "output_type": "execute_result"
    }
   ],
   "source": [
    "df['children'].isna().sum() # no missing values "
   ]
  },
  {
   "cell_type": "code",
   "execution_count": 20,
   "id": "cebd699e",
   "metadata": {},
   "outputs": [],
   "source": [
    "# checking for outliers"
   ]
  },
  {
   "cell_type": "code",
   "execution_count": 21,
   "id": "b2b16088",
   "metadata": {},
   "outputs": [
    {
     "data": {
      "text/plain": [
       "<AxesSubplot:xlabel='children'>"
      ]
     },
     "execution_count": 21,
     "metadata": {},
     "output_type": "execute_result"
    },
    {
     "data": {
      "image/png": "[encoded data removed]",
      "text/plain": [
       "<Figure size 640x480 with 1 Axes>"
      ]
     },
     "metadata": {},
     "output_type": "display_data"
    }
   ],
   "source": [
    "sns.boxplot(df['children'])"
   ]
  },
  {
   "cell_type": "code",
   "execution_count": 22,
   "id": "a7f8557d",
   "metadata": {},
   "outputs": [
    {
     "name": "stdout",
     "output_type": "stream",
     "text": [
      "<class 'pandas.core.frame.DataFrame'>\n",
      "RangeIndex: 1338 entries, 0 to 1337\n",
      "Data columns (total 7 columns):\n",
      " #   Column    Non-Null Count  Dtype  \n",
      "---  ------    --------------  -----  \n",
      " 0   age       1338 non-null   int64  \n",
      " 1   sex       1338 non-null   int64  \n",
      " 2   bmi       1338 non-null   float64\n",
      " 3   children  1338 non-null   int64  \n",
      " 4   smoker    1338 non-null   object \n",
      " 5   region    1338 non-null   object \n",
      " 6   charges   1338 non-null   float64\n",
      "dtypes: float64(2), int64(3), object(2)\n",
      "memory usage: 73.3+ KB\n"
     ]
    }
   ],
   "source": [
    "df.info()"
   ]
  },
  {
   "cell_type": "markdown",
   "id": "c3225fee",
   "metadata": {},
   "source": [
    "# smoker"
   ]
  },
  {
   "cell_type": "code",
   "execution_count": 23,
   "id": "4ab8f0f0",
   "metadata": {},
   "outputs": [
    {
     "data": {
      "text/plain": [
       "0       yes\n",
       "1        no\n",
       "2        no\n",
       "3        no\n",
       "4        no\n",
       "       ... \n",
       "1333     no\n",
       "1334     no\n",
       "1335     no\n",
       "1336     no\n",
       "1337    yes\n",
       "Name: smoker, Length: 1338, dtype: object"
      ]
     },
     "execution_count": 23,
     "metadata": {},
     "output_type": "execute_result"
    }
   ],
   "source": [
    "df['smoker']"
   ]
  },
  {
   "cell_type": "code",
   "execution_count": 24,
   "id": "9af13601",
   "metadata": {},
   "outputs": [
    {
     "data": {
      "text/plain": [
       "0"
      ]
     },
     "execution_count": 24,
     "metadata": {},
     "output_type": "execute_result"
    }
   ],
   "source": [
    "df['smoker'].isna().sum() # no missing values"
   ]
  },
  {
   "cell_type": "code",
   "execution_count": 25,
   "id": "7597d0ab",
   "metadata": {},
   "outputs": [],
   "source": [
    "# we have to perform encoding on this column"
   ]
  },
  {
   "cell_type": "code",
   "execution_count": 26,
   "id": "632a88f1",
   "metadata": {},
   "outputs": [
    {
     "data": {
      "text/plain": [
       "{'no': 1064, 'yes': 274}"
      ]
     },
     "execution_count": 26,
     "metadata": {},
     "output_type": "execute_result"
    }
   ],
   "source": [
    "df['smoker'].value_counts().to_dict()"
   ]
  },
  {
   "cell_type": "code",
   "execution_count": 27,
   "id": "d39718e6",
   "metadata": {},
   "outputs": [],
   "source": [
    "df['smoker'].replace({'no': 0, 'yes': 1},inplace=True)"
   ]
  },
  {
   "cell_type": "code",
   "execution_count": 28,
   "id": "1e9f012f",
   "metadata": {},
   "outputs": [
    {
     "name": "stdout",
     "output_type": "stream",
     "text": [
      "<class 'pandas.core.frame.DataFrame'>\n",
      "RangeIndex: 1338 entries, 0 to 1337\n",
      "Data columns (total 7 columns):\n",
      " #   Column    Non-Null Count  Dtype  \n",
      "---  ------    --------------  -----  \n",
      " 0   age       1338 non-null   int64  \n",
      " 1   sex       1338 non-null   int64  \n",
      " 2   bmi       1338 non-null   float64\n",
      " 3   children  1338 non-null   int64  \n",
      " 4   smoker    1338 non-null   int64  \n",
      " 5   region    1338 non-null   object \n",
      " 6   charges   1338 non-null   float64\n",
      "dtypes: float64(2), int64(4), object(1)\n",
      "memory usage: 73.3+ KB\n"
     ]
    }
   ],
   "source": [
    "df.info()"
   ]
  },
  {
   "cell_type": "markdown",
   "id": "97422543",
   "metadata": {},
   "source": [
    "# region"
   ]
  },
  {
   "cell_type": "code",
   "execution_count": 29,
   "id": "c21a7d49",
   "metadata": {},
   "outputs": [
    {
     "data": {
      "text/plain": [
       "0       southwest\n",
       "1       southeast\n",
       "2       southeast\n",
       "3       northwest\n",
       "4       northwest\n",
       "          ...    \n",
       "1333    northwest\n",
       "1334    northeast\n",
       "1335    southeast\n",
       "1336    southwest\n",
       "1337    northwest\n",
       "Name: region, Length: 1338, dtype: object"
      ]
     },
     "execution_count": 29,
     "metadata": {},
     "output_type": "execute_result"
    }
   ],
   "source": [
    "df['region']"
   ]
  },
  {
   "cell_type": "code",
   "execution_count": 30,
   "id": "a1f103f3",
   "metadata": {},
   "outputs": [
    {
     "data": {
      "text/plain": [
       "0"
      ]
     },
     "execution_count": 30,
     "metadata": {},
     "output_type": "execute_result"
    }
   ],
   "source": [
    "df['region'].isna().sum()"
   ]
  },
  {
   "cell_type": "code",
   "execution_count": 31,
   "id": "6f41eab2",
   "metadata": {},
   "outputs": [
    {
     "data": {
      "text/plain": [
       "southeast    364\n",
       "southwest    325\n",
       "northwest    325\n",
       "northeast    324\n",
       "Name: region, dtype: int64"
      ]
     },
     "execution_count": 31,
     "metadata": {},
     "output_type": "execute_result"
    }
   ],
   "source": [
    "df['region'].value_counts()"
   ]
  },
  {
   "cell_type": "code",
   "execution_count": 80,
   "id": "ae82e2a0",
   "metadata": {},
   "outputs": [],
   "source": [
    "# we will apply one hot encoding on region column"
   ]
  },
  {
   "cell_type": "code",
   "execution_count": 85,
   "id": "274808d0",
   "metadata": {},
   "outputs": [],
   "source": [
    "df=pd.get_dummies(df,columns=['region'])"
   ]
  },
  {
   "cell_type": "code",
   "execution_count": 86,
   "id": "bd9c7b6d",
   "metadata": {},
   "outputs": [
    {
     "name": "stdout",
     "output_type": "stream",
     "text": [
      "<class 'pandas.core.frame.DataFrame'>\n",
      "RangeIndex: 1338 entries, 0 to 1337\n",
      "Data columns (total 10 columns):\n",
      " #   Column    Non-Null Count  Dtype  \n",
      "---  ------    --------------  -----  \n",
      " 0   age       1338 non-null   int64  \n",
      " 1   sex       1338 non-null   int64  \n",
      " 2   bmi       1338 non-null   float64\n",
      " 3   children  1338 non-null   int64  \n",
      " 4   smoker    1338 non-null   int64  \n",
      " 5   charges   1338 non-null   float64\n",
      " 6   region_0  1338 non-null   uint8  \n",
      " 7   region_1  1338 non-null   uint8  \n",
      " 8   region_2  1338 non-null   uint8  \n",
      " 9   region_3  1338 non-null   uint8  \n",
      "dtypes: float64(2), int64(4), uint8(4)\n",
      "memory usage: 68.1 KB\n"
     ]
    }
   ],
   "source": [
    "df.info()"
   ]
  },
  {
   "cell_type": "markdown",
   "id": "46a4c432",
   "metadata": {},
   "source": [
    "# charges"
   ]
  },
  {
   "cell_type": "code",
   "execution_count": 87,
   "id": "5d81bdfc",
   "metadata": {},
   "outputs": [
    {
     "data": {
      "text/plain": [
       "0       16884.92400\n",
       "1        1725.55230\n",
       "2        4449.46200\n",
       "3       21984.47061\n",
       "4        3866.85520\n",
       "           ...     \n",
       "1333    10600.54830\n",
       "1334     2205.98080\n",
       "1335     1629.83350\n",
       "1336     2007.94500\n",
       "1337    29141.36030\n",
       "Name: charges, Length: 1338, dtype: float64"
      ]
     },
     "execution_count": 87,
     "metadata": {},
     "output_type": "execute_result"
    }
   ],
   "source": [
    "df['charges']"
   ]
  },
  {
   "cell_type": "code",
   "execution_count": 88,
   "id": "d28f966b",
   "metadata": {},
   "outputs": [
    {
     "data": {
      "text/plain": [
       "0"
      ]
     },
     "execution_count": 88,
     "metadata": {},
     "output_type": "execute_result"
    }
   ],
   "source": [
    "df['charges'].isna().sum() # no missing values"
   ]
  },
  {
   "cell_type": "code",
   "execution_count": 89,
   "id": "8964e5e1",
   "metadata": {},
   "outputs": [
    {
     "data": {
      "text/plain": [
       "<AxesSubplot:xlabel='charges'>"
      ]
     },
     "execution_count": 89,
     "metadata": {},
     "output_type": "execute_result"
    },
    {
     "data": {
      "image/png": "[encoded data removed]",
      "text/plain": [
       "<Figure size 640x480 with 1 Axes>"
      ]
     },
     "metadata": {},
     "output_type": "display_data"
    }
   ],
   "source": [
    "sns.boxplot(df['charges'])"
   ]
  },
  {
   "cell_type": "markdown",
   "id": "df7cefd7",
   "metadata": {},
   "source": [
    "# 4. Feature Engineering"
   ]
  },
  {
   "cell_type": "raw",
   "id": "2d20c3d9",
   "metadata": {},
   "source": [
    "In this step ,\n",
    "\n",
    "we are imputing missing values.\n",
    "\n",
    "we are imputing outliers \n",
    "\n"
   ]
  },
  {
   "cell_type": "raw",
   "id": "fa8c23aa",
   "metadata": {},
   "source": [
    "For imputing outliers ,\n",
    "\n",
    "first we have to detect outlier \n",
    "then we have impute outliers "
   ]
  },
  {
   "cell_type": "markdown",
   "id": "9afb9360",
   "metadata": {},
   "source": [
    "## 4.1 age column"
   ]
  },
  {
   "cell_type": "code",
   "execution_count": 90,
   "id": "54de119e",
   "metadata": {},
   "outputs": [],
   "source": [
    "# to detect outliers for each column we will define one function\n",
    "# we will use iqr method to detect outliers"
   ]
  },
  {
   "cell_type": "code",
   "execution_count": 91,
   "id": "7a1e52e1",
   "metadata": {},
   "outputs": [
    {
     "data": {
      "text/plain": [
       "<AxesSubplot:xlabel='age'>"
      ]
     },
     "execution_count": 91,
     "metadata": {},
     "output_type": "execute_result"
    },
    {
     "data": {
      "image/png": "[encoded data removed]",
      "text/plain": [
       "<Figure size 640x480 with 1 Axes>"
      ]
     },
     "metadata": {},
     "output_type": "display_data"
    }
   ],
   "source": [
    "sns.boxplot(x=df[\"age\"])"
   ]
  },
  {
   "cell_type": "code",
   "execution_count": 93,
   "id": "9c341f6f",
   "metadata": {},
   "outputs": [
    {
     "name": "stdout",
     "output_type": "stream",
     "text": [
      "<class 'pandas.core.frame.DataFrame'>\n",
      "RangeIndex: 1338 entries, 0 to 1337\n",
      "Data columns (total 10 columns):\n",
      " #   Column    Non-Null Count  Dtype  \n",
      "---  ------    --------------  -----  \n",
      " 0   age       1338 non-null   int64  \n",
      " 1   sex       1338 non-null   int64  \n",
      " 2   bmi       1338 non-null   float64\n",
      " 3   children  1338 non-null   int64  \n",
      " 4   smoker    1338 non-null   int64  \n",
      " 5   charges   1338 non-null   float64\n",
      " 6   region_0  1338 non-null   uint8  \n",
      " 7   region_1  1338 non-null   uint8  \n",
      " 8   region_2  1338 non-null   uint8  \n",
      " 9   region_3  1338 non-null   uint8  \n",
      "dtypes: float64(2), int64(4), uint8(4)\n",
      "memory usage: 68.1 KB\n"
     ]
    }
   ],
   "source": [
    "df.info()"
   ]
  },
  {
   "cell_type": "code",
   "execution_count": 153,
   "id": "f83885f9",
   "metadata": {},
   "outputs": [
    {
     "name": "stdout",
     "output_type": "stream",
     "text": [
      "upper_tail: 87.0\n",
      "lower_tail: -9.0\n"
     ]
    },
    {
     "data": {
      "text/html": [
       "<div>\n",
       "<style scoped>\n",
       "    .dataframe tbody tr th:only-of-type {\n",
       "        vertical-align: middle;\n",
       "    }\n",
       "\n",
       "    .dataframe tbody tr th {\n",
       "        vertical-align: top;\n",
       "    }\n",
       "\n",
       "    .dataframe thead th {\n",
       "        text-align: right;\n",
       "    }\n",
       "</style>\n",
       "<table border=\"1\" class=\"dataframe\">\n",
       "  <thead>\n",
       "    <tr style=\"text-align: right;\">\n",
       "      <th></th>\n",
       "      <th>age</th>\n",
       "    </tr>\n",
       "  </thead>\n",
       "  <tbody>\n",
       "  </tbody>\n",
       "</table>\n",
       "</div>"
      ],
      "text/plain": [
       "Empty DataFrame\n",
       "Columns: [age]\n",
       "Index: []"
      ]
     },
     "execution_count": 153,
     "metadata": {},
     "output_type": "execute_result"
    }
   ],
   "source": [
    "q1=df['age'].quantile(0.25)\n",
    "q2=df['age'].quantile(0.50)\n",
    "q3=df['age'].quantile(0.75)\n",
    "\n",
    "iqr=q3-q1\n",
    "\n",
    "upper_tail=q3+1.5*iqr\n",
    "lower_tail=q1-1.5*iqr\n",
    "\n",
    "print(\"upper_tail:\",upper_tail)\n",
    "print(\"lower_tail:\",lower_tail)\n",
    "    \n",
    "df[['age']].loc[(df['age']>upper_tail)|(df['age']<lower_tail)]  # outliers are detected in age column"
   ]
  },
  {
   "cell_type": "code",
   "execution_count": 154,
   "id": "84a7dc5a",
   "metadata": {},
   "outputs": [
    {
     "name": "stdout",
     "output_type": "stream",
     "text": [
      "upper_tail: 2.5\n",
      "lower_tail: -1.5\n"
     ]
    },
    {
     "data": {
      "text/html": [
       "<div>\n",
       "<style scoped>\n",
       "    .dataframe tbody tr th:only-of-type {\n",
       "        vertical-align: middle;\n",
       "    }\n",
       "\n",
       "    .dataframe tbody tr th {\n",
       "        vertical-align: top;\n",
       "    }\n",
       "\n",
       "    .dataframe thead th {\n",
       "        text-align: right;\n",
       "    }\n",
       "</style>\n",
       "<table border=\"1\" class=\"dataframe\">\n",
       "  <thead>\n",
       "    <tr style=\"text-align: right;\">\n",
       "      <th></th>\n",
       "      <th>sex</th>\n",
       "    </tr>\n",
       "  </thead>\n",
       "  <tbody>\n",
       "  </tbody>\n",
       "</table>\n",
       "</div>"
      ],
      "text/plain": [
       "Empty DataFrame\n",
       "Columns: [sex]\n",
       "Index: []"
      ]
     },
     "execution_count": 154,
     "metadata": {},
     "output_type": "execute_result"
    }
   ],
   "source": [
    "q1=df['sex'].quantile(0.25)\n",
    "q2=df['sex'].quantile(0.50)\n",
    "q3=df['sex'].quantile(0.75)\n",
    "\n",
    "iqr=q3-q1\n",
    "\n",
    "upper_tail=q3+1.5*iqr\n",
    "lower_tail=q1-1.5*iqr\n",
    "\n",
    "print(\"upper_tail:\",upper_tail)\n",
    "print(\"lower_tail:\",lower_tail)\n",
    "    \n",
    "df[['sex']].loc[(df['sex']>upper_tail)|(df['sex']<lower_tail)]  # outliers are detected in sex column"
   ]
  },
  {
   "cell_type": "code",
   "execution_count": 160,
   "id": "f283369f",
   "metadata": {},
   "outputs": [
    {
     "name": "stdout",
     "output_type": "stream",
     "text": [
      "upper_tail: 47.290000000000006\n",
      "lower_tail: 13.7\n"
     ]
    },
    {
     "data": {
      "text/html": [
       "<div>\n",
       "<style scoped>\n",
       "    .dataframe tbody tr th:only-of-type {\n",
       "        vertical-align: middle;\n",
       "    }\n",
       "\n",
       "    .dataframe tbody tr th {\n",
       "        vertical-align: top;\n",
       "    }\n",
       "\n",
       "    .dataframe thead th {\n",
       "        text-align: right;\n",
       "    }\n",
       "</style>\n",
       "<table border=\"1\" class=\"dataframe\">\n",
       "  <thead>\n",
       "    <tr style=\"text-align: right;\">\n",
       "      <th></th>\n",
       "      <th>bmi</th>\n",
       "    </tr>\n",
       "  </thead>\n",
       "  <tbody>\n",
       "  </tbody>\n",
       "</table>\n",
       "</div>"
      ],
      "text/plain": [
       "Empty DataFrame\n",
       "Columns: [bmi]\n",
       "Index: []"
      ]
     },
     "execution_count": 160,
     "metadata": {},
     "output_type": "execute_result"
    }
   ],
   "source": [
    "q1=df['bmi'].quantile(0.25)\n",
    "q2=df['bmi'].quantile(0.50)\n",
    "q3=df['bmi'].quantile(0.75)\n",
    "\n",
    "iqr=q3-q1\n",
    "\n",
    "upper_tail=q3+1.5*iqr\n",
    "lower_tail=q1-1.5*iqr\n",
    "\n",
    "print(\"upper_tail:\",upper_tail)\n",
    "print(\"lower_tail:\",lower_tail)\n",
    "    \n",
    "df[['bmi']].loc[(df['bmi']>upper_tail)|(df['bmi']<lower_tail)]  # outliers are detected in bmi column"
   ]
  },
  {
   "cell_type": "code",
   "execution_count": 161,
   "id": "0db3af5b",
   "metadata": {},
   "outputs": [],
   "source": [
    "# we have to handele outliers \n",
    "# impute tech\n",
    "df.loc[(df['bmi']>upper_tail)|(df['bmi']<lower_tail),'bmi']=upper_tail\n"
   ]
  },
  {
   "cell_type": "code",
   "execution_count": 162,
   "id": "ae6d1fc1",
   "metadata": {},
   "outputs": [
    {
     "data": {
      "text/html": [
       "<div>\n",
       "<style scoped>\n",
       "    .dataframe tbody tr th:only-of-type {\n",
       "        vertical-align: middle;\n",
       "    }\n",
       "\n",
       "    .dataframe tbody tr th {\n",
       "        vertical-align: top;\n",
       "    }\n",
       "\n",
       "    .dataframe thead th {\n",
       "        text-align: right;\n",
       "    }\n",
       "</style>\n",
       "<table border=\"1\" class=\"dataframe\">\n",
       "  <thead>\n",
       "    <tr style=\"text-align: right;\">\n",
       "      <th></th>\n",
       "      <th>bmi</th>\n",
       "    </tr>\n",
       "  </thead>\n",
       "  <tbody>\n",
       "  </tbody>\n",
       "</table>\n",
       "</div>"
      ],
      "text/plain": [
       "Empty DataFrame\n",
       "Columns: [bmi]\n",
       "Index: []"
      ]
     },
     "execution_count": 162,
     "metadata": {},
     "output_type": "execute_result"
    }
   ],
   "source": [
    "df[['bmi']].loc[(df['bmi']>upper_tail)|(df['bmi']<lower_tail)] # checking for outliers after imputation"
   ]
  },
  {
   "cell_type": "code",
   "execution_count": 163,
   "id": "e9e2218c",
   "metadata": {},
   "outputs": [
    {
     "data": {
      "text/html": [
       "<div>\n",
       "<style scoped>\n",
       "    .dataframe tbody tr th:only-of-type {\n",
       "        vertical-align: middle;\n",
       "    }\n",
       "\n",
       "    .dataframe tbody tr th {\n",
       "        vertical-align: top;\n",
       "    }\n",
       "\n",
       "    .dataframe thead th {\n",
       "        text-align: right;\n",
       "    }\n",
       "</style>\n",
       "<table border=\"1\" class=\"dataframe\">\n",
       "  <thead>\n",
       "    <tr style=\"text-align: right;\">\n",
       "      <th></th>\n",
       "      <th>age</th>\n",
       "      <th>sex</th>\n",
       "      <th>bmi</th>\n",
       "      <th>children</th>\n",
       "      <th>smoker</th>\n",
       "      <th>charges</th>\n",
       "      <th>region_0</th>\n",
       "      <th>region_1</th>\n",
       "      <th>region_2</th>\n",
       "      <th>region_3</th>\n",
       "    </tr>\n",
       "  </thead>\n",
       "  <tbody>\n",
       "    <tr>\n",
       "      <th>count</th>\n",
       "      <td>1338.000000</td>\n",
       "      <td>1338.000000</td>\n",
       "      <td>1338.000000</td>\n",
       "      <td>1338.000000</td>\n",
       "      <td>1338.000000</td>\n",
       "      <td>1338.000000</td>\n",
       "      <td>1338.000000</td>\n",
       "      <td>1338.000000</td>\n",
       "      <td>1338.000000</td>\n",
       "      <td>1338.000000</td>\n",
       "    </tr>\n",
       "    <tr>\n",
       "      <th>mean</th>\n",
       "      <td>39.207025</td>\n",
       "      <td>0.505232</td>\n",
       "      <td>30.650034</td>\n",
       "      <td>1.094918</td>\n",
       "      <td>0.204783</td>\n",
       "      <td>13270.422265</td>\n",
       "      <td>0.272048</td>\n",
       "      <td>0.242900</td>\n",
       "      <td>0.242900</td>\n",
       "      <td>0.242152</td>\n",
       "    </tr>\n",
       "    <tr>\n",
       "      <th>std</th>\n",
       "      <td>14.049960</td>\n",
       "      <td>0.500160</td>\n",
       "      <td>6.056926</td>\n",
       "      <td>1.205493</td>\n",
       "      <td>0.403694</td>\n",
       "      <td>12110.011237</td>\n",
       "      <td>0.445181</td>\n",
       "      <td>0.428995</td>\n",
       "      <td>0.428995</td>\n",
       "      <td>0.428546</td>\n",
       "    </tr>\n",
       "    <tr>\n",
       "      <th>min</th>\n",
       "      <td>18.000000</td>\n",
       "      <td>0.000000</td>\n",
       "      <td>15.960000</td>\n",
       "      <td>0.000000</td>\n",
       "      <td>0.000000</td>\n",
       "      <td>1121.873900</td>\n",
       "      <td>0.000000</td>\n",
       "      <td>0.000000</td>\n",
       "      <td>0.000000</td>\n",
       "      <td>0.000000</td>\n",
       "    </tr>\n",
       "    <tr>\n",
       "      <th>25%</th>\n",
       "      <td>27.000000</td>\n",
       "      <td>0.000000</td>\n",
       "      <td>26.296250</td>\n",
       "      <td>0.000000</td>\n",
       "      <td>0.000000</td>\n",
       "      <td>4740.287150</td>\n",
       "      <td>0.000000</td>\n",
       "      <td>0.000000</td>\n",
       "      <td>0.000000</td>\n",
       "      <td>0.000000</td>\n",
       "    </tr>\n",
       "    <tr>\n",
       "      <th>50%</th>\n",
       "      <td>39.000000</td>\n",
       "      <td>1.000000</td>\n",
       "      <td>30.400000</td>\n",
       "      <td>1.000000</td>\n",
       "      <td>0.000000</td>\n",
       "      <td>9382.033000</td>\n",
       "      <td>0.000000</td>\n",
       "      <td>0.000000</td>\n",
       "      <td>0.000000</td>\n",
       "      <td>0.000000</td>\n",
       "    </tr>\n",
       "    <tr>\n",
       "      <th>75%</th>\n",
       "      <td>51.000000</td>\n",
       "      <td>1.000000</td>\n",
       "      <td>34.693750</td>\n",
       "      <td>2.000000</td>\n",
       "      <td>0.000000</td>\n",
       "      <td>16639.912515</td>\n",
       "      <td>1.000000</td>\n",
       "      <td>0.000000</td>\n",
       "      <td>0.000000</td>\n",
       "      <td>0.000000</td>\n",
       "    </tr>\n",
       "    <tr>\n",
       "      <th>max</th>\n",
       "      <td>64.000000</td>\n",
       "      <td>1.000000</td>\n",
       "      <td>47.290000</td>\n",
       "      <td>5.000000</td>\n",
       "      <td>1.000000</td>\n",
       "      <td>63770.428010</td>\n",
       "      <td>1.000000</td>\n",
       "      <td>1.000000</td>\n",
       "      <td>1.000000</td>\n",
       "      <td>1.000000</td>\n",
       "    </tr>\n",
       "  </tbody>\n",
       "</table>\n",
       "</div>"
      ],
      "text/plain": [
       "               age          sex          bmi     children       smoker  \\\n",
       "count  1338.000000  1338.000000  1338.000000  1338.000000  1338.000000   \n",
       "mean     39.207025     0.505232    30.650034     1.094918     0.204783   \n",
       "std      14.049960     0.500160     6.056926     1.205493     0.403694   \n",
       "min      18.000000     0.000000    15.960000     0.000000     0.000000   \n",
       "25%      27.000000     0.000000    26.296250     0.000000     0.000000   \n",
       "50%      39.000000     1.000000    30.400000     1.000000     0.000000   \n",
       "75%      51.000000     1.000000    34.693750     2.000000     0.000000   \n",
       "max      64.000000     1.000000    47.290000     5.000000     1.000000   \n",
       "\n",
       "            charges     region_0     region_1     region_2     region_3  \n",
       "count   1338.000000  1338.000000  1338.000000  1338.000000  1338.000000  \n",
       "mean   13270.422265     0.272048     0.242900     0.242900     0.242152  \n",
       "std    12110.011237     0.445181     0.428995     0.428995     0.428546  \n",
       "min     1121.873900     0.000000     0.000000     0.000000     0.000000  \n",
       "25%     4740.287150     0.000000     0.000000     0.000000     0.000000  \n",
       "50%     9382.033000     0.000000     0.000000     0.000000     0.000000  \n",
       "75%    16639.912515     1.000000     0.000000     0.000000     0.000000  \n",
       "max    63770.428010     1.000000     1.000000     1.000000     1.000000  "
      ]
     },
     "execution_count": 163,
     "metadata": {},
     "output_type": "execute_result"
    }
   ],
   "source": [
    "df.describe()"
   ]
  },
  {
   "cell_type": "code",
   "execution_count": 164,
   "id": "30fb757a",
   "metadata": {},
   "outputs": [
    {
     "data": {
      "text/plain": [
       "<AxesSubplot:xlabel='children'>"
      ]
     },
     "execution_count": 164,
     "metadata": {},
     "output_type": "execute_result"
    },
    {
     "data": {
      "image/png": "[encoded data removed]",
      "text/plain": [
       "<Figure size 640x480 with 1 Axes>"
      ]
     },
     "metadata": {},
     "output_type": "display_data"
    }
   ],
   "source": [
    "sns.boxplot(x=df['children']) # no outliers in children column"
   ]
  },
  {
   "cell_type": "markdown",
   "id": "c4a57fdf",
   "metadata": {},
   "source": [
    "## smoker column"
   ]
  },
  {
   "cell_type": "code",
   "execution_count": 165,
   "id": "44f3243b",
   "metadata": {},
   "outputs": [],
   "source": [
    "# we have encoded this column"
   ]
  },
  {
   "cell_type": "markdown",
   "id": "421aa81a",
   "metadata": {},
   "source": [
    "## region column"
   ]
  },
  {
   "cell_type": "code",
   "execution_count": 166,
   "id": "909b06c4",
   "metadata": {},
   "outputs": [],
   "source": [
    "# we have encoded column"
   ]
  },
  {
   "cell_type": "markdown",
   "id": "fbc8fddc",
   "metadata": {},
   "source": [
    "## charges column"
   ]
  },
  {
   "cell_type": "code",
   "execution_count": 167,
   "id": "2d71e177",
   "metadata": {},
   "outputs": [],
   "source": [
    "# this is dependent column \n",
    "# so we are not handling outliers first we will check accuracy then we will handle"
   ]
  },
  {
   "cell_type": "code",
   "execution_count": 168,
   "id": "7be16b10",
   "metadata": {},
   "outputs": [
    {
     "data": {
      "text/plain": [
       "<AxesSubplot:xlabel='charges'>"
      ]
     },
     "execution_count": 168,
     "metadata": {},
     "output_type": "execute_result"
    },
    {
     "data": {
      "image/png": "[encoded data removed]",
      "text/plain": [
       "<Figure size 640x480 with 1 Axes>"
      ]
     },
     "metadata": {},
     "output_type": "display_data"
    }
   ],
   "source": [
    "sns.boxplot(df['charges'])"
   ]
  },
  {
   "cell_type": "code",
   "execution_count": 169,
   "id": "05800f2a",
   "metadata": {},
   "outputs": [
    {
     "name": "stdout",
     "output_type": "stream",
     "text": [
      "<class 'pandas.core.frame.DataFrame'>\n",
      "RangeIndex: 1338 entries, 0 to 1337\n",
      "Data columns (total 10 columns):\n",
      " #   Column    Non-Null Count  Dtype  \n",
      "---  ------    --------------  -----  \n",
      " 0   age       1338 non-null   int64  \n",
      " 1   sex       1338 non-null   int64  \n",
      " 2   bmi       1338 non-null   float64\n",
      " 3   children  1338 non-null   int64  \n",
      " 4   smoker    1338 non-null   int64  \n",
      " 5   charges   1338 non-null   float64\n",
      " 6   region_0  1338 non-null   uint8  \n",
      " 7   region_1  1338 non-null   uint8  \n",
      " 8   region_2  1338 non-null   uint8  \n",
      " 9   region_3  1338 non-null   uint8  \n",
      "dtypes: float64(2), int64(4), uint8(4)\n",
      "memory usage: 68.1 KB\n"
     ]
    }
   ],
   "source": [
    "df.info()"
   ]
  },
  {
   "cell_type": "markdown",
   "id": "c523308b",
   "metadata": {},
   "source": [
    "# 5. feature selection"
   ]
  },
  {
   "cell_type": "code",
   "execution_count": 170,
   "id": "3c22fc92",
   "metadata": {},
   "outputs": [
    {
     "data": {
      "text/html": [
       "<div>\n",
       "<style scoped>\n",
       "    .dataframe tbody tr th:only-of-type {\n",
       "        vertical-align: middle;\n",
       "    }\n",
       "\n",
       "    .dataframe tbody tr th {\n",
       "        vertical-align: top;\n",
       "    }\n",
       "\n",
       "    .dataframe thead th {\n",
       "        text-align: right;\n",
       "    }\n",
       "</style>\n",
       "<table border=\"1\" class=\"dataframe\">\n",
       "  <thead>\n",
       "    <tr style=\"text-align: right;\">\n",
       "      <th></th>\n",
       "      <th>age</th>\n",
       "      <th>sex</th>\n",
       "      <th>bmi</th>\n",
       "      <th>children</th>\n",
       "      <th>smoker</th>\n",
       "      <th>charges</th>\n",
       "      <th>region_0</th>\n",
       "      <th>region_1</th>\n",
       "      <th>region_2</th>\n",
       "      <th>region_3</th>\n",
       "    </tr>\n",
       "  </thead>\n",
       "  <tbody>\n",
       "    <tr>\n",
       "      <th>charges</th>\n",
       "      <td>0.299008</td>\n",
       "      <td>0.057292</td>\n",
       "      <td>0.198997</td>\n",
       "      <td>0.067998</td>\n",
       "      <td>0.787251</td>\n",
       "      <td>1.0</td>\n",
       "      <td>0.073982</td>\n",
       "      <td>-0.04321</td>\n",
       "      <td>-0.039905</td>\n",
       "      <td>0.006349</td>\n",
       "    </tr>\n",
       "  </tbody>\n",
       "</table>\n",
       "</div>"
      ],
      "text/plain": [
       "              age       sex       bmi  children    smoker  charges  region_0  \\\n",
       "charges  0.299008  0.057292  0.198997  0.067998  0.787251      1.0  0.073982   \n",
       "\n",
       "         region_1  region_2  region_3  \n",
       "charges  -0.04321 -0.039905  0.006349  "
      ]
     },
     "execution_count": 170,
     "metadata": {},
     "output_type": "execute_result"
    }
   ],
   "source": [
    "df.corr().loc[[\"charges\"]]"
   ]
  },
  {
   "cell_type": "code",
   "execution_count": 171,
   "id": "efc3243e",
   "metadata": {},
   "outputs": [
    {
     "data": {
      "text/plain": [
       "<AxesSubplot:>"
      ]
     },
     "execution_count": 171,
     "metadata": {},
     "output_type": "execute_result"
    },
    {
     "data": {
      "image/png": "[encoded data removed]",
      "text/plain": [
       "<Figure size 640x480 with 2 Axes>"
      ]
     },
     "metadata": {},
     "output_type": "display_data"
    }
   ],
   "source": [
    "sns.heatmap(df.corr().loc[[\"charges\"]])"
   ]
  },
  {
   "cell_type": "markdown",
   "id": "d8124999",
   "metadata": {},
   "source": [
    "# 6 .model building"
   ]
  },
  {
   "cell_type": "code",
   "execution_count": 172,
   "id": "8ed8a968",
   "metadata": {},
   "outputs": [],
   "source": [
    "# first we have to split the data as training and testing data"
   ]
  },
  {
   "cell_type": "code",
   "execution_count": 173,
   "id": "d9f9a16a",
   "metadata": {},
   "outputs": [],
   "source": [
    "x=df.drop(\"charges\",axis=1)\n",
    "y=df['charges']\n"
   ]
  },
  {
   "cell_type": "code",
   "execution_count": 174,
   "id": "ff421e1f",
   "metadata": {},
   "outputs": [],
   "source": [
    "# to split data we have to import train_test_split"
   ]
  },
  {
   "cell_type": "code",
   "execution_count": 175,
   "id": "e31d5415",
   "metadata": {},
   "outputs": [],
   "source": [
    "x_train,x_test,y_train,y_test=train_test_split(x,y,test_size=0.2,random_state=10)"
   ]
  },
  {
   "cell_type": "code",
   "execution_count": 176,
   "id": "8047af37",
   "metadata": {},
   "outputs": [
    {
     "data": {
      "text/html": [
       "<div>\n",
       "<style scoped>\n",
       "    .dataframe tbody tr th:only-of-type {\n",
       "        vertical-align: middle;\n",
       "    }\n",
       "\n",
       "    .dataframe tbody tr th {\n",
       "        vertical-align: top;\n",
       "    }\n",
       "\n",
       "    .dataframe thead th {\n",
       "        text-align: right;\n",
       "    }\n",
       "</style>\n",
       "<table border=\"1\" class=\"dataframe\">\n",
       "  <thead>\n",
       "    <tr style=\"text-align: right;\">\n",
       "      <th></th>\n",
       "      <th>age</th>\n",
       "      <th>sex</th>\n",
       "      <th>bmi</th>\n",
       "      <th>children</th>\n",
       "      <th>smoker</th>\n",
       "      <th>region_0</th>\n",
       "      <th>region_1</th>\n",
       "      <th>region_2</th>\n",
       "      <th>region_3</th>\n",
       "    </tr>\n",
       "  </thead>\n",
       "  <tbody>\n",
       "    <tr>\n",
       "      <th>559</th>\n",
       "      <td>19</td>\n",
       "      <td>1</td>\n",
       "      <td>35.530</td>\n",
       "      <td>0</td>\n",
       "      <td>0</td>\n",
       "      <td>0</td>\n",
       "      <td>0</td>\n",
       "      <td>1</td>\n",
       "      <td>0</td>\n",
       "    </tr>\n",
       "    <tr>\n",
       "      <th>273</th>\n",
       "      <td>50</td>\n",
       "      <td>1</td>\n",
       "      <td>27.455</td>\n",
       "      <td>1</td>\n",
       "      <td>0</td>\n",
       "      <td>0</td>\n",
       "      <td>0</td>\n",
       "      <td>0</td>\n",
       "      <td>1</td>\n",
       "    </tr>\n",
       "    <tr>\n",
       "      <th>471</th>\n",
       "      <td>18</td>\n",
       "      <td>0</td>\n",
       "      <td>30.115</td>\n",
       "      <td>0</td>\n",
       "      <td>0</td>\n",
       "      <td>0</td>\n",
       "      <td>0</td>\n",
       "      <td>0</td>\n",
       "      <td>1</td>\n",
       "    </tr>\n",
       "    <tr>\n",
       "      <th>22</th>\n",
       "      <td>18</td>\n",
       "      <td>1</td>\n",
       "      <td>34.100</td>\n",
       "      <td>0</td>\n",
       "      <td>0</td>\n",
       "      <td>1</td>\n",
       "      <td>0</td>\n",
       "      <td>0</td>\n",
       "      <td>0</td>\n",
       "    </tr>\n",
       "    <tr>\n",
       "      <th>939</th>\n",
       "      <td>53</td>\n",
       "      <td>1</td>\n",
       "      <td>29.480</td>\n",
       "      <td>0</td>\n",
       "      <td>0</td>\n",
       "      <td>1</td>\n",
       "      <td>0</td>\n",
       "      <td>0</td>\n",
       "      <td>0</td>\n",
       "    </tr>\n",
       "    <tr>\n",
       "      <th>...</th>\n",
       "      <td>...</td>\n",
       "      <td>...</td>\n",
       "      <td>...</td>\n",
       "      <td>...</td>\n",
       "      <td>...</td>\n",
       "      <td>...</td>\n",
       "      <td>...</td>\n",
       "      <td>...</td>\n",
       "      <td>...</td>\n",
       "    </tr>\n",
       "    <tr>\n",
       "      <th>1180</th>\n",
       "      <td>42</td>\n",
       "      <td>0</td>\n",
       "      <td>41.325</td>\n",
       "      <td>1</td>\n",
       "      <td>0</td>\n",
       "      <td>0</td>\n",
       "      <td>0</td>\n",
       "      <td>0</td>\n",
       "      <td>1</td>\n",
       "    </tr>\n",
       "    <tr>\n",
       "      <th>1147</th>\n",
       "      <td>20</td>\n",
       "      <td>0</td>\n",
       "      <td>31.920</td>\n",
       "      <td>0</td>\n",
       "      <td>0</td>\n",
       "      <td>0</td>\n",
       "      <td>0</td>\n",
       "      <td>1</td>\n",
       "      <td>0</td>\n",
       "    </tr>\n",
       "    <tr>\n",
       "      <th>527</th>\n",
       "      <td>51</td>\n",
       "      <td>0</td>\n",
       "      <td>25.800</td>\n",
       "      <td>1</td>\n",
       "      <td>0</td>\n",
       "      <td>0</td>\n",
       "      <td>1</td>\n",
       "      <td>0</td>\n",
       "      <td>0</td>\n",
       "    </tr>\n",
       "    <tr>\n",
       "      <th>1149</th>\n",
       "      <td>42</td>\n",
       "      <td>1</td>\n",
       "      <td>34.100</td>\n",
       "      <td>0</td>\n",
       "      <td>0</td>\n",
       "      <td>0</td>\n",
       "      <td>1</td>\n",
       "      <td>0</td>\n",
       "      <td>0</td>\n",
       "    </tr>\n",
       "    <tr>\n",
       "      <th>1289</th>\n",
       "      <td>44</td>\n",
       "      <td>1</td>\n",
       "      <td>34.320</td>\n",
       "      <td>1</td>\n",
       "      <td>0</td>\n",
       "      <td>1</td>\n",
       "      <td>0</td>\n",
       "      <td>0</td>\n",
       "      <td>0</td>\n",
       "    </tr>\n",
       "  </tbody>\n",
       "</table>\n",
       "<p>1070 rows × 9 columns</p>\n",
       "</div>"
      ],
      "text/plain": [
       "      age  sex     bmi  children  smoker  region_0  region_1  region_2  \\\n",
       "559    19    1  35.530         0       0         0         0         1   \n",
       "273    50    1  27.455         1       0         0         0         0   \n",
       "471    18    0  30.115         0       0         0         0         0   \n",
       "22     18    1  34.100         0       0         1         0         0   \n",
       "939    53    1  29.480         0       0         1         0         0   \n",
       "...   ...  ...     ...       ...     ...       ...       ...       ...   \n",
       "1180   42    0  41.325         1       0         0         0         0   \n",
       "1147   20    0  31.920         0       0         0         0         1   \n",
       "527    51    0  25.800         1       0         0         1         0   \n",
       "1149   42    1  34.100         0       0         0         1         0   \n",
       "1289   44    1  34.320         1       0         1         0         0   \n",
       "\n",
       "      region_3  \n",
       "559          0  \n",
       "273          1  \n",
       "471          1  \n",
       "22           0  \n",
       "939          0  \n",
       "...        ...  \n",
       "1180         1  \n",
       "1147         0  \n",
       "527          0  \n",
       "1149         0  \n",
       "1289         0  \n",
       "\n",
       "[1070 rows x 9 columns]"
      ]
     },
     "execution_count": 176,
     "metadata": {},
     "output_type": "execute_result"
    }
   ],
   "source": [
    "x_train"
   ]
  },
  {
   "cell_type": "code",
   "execution_count": 177,
   "id": "3d55c98f",
   "metadata": {},
   "outputs": [
    {
     "data": {
      "text/html": [
       "<div>\n",
       "<style scoped>\n",
       "    .dataframe tbody tr th:only-of-type {\n",
       "        vertical-align: middle;\n",
       "    }\n",
       "\n",
       "    .dataframe tbody tr th {\n",
       "        vertical-align: top;\n",
       "    }\n",
       "\n",
       "    .dataframe thead th {\n",
       "        text-align: right;\n",
       "    }\n",
       "</style>\n",
       "<table border=\"1\" class=\"dataframe\">\n",
       "  <thead>\n",
       "    <tr style=\"text-align: right;\">\n",
       "      <th></th>\n",
       "      <th>age</th>\n",
       "      <th>sex</th>\n",
       "      <th>bmi</th>\n",
       "      <th>children</th>\n",
       "      <th>smoker</th>\n",
       "      <th>region_0</th>\n",
       "      <th>region_1</th>\n",
       "      <th>region_2</th>\n",
       "      <th>region_3</th>\n",
       "    </tr>\n",
       "  </thead>\n",
       "  <tbody>\n",
       "    <tr>\n",
       "      <th>7</th>\n",
       "      <td>37</td>\n",
       "      <td>0</td>\n",
       "      <td>27.740</td>\n",
       "      <td>3</td>\n",
       "      <td>0</td>\n",
       "      <td>0</td>\n",
       "      <td>0</td>\n",
       "      <td>1</td>\n",
       "      <td>0</td>\n",
       "    </tr>\n",
       "    <tr>\n",
       "      <th>999</th>\n",
       "      <td>36</td>\n",
       "      <td>0</td>\n",
       "      <td>26.885</td>\n",
       "      <td>0</td>\n",
       "      <td>0</td>\n",
       "      <td>0</td>\n",
       "      <td>0</td>\n",
       "      <td>1</td>\n",
       "      <td>0</td>\n",
       "    </tr>\n",
       "    <tr>\n",
       "      <th>1209</th>\n",
       "      <td>59</td>\n",
       "      <td>1</td>\n",
       "      <td>37.100</td>\n",
       "      <td>1</td>\n",
       "      <td>0</td>\n",
       "      <td>0</td>\n",
       "      <td>1</td>\n",
       "      <td>0</td>\n",
       "      <td>0</td>\n",
       "    </tr>\n",
       "    <tr>\n",
       "      <th>491</th>\n",
       "      <td>61</td>\n",
       "      <td>0</td>\n",
       "      <td>25.080</td>\n",
       "      <td>0</td>\n",
       "      <td>0</td>\n",
       "      <td>1</td>\n",
       "      <td>0</td>\n",
       "      <td>0</td>\n",
       "      <td>0</td>\n",
       "    </tr>\n",
       "    <tr>\n",
       "      <th>625</th>\n",
       "      <td>29</td>\n",
       "      <td>0</td>\n",
       "      <td>26.030</td>\n",
       "      <td>0</td>\n",
       "      <td>0</td>\n",
       "      <td>0</td>\n",
       "      <td>0</td>\n",
       "      <td>1</td>\n",
       "      <td>0</td>\n",
       "    </tr>\n",
       "    <tr>\n",
       "      <th>...</th>\n",
       "      <td>...</td>\n",
       "      <td>...</td>\n",
       "      <td>...</td>\n",
       "      <td>...</td>\n",
       "      <td>...</td>\n",
       "      <td>...</td>\n",
       "      <td>...</td>\n",
       "      <td>...</td>\n",
       "      <td>...</td>\n",
       "    </tr>\n",
       "    <tr>\n",
       "      <th>271</th>\n",
       "      <td>50</td>\n",
       "      <td>1</td>\n",
       "      <td>34.200</td>\n",
       "      <td>2</td>\n",
       "      <td>1</td>\n",
       "      <td>0</td>\n",
       "      <td>1</td>\n",
       "      <td>0</td>\n",
       "      <td>0</td>\n",
       "    </tr>\n",
       "    <tr>\n",
       "      <th>695</th>\n",
       "      <td>26</td>\n",
       "      <td>0</td>\n",
       "      <td>40.185</td>\n",
       "      <td>0</td>\n",
       "      <td>0</td>\n",
       "      <td>0</td>\n",
       "      <td>0</td>\n",
       "      <td>1</td>\n",
       "      <td>0</td>\n",
       "    </tr>\n",
       "    <tr>\n",
       "      <th>1039</th>\n",
       "      <td>19</td>\n",
       "      <td>1</td>\n",
       "      <td>27.265</td>\n",
       "      <td>2</td>\n",
       "      <td>0</td>\n",
       "      <td>0</td>\n",
       "      <td>0</td>\n",
       "      <td>1</td>\n",
       "      <td>0</td>\n",
       "    </tr>\n",
       "    <tr>\n",
       "      <th>323</th>\n",
       "      <td>57</td>\n",
       "      <td>1</td>\n",
       "      <td>40.945</td>\n",
       "      <td>0</td>\n",
       "      <td>0</td>\n",
       "      <td>0</td>\n",
       "      <td>0</td>\n",
       "      <td>0</td>\n",
       "      <td>1</td>\n",
       "    </tr>\n",
       "    <tr>\n",
       "      <th>835</th>\n",
       "      <td>42</td>\n",
       "      <td>1</td>\n",
       "      <td>35.970</td>\n",
       "      <td>2</td>\n",
       "      <td>0</td>\n",
       "      <td>1</td>\n",
       "      <td>0</td>\n",
       "      <td>0</td>\n",
       "      <td>0</td>\n",
       "    </tr>\n",
       "  </tbody>\n",
       "</table>\n",
       "<p>268 rows × 9 columns</p>\n",
       "</div>"
      ],
      "text/plain": [
       "      age  sex     bmi  children  smoker  region_0  region_1  region_2  \\\n",
       "7      37    0  27.740         3       0         0         0         1   \n",
       "999    36    0  26.885         0       0         0         0         1   \n",
       "1209   59    1  37.100         1       0         0         1         0   \n",
       "491    61    0  25.080         0       0         1         0         0   \n",
       "625    29    0  26.030         0       0         0         0         1   \n",
       "...   ...  ...     ...       ...     ...       ...       ...       ...   \n",
       "271    50    1  34.200         2       1         0         1         0   \n",
       "695    26    0  40.185         0       0         0         0         1   \n",
       "1039   19    1  27.265         2       0         0         0         1   \n",
       "323    57    1  40.945         0       0         0         0         0   \n",
       "835    42    1  35.970         2       0         1         0         0   \n",
       "\n",
       "      region_3  \n",
       "7            0  \n",
       "999          0  \n",
       "1209         0  \n",
       "491          0  \n",
       "625          0  \n",
       "...        ...  \n",
       "271          0  \n",
       "695          0  \n",
       "1039         0  \n",
       "323          1  \n",
       "835          0  \n",
       "\n",
       "[268 rows x 9 columns]"
      ]
     },
     "execution_count": 177,
     "metadata": {},
     "output_type": "execute_result"
    }
   ],
   "source": [
    "x_test"
   ]
  },
  {
   "cell_type": "code",
   "execution_count": 178,
   "id": "b37689ff",
   "metadata": {},
   "outputs": [
    {
     "data": {
      "text/plain": [
       "559     1646.42970\n",
       "273     9617.66245\n",
       "471     2203.47185\n",
       "22      1137.01100\n",
       "939     9487.64420\n",
       "           ...    \n",
       "1180    7650.77375\n",
       "1147    2261.56880\n",
       "527     9861.02500\n",
       "1149    5979.73100\n",
       "1289    7147.47280\n",
       "Name: charges, Length: 1070, dtype: float64"
      ]
     },
     "execution_count": 178,
     "metadata": {},
     "output_type": "execute_result"
    }
   ],
   "source": [
    "y_train"
   ]
  },
  {
   "cell_type": "code",
   "execution_count": 179,
   "id": "0d7a3db7",
   "metadata": {},
   "outputs": [
    {
     "data": {
      "text/plain": [
       "7        7281.50560\n",
       "999      5267.81815\n",
       "1209    12347.17200\n",
       "491     24513.09126\n",
       "625      3736.46470\n",
       "           ...     \n",
       "271     42856.83800\n",
       "695      3201.24515\n",
       "1039    22493.65964\n",
       "323     11566.30055\n",
       "835      7160.33030\n",
       "Name: charges, Length: 268, dtype: float64"
      ]
     },
     "execution_count": 179,
     "metadata": {},
     "output_type": "execute_result"
    }
   ],
   "source": [
    "y_test"
   ]
  },
  {
   "cell_type": "code",
   "execution_count": 180,
   "id": "fa6cd4aa",
   "metadata": {},
   "outputs": [],
   "source": [
    "## model training "
   ]
  },
  {
   "cell_type": "code",
   "execution_count": 181,
   "id": "832b1510",
   "metadata": {},
   "outputs": [],
   "source": [
    "model=LinearRegression()"
   ]
  },
  {
   "cell_type": "code",
   "execution_count": 182,
   "id": "48808f51",
   "metadata": {},
   "outputs": [
    {
     "data": {
      "text/plain": [
       "LinearRegression()"
      ]
     },
     "execution_count": 182,
     "metadata": {},
     "output_type": "execute_result"
    }
   ],
   "source": [
    "model.fit(x_train,y_train)"
   ]
  },
  {
   "cell_type": "markdown",
   "id": "ff707770",
   "metadata": {},
   "source": [
    "# 7 .model evaluation"
   ]
  },
  {
   "cell_type": "code",
   "execution_count": 183,
   "id": "89987543",
   "metadata": {},
   "outputs": [
    {
     "name": "stdout",
     "output_type": "stream",
     "text": [
      "MSE: 34978675.026358135\n",
      "RMSE: 5914.277219268482\n",
      "MAE: 4085.38551767666\n",
      "**************************************************\n",
      "R2_TRAIN: 0.7638073782288932\n"
     ]
    }
   ],
   "source": [
    "# evaluation for training data\n",
    "y_pred_train=model.predict(x_train)\n",
    "\n",
    "residual=y_train-y_pred_train\n",
    "# print(\"Residual:\",residual)\n",
    "\n",
    "mse=mean_squared_error(y_train,y_pred_train)\n",
    "rmse=np.sqrt(mse)\n",
    "mae=mean_absolute_error(y_train,y_pred_train)\n",
    "r2_train=r2_score(y_train,y_pred_train)\n",
    "print('MSE:',mse)\n",
    "print(\"RMSE:\",rmse)\n",
    "print(\"MAE:\",mae)\n",
    "print(\"*\"*50)\n",
    "print(\"R2_TRAIN:\",r2_train)\n",
    "\n"
   ]
  },
  {
   "cell_type": "code",
   "execution_count": 184,
   "id": "c636d2c3",
   "metadata": {},
   "outputs": [
    {
     "name": "stdout",
     "output_type": "stream",
     "text": [
      "MSE: 42749587.09823758\n",
      "RMSE: 6538.31683984782\n",
      "MAE: 4562.698409861136\n",
      "**************************************************\n",
      "R2_TEST: 0.695191626300778\n"
     ]
    }
   ],
   "source": [
    "# evaluation for testing data\n",
    "y_pred_test=model.predict(x_test)\n",
    "\n",
    "residual=y_test-y_pred_test\n",
    "# print(\"Residual:\",residual)\n",
    "\n",
    "mse=mean_squared_error(y_test,y_pred_test)\n",
    "rmse=np.sqrt(mse)\n",
    "mae=mean_absolute_error(y_test,y_pred_test)\n",
    "r2_test=r2_score(y_test,y_pred_test)\n",
    "print('MSE:',mse)\n",
    "print(\"RMSE:\",rmse)\n",
    "print(\"MAE:\",mae)\n",
    "print(\"*\"*50)\n",
    "print(\"R2_TEST:\",r2_test)\n",
    "\n"
   ]
  },
  {
   "cell_type": "code",
   "execution_count": null,
   "id": "289affd7",
   "metadata": {},
   "outputs": [],
   "source": [
    "# we will handle outliers( go to feature engg step)"
   ]
  },
  {
   "cell_type": "code",
   "execution_count": 185,
   "id": "39819a33",
   "metadata": {},
   "outputs": [
    {
     "name": "stdout",
     "output_type": "stream",
     "text": [
      "R2_TRAIN: 0.7638073782288932\n",
      "R2_TEST: 0.695191626300778\n"
     ]
    }
   ],
   "source": [
    "print(\"R2_TRAIN:\",r2_train)\n",
    "print(\"R2_TEST:\",r2_test)"
   ]
  },
  {
   "cell_type": "code",
   "execution_count": 186,
   "id": "e49685d6",
   "metadata": {},
   "outputs": [],
   "source": [
    "# model is underfitted training and testing accuracy are less"
   ]
  },
  {
   "cell_type": "code",
   "execution_count": 187,
   "id": "e5707c6a",
   "metadata": {},
   "outputs": [],
   "source": [
    "# so we will use regularisation to overcome underfitting condition"
   ]
  },
  {
   "cell_type": "markdown",
   "id": "0d1f6a2e",
   "metadata": {},
   "source": [
    "# Ridge regression"
   ]
  },
  {
   "cell_type": "code",
   "execution_count": 190,
   "id": "3ecd44cc",
   "metadata": {},
   "outputs": [],
   "source": [
    "ridge_model=Ridge(alpha=1.0)"
   ]
  },
  {
   "cell_type": "code",
   "execution_count": 191,
   "id": "26ee19e7",
   "metadata": {},
   "outputs": [
    {
     "data": {
      "text/plain": [
       "Ridge()"
      ]
     },
     "execution_count": 191,
     "metadata": {},
     "output_type": "execute_result"
    }
   ],
   "source": [
    "ridge_model.fit(x_train,y_train)"
   ]
  },
  {
   "cell_type": "code",
   "execution_count": 192,
   "id": "3a3c0d8d",
   "metadata": {},
   "outputs": [
    {
     "name": "stdout",
     "output_type": "stream",
     "text": [
      "MSE: 34981843.94158073\n",
      "RMSE: 5914.54511704668\n",
      "MAE: 4095.472506891412\n",
      "**************************************************\n",
      "R2_TRAIN: 0.7637859802086986\n"
     ]
    }
   ],
   "source": [
    "# evaluation for training data\n",
    "y_pred_train=ridge_model.predict(x_train)\n",
    "\n",
    "residual=y_train-y_pred_train\n",
    "# print(\"Residual:\",residual)\n",
    "\n",
    "mse=mean_squared_error(y_train,y_pred_train)\n",
    "rmse=np.sqrt(mse)\n",
    "mae=mean_absolute_error(y_train,y_pred_train)\n",
    "r2_train=r2_score(y_train,y_pred_train)\n",
    "print('MSE:',mse)\n",
    "print(\"RMSE:\",rmse)\n",
    "print(\"MAE:\",mae)\n",
    "print(\"*\"*50)\n",
    "print(\"R2_TRAIN:\",r2_train)\n"
   ]
  },
  {
   "cell_type": "code",
   "execution_count": 193,
   "id": "44e7ab92",
   "metadata": {},
   "outputs": [
    {
     "name": "stdout",
     "output_type": "stream",
     "text": [
      "MSE: 42689653.17389774\n",
      "RMSE: 6533.7319484271575\n",
      "MAE: 4567.848216754358\n",
      "**************************************************\n",
      "R2_TEST: 0.6956189605336317\n"
     ]
    }
   ],
   "source": [
    "# evaluation for testing data\n",
    "y_pred_test=ridge_model.predict(x_test)\n",
    "\n",
    "residual=y_test-y_pred_test\n",
    "# print(\"Residual:\",residual)\n",
    "\n",
    "mse=mean_squared_error(y_test,y_pred_test)\n",
    "rmse=np.sqrt(mse)\n",
    "mae=mean_absolute_error(y_test,y_pred_test)\n",
    "r2_test=r2_score(y_test,y_pred_test)\n",
    "print('MSE:',mse)\n",
    "print(\"RMSE:\",rmse)\n",
    "print(\"MAE:\",mae)\n",
    "print(\"*\"*50)\n",
    "print(\"R2_TEST:\",r2_test)\n",
    "\n"
   ]
  },
  {
   "cell_type": "markdown",
   "id": "18e52de3",
   "metadata": {},
   "source": [
    "# Lasso Regression"
   ]
  },
  {
   "cell_type": "code",
   "execution_count": 195,
   "id": "27a210b1",
   "metadata": {},
   "outputs": [
    {
     "data": {
      "text/plain": [
       "Lasso()"
      ]
     },
     "execution_count": 195,
     "metadata": {},
     "output_type": "execute_result"
    }
   ],
   "source": [
    "lasso_model=Lasso(alpha=1.0)\n",
    "lasso_model.fit(x_train,y_train)\n"
   ]
  },
  {
   "cell_type": "code",
   "execution_count": 196,
   "id": "329e23d7",
   "metadata": {},
   "outputs": [
    {
     "name": "stdout",
     "output_type": "stream",
     "text": [
      "MSE: 34978704.95454187\n",
      "RMSE: 5914.279749432037\n",
      "MAE: 4085.6832886951984\n",
      "**************************************************\n",
      "R2_TRAIN: 0.7638071761395866\n"
     ]
    }
   ],
   "source": [
    "# evaluation for training data\n",
    "y_pred_train=lasso_model.predict(x_train)\n",
    "\n",
    "residual=y_train-y_pred_train\n",
    "# print(\"Residual:\",residual)\n",
    "\n",
    "mse=mean_squared_error(y_train,y_pred_train)\n",
    "rmse=np.sqrt(mse)\n",
    "mae=mean_absolute_error(y_train,y_pred_train)\n",
    "r2_train=r2_score(y_train,y_pred_train)\n",
    "print('MSE:',mse)\n",
    "print(\"RMSE:\",rmse)\n",
    "print(\"MAE:\",mae)\n",
    "print(\"*\"*50)\n",
    "print(\"R2_TRAIN:\",r2_train)\n"
   ]
  },
  {
   "cell_type": "code",
   "execution_count": 197,
   "id": "3cf83e94",
   "metadata": {},
   "outputs": [
    {
     "name": "stdout",
     "output_type": "stream",
     "text": [
      "MSE: 42747876.89438434\n",
      "RMSE: 6538.186055350852\n",
      "MAE: 4562.815761120632\n",
      "**************************************************\n",
      "R2_TEST: 0.6952038202069788\n"
     ]
    }
   ],
   "source": [
    "# evaluation for testing data\n",
    "y_pred_test=lasso_model.predict(x_test)\n",
    "\n",
    "residual=y_test-y_pred_test\n",
    "# print(\"Residual:\",residual)\n",
    "\n",
    "mse=mean_squared_error(y_test,y_pred_test)\n",
    "rmse=np.sqrt(mse)\n",
    "mae=mean_absolute_error(y_test,y_pred_test)\n",
    "r2_test=r2_score(y_test,y_pred_test)\n",
    "print('MSE:',mse)\n",
    "print(\"RMSE:\",rmse)\n",
    "print(\"MAE:\",mae)\n",
    "print(\"*\"*50)\n",
    "print(\"R2_TEST:\",r2_test)\n"
   ]
  },
  {
   "cell_type": "code",
   "execution_count": null,
   "id": "d5f2b11c",
   "metadata": {},
   "outputs": [],
   "source": []
  },
  {
   "cell_type": "code",
   "execution_count": null,
   "id": "e5d67f72",
   "metadata": {},
   "outputs": [],
   "source": []
  },
  {
   "cell_type": "code",
   "execution_count": 194,
   "id": "728bb86d",
   "metadata": {},
   "outputs": [],
   "source": [
    "# we will find best value of alpha using hyperparameter tuning "
   ]
  },
  {
   "cell_type": "markdown",
   "id": "a7b47ffb",
   "metadata": {},
   "source": [
    "# Ridge Regression"
   ]
  },
  {
   "cell_type": "markdown",
   "id": "ebce4a1e",
   "metadata": {},
   "source": [
    "## 1. Gridsearchcv"
   ]
  },
  {
   "cell_type": "code",
   "execution_count": 204,
   "id": "90848261",
   "metadata": {},
   "outputs": [
    {
     "data": {
      "text/plain": [
       "Ridge()"
      ]
     },
     "execution_count": 204,
     "metadata": {},
     "output_type": "execute_result"
    }
   ],
   "source": [
    "param_grid={'alpha':np.arange(0.01,3,0.01)}\n",
    "ridge_model=Ridge()\n",
    "\n",
    "gscv_ridge_model=GridSearchCV(ridge_model,param_grid,n_jobs=-1)\n",
    "gscv_ridge_model.fit(x_train,y_train)\n",
    "gscv_ridge_model.best_estimator_"
   ]
  },
  {
   "cell_type": "code",
   "execution_count": null,
   "id": "b40d3ff3",
   "metadata": {},
   "outputs": [],
   "source": []
  }
 ],
 "metadata": {
  "kernelspec": {
   "display_name": "Python 3 (ipykernel)",
   "language": "python",
   "name": "python3"
  },
  "language_info": {
   "codemirror_mode": {
    "name": "ipython",
    "version": 3
   },
   "file_extension": ".py",
   "mimetype": "text/x-python",
   "name": "python",
   "nbconvert_exporter": "python",
   "pygments_lexer": "ipython3",
   "version": "3.9.13"
  }
 },
 "nbformat": 4,
 "nbformat_minor": 5
}
