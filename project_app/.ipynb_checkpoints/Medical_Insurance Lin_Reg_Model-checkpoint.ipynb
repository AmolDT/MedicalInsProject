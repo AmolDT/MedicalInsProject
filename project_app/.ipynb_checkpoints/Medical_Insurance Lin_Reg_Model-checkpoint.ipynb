{
 "cells": [
  {
   "cell_type": "markdown",
   "id": "f863aadf",
   "metadata": {},
   "source": [
    "# import libraries"
   ]
  },
  {
   "cell_type": "code",
   "execution_count": 235,
   "id": "dd27afe4",
   "metadata": {},
   "outputs": [],
   "source": [
    "import pandas as pd\n",
    "import numpy as np\n",
    "\n",
    "# visualization libararies\n",
    "import seaborn as sns\n",
    "import matplotlib.pyplot as plt\n",
    "from statsmodels.stats.outliers_influence import variance_inflation_factor\n",
    "\n",
    "from sklearn.model_selection import train_test_split,GridSearchCV,RandomizedSearchCV\n",
    "from sklearn.linear_model import LinearRegression,Ridge,Lasso\n",
    "\n",
    "from sklearn.metrics import mean_absolute_error,mean_squared_error,r2_score\n",
    "from scipy.stats import shapiro,kstest,normaltest,zscore,skew\n",
    "\n",
    "import pickle \n",
    "import json\n",
    "\n",
    "import warnings \n",
    "warnings.filterwarnings(\"ignore\")\n"
   ]
  },
  {
   "cell_type": "markdown",
   "id": "11298a52",
   "metadata": {},
   "source": [
    "# Problem Statement"
   ]
  },
  {
   "cell_type": "raw",
   "id": "f03baab0",
   "metadata": {},
   "source": [
    "predicting medical insurance considering regression problem using linear regression"
   ]
  },
  {
   "cell_type": "markdown",
   "id": "52c5607e",
   "metadata": {},
   "source": [
    "# Data Gathering"
   ]
  },
  {
   "cell_type": "code",
   "execution_count": 2,
   "id": "ebe546e7",
   "metadata": {},
   "outputs": [
    {
     "data": {
      "text/html": [
       "<div>\n",
       "<style scoped>\n",
       "    .dataframe tbody tr th:only-of-type {\n",
       "        vertical-align: middle;\n",
       "    }\n",
       "\n",
       "    .dataframe tbody tr th {\n",
       "        vertical-align: top;\n",
       "    }\n",
       "\n",
       "    .dataframe thead th {\n",
       "        text-align: right;\n",
       "    }\n",
       "</style>\n",
       "<table border=\"1\" class=\"dataframe\">\n",
       "  <thead>\n",
       "    <tr style=\"text-align: right;\">\n",
       "      <th></th>\n",
       "      <th>age</th>\n",
       "      <th>sex</th>\n",
       "      <th>bmi</th>\n",
       "      <th>children</th>\n",
       "      <th>smoker</th>\n",
       "      <th>region</th>\n",
       "      <th>charges</th>\n",
       "    </tr>\n",
       "  </thead>\n",
       "  <tbody>\n",
       "    <tr>\n",
       "      <th>0</th>\n",
       "      <td>19</td>\n",
       "      <td>female</td>\n",
       "      <td>27.900</td>\n",
       "      <td>0</td>\n",
       "      <td>yes</td>\n",
       "      <td>southwest</td>\n",
       "      <td>16884.92400</td>\n",
       "    </tr>\n",
       "    <tr>\n",
       "      <th>1</th>\n",
       "      <td>18</td>\n",
       "      <td>male</td>\n",
       "      <td>33.770</td>\n",
       "      <td>1</td>\n",
       "      <td>no</td>\n",
       "      <td>southeast</td>\n",
       "      <td>1725.55230</td>\n",
       "    </tr>\n",
       "    <tr>\n",
       "      <th>2</th>\n",
       "      <td>28</td>\n",
       "      <td>male</td>\n",
       "      <td>33.000</td>\n",
       "      <td>3</td>\n",
       "      <td>no</td>\n",
       "      <td>southeast</td>\n",
       "      <td>4449.46200</td>\n",
       "    </tr>\n",
       "    <tr>\n",
       "      <th>3</th>\n",
       "      <td>33</td>\n",
       "      <td>male</td>\n",
       "      <td>22.705</td>\n",
       "      <td>0</td>\n",
       "      <td>no</td>\n",
       "      <td>northwest</td>\n",
       "      <td>21984.47061</td>\n",
       "    </tr>\n",
       "    <tr>\n",
       "      <th>4</th>\n",
       "      <td>32</td>\n",
       "      <td>male</td>\n",
       "      <td>28.880</td>\n",
       "      <td>0</td>\n",
       "      <td>no</td>\n",
       "      <td>northwest</td>\n",
       "      <td>3866.85520</td>\n",
       "    </tr>\n",
       "    <tr>\n",
       "      <th>...</th>\n",
       "      <td>...</td>\n",
       "      <td>...</td>\n",
       "      <td>...</td>\n",
       "      <td>...</td>\n",
       "      <td>...</td>\n",
       "      <td>...</td>\n",
       "      <td>...</td>\n",
       "    </tr>\n",
       "    <tr>\n",
       "      <th>1333</th>\n",
       "      <td>50</td>\n",
       "      <td>male</td>\n",
       "      <td>30.970</td>\n",
       "      <td>3</td>\n",
       "      <td>no</td>\n",
       "      <td>northwest</td>\n",
       "      <td>10600.54830</td>\n",
       "    </tr>\n",
       "    <tr>\n",
       "      <th>1334</th>\n",
       "      <td>18</td>\n",
       "      <td>female</td>\n",
       "      <td>31.920</td>\n",
       "      <td>0</td>\n",
       "      <td>no</td>\n",
       "      <td>northeast</td>\n",
       "      <td>2205.98080</td>\n",
       "    </tr>\n",
       "    <tr>\n",
       "      <th>1335</th>\n",
       "      <td>18</td>\n",
       "      <td>female</td>\n",
       "      <td>36.850</td>\n",
       "      <td>0</td>\n",
       "      <td>no</td>\n",
       "      <td>southeast</td>\n",
       "      <td>1629.83350</td>\n",
       "    </tr>\n",
       "    <tr>\n",
       "      <th>1336</th>\n",
       "      <td>21</td>\n",
       "      <td>female</td>\n",
       "      <td>25.800</td>\n",
       "      <td>0</td>\n",
       "      <td>no</td>\n",
       "      <td>southwest</td>\n",
       "      <td>2007.94500</td>\n",
       "    </tr>\n",
       "    <tr>\n",
       "      <th>1337</th>\n",
       "      <td>61</td>\n",
       "      <td>female</td>\n",
       "      <td>29.070</td>\n",
       "      <td>0</td>\n",
       "      <td>yes</td>\n",
       "      <td>northwest</td>\n",
       "      <td>29141.36030</td>\n",
       "    </tr>\n",
       "  </tbody>\n",
       "</table>\n",
       "<p>1338 rows × 7 columns</p>\n",
       "</div>"
      ],
      "text/plain": [
       "      age     sex     bmi  children smoker     region      charges\n",
       "0      19  female  27.900         0    yes  southwest  16884.92400\n",
       "1      18    male  33.770         1     no  southeast   1725.55230\n",
       "2      28    male  33.000         3     no  southeast   4449.46200\n",
       "3      33    male  22.705         0     no  northwest  21984.47061\n",
       "4      32    male  28.880         0     no  northwest   3866.85520\n",
       "...   ...     ...     ...       ...    ...        ...          ...\n",
       "1333   50    male  30.970         3     no  northwest  10600.54830\n",
       "1334   18  female  31.920         0     no  northeast   2205.98080\n",
       "1335   18  female  36.850         0     no  southeast   1629.83350\n",
       "1336   21  female  25.800         0     no  southwest   2007.94500\n",
       "1337   61  female  29.070         0    yes  northwest  29141.36030\n",
       "\n",
       "[1338 rows x 7 columns]"
      ]
     },
     "execution_count": 2,
     "metadata": {},
     "output_type": "execute_result"
    }
   ],
   "source": [
    "df=pd.read_csv('medical_insurance.csv')\n",
    "df"
   ]
  },
  {
   "cell_type": "markdown",
   "id": "34a1cb3b",
   "metadata": {},
   "source": [
    "# Exploratory data Analysis"
   ]
  },
  {
   "cell_type": "raw",
   "id": "dee5d241",
   "metadata": {},
   "source": [
    "checking missing values \n",
    "checking outliers \n",
    "checking whole information of data"
   ]
  },
  {
   "cell_type": "code",
   "execution_count": 3,
   "id": "348b8e54",
   "metadata": {},
   "outputs": [
    {
     "name": "stdout",
     "output_type": "stream",
     "text": [
      "<class 'pandas.core.frame.DataFrame'>\n",
      "RangeIndex: 1338 entries, 0 to 1337\n",
      "Data columns (total 7 columns):\n",
      " #   Column    Non-Null Count  Dtype  \n",
      "---  ------    --------------  -----  \n",
      " 0   age       1338 non-null   int64  \n",
      " 1   sex       1338 non-null   object \n",
      " 2   bmi       1338 non-null   float64\n",
      " 3   children  1338 non-null   int64  \n",
      " 4   smoker    1338 non-null   object \n",
      " 5   region    1338 non-null   object \n",
      " 6   charges   1338 non-null   float64\n",
      "dtypes: float64(2), int64(2), object(3)\n",
      "memory usage: 73.3+ KB\n"
     ]
    }
   ],
   "source": [
    "df.info()"
   ]
  },
  {
   "cell_type": "raw",
   "id": "09fa780f",
   "metadata": {},
   "source": [
    "On each column check missing values ,detect outliers are present or not"
   ]
  },
  {
   "cell_type": "code",
   "execution_count": 4,
   "id": "b05191c4",
   "metadata": {},
   "outputs": [],
   "source": [
    "# function for outliers detection\n",
    "def detect_outliers(column):\n",
    "    q1=df[column].quantile(0.25)\n",
    "    q2=df[column].quantile(0.50)\n",
    "    q3=df[column].quantile(0.75)\n",
    "\n",
    "    iqr=q3-q1\n",
    "\n",
    "    upper_tail=q3+1.5*iqr\n",
    "    lower_tail=q1-1.5*iqr\n",
    "\n",
    "    print(\"upper_tail:\",upper_tail)\n",
    "    print(\"lower_tail:\",lower_tail)\n",
    "\n",
    "    outliers=df[[column]].loc[(df[column]>upper_tail)|(df[column]<lower_tail)]\n",
    "    sns.boxplot(df[column])\n",
    "    return outliers\n",
    "    "
   ]
  },
  {
   "cell_type": "code",
   "execution_count": 17,
   "id": "220639f8",
   "metadata": {},
   "outputs": [],
   "source": [
    "def missing_values(column):\n",
    "    miss_values=df[column].isna().sum()\n",
    "    return \"Missing values are\",miss_values\n",
    "    "
   ]
  },
  {
   "cell_type": "markdown",
   "id": "38d682f3",
   "metadata": {},
   "source": [
    "### 1.age"
   ]
  },
  {
   "cell_type": "code",
   "execution_count": 18,
   "id": "4fe702f8",
   "metadata": {},
   "outputs": [
    {
     "data": {
      "text/plain": [
       "dtype('int64')"
      ]
     },
     "execution_count": 18,
     "metadata": {},
     "output_type": "execute_result"
    }
   ],
   "source": [
    "df['age'].dtype"
   ]
  },
  {
   "cell_type": "code",
   "execution_count": 19,
   "id": "386a61c9",
   "metadata": {},
   "outputs": [
    {
     "data": {
      "text/plain": [
       "('Missing values are', 0)"
      ]
     },
     "execution_count": 19,
     "metadata": {},
     "output_type": "execute_result"
    }
   ],
   "source": [
    "missing_values('age')"
   ]
  },
  {
   "cell_type": "code",
   "execution_count": 7,
   "id": "b08a5582",
   "metadata": {},
   "outputs": [
    {
     "name": "stdout",
     "output_type": "stream",
     "text": [
      "upper_tail: 87.0\n",
      "lower_tail: -9.0\n"
     ]
    },
    {
     "data": {
      "text/html": [
       "<div>\n",
       "<style scoped>\n",
       "    .dataframe tbody tr th:only-of-type {\n",
       "        vertical-align: middle;\n",
       "    }\n",
       "\n",
       "    .dataframe tbody tr th {\n",
       "        vertical-align: top;\n",
       "    }\n",
       "\n",
       "    .dataframe thead th {\n",
       "        text-align: right;\n",
       "    }\n",
       "</style>\n",
       "<table border=\"1\" class=\"dataframe\">\n",
       "  <thead>\n",
       "    <tr style=\"text-align: right;\">\n",
       "      <th></th>\n",
       "      <th>age</th>\n",
       "    </tr>\n",
       "  </thead>\n",
       "  <tbody>\n",
       "  </tbody>\n",
       "</table>\n",
       "</div>"
      ],
      "text/plain": [
       "Empty DataFrame\n",
       "Columns: [age]\n",
       "Index: []"
      ]
     },
     "execution_count": 7,
     "metadata": {},
     "output_type": "execute_result"
    },
    {
     "data": {
      "image/png": "[encoded data removed]",
      "text/plain": [
       "<Figure size 640x480 with 1 Axes>"
      ]
     },
     "metadata": {},
     "output_type": "display_data"
    }
   ],
   "source": [
    "detect_outliers(\"age\")"
   ]
  },
  {
   "cell_type": "markdown",
   "id": "e1e072b8",
   "metadata": {},
   "source": [
    "### 2.sex"
   ]
  },
  {
   "cell_type": "code",
   "execution_count": 20,
   "id": "ce1a0a65",
   "metadata": {},
   "outputs": [
    {
     "data": {
      "text/plain": [
       "('Missing values are', 0)"
      ]
     },
     "execution_count": 20,
     "metadata": {},
     "output_type": "execute_result"
    }
   ],
   "source": [
    "missing_values('sex')"
   ]
  },
  {
   "cell_type": "code",
   "execution_count": 10,
   "id": "25565a24",
   "metadata": {},
   "outputs": [
    {
     "data": {
      "text/plain": [
       "dtype('O')"
      ]
     },
     "execution_count": 10,
     "metadata": {},
     "output_type": "execute_result"
    }
   ],
   "source": [
    "df['sex'].dtype # object dtype \n",
    "\n",
    "# we have to convert into int or float"
   ]
  },
  {
   "cell_type": "code",
   "execution_count": 21,
   "id": "406a92c7",
   "metadata": {},
   "outputs": [
    {
     "data": {
      "text/plain": [
       "male      676\n",
       "female    662\n",
       "Name: sex, dtype: int64"
      ]
     },
     "execution_count": 21,
     "metadata": {},
     "output_type": "execute_result"
    }
   ],
   "source": [
    "df['sex'].value_counts()"
   ]
  },
  {
   "cell_type": "code",
   "execution_count": 23,
   "id": "936092f3",
   "metadata": {},
   "outputs": [
    {
     "data": {
      "text/plain": [
       "{'male': 676, 'female': 662}"
      ]
     },
     "execution_count": 23,
     "metadata": {},
     "output_type": "execute_result"
    }
   ],
   "source": [
    "df['sex'].value_counts().to_dict()"
   ]
  },
  {
   "cell_type": "code",
   "execution_count": 28,
   "id": "0f8361c0",
   "metadata": {},
   "outputs": [
    {
     "data": {
      "text/plain": [
       "dtype('int64')"
      ]
     },
     "execution_count": 28,
     "metadata": {},
     "output_type": "execute_result"
    }
   ],
   "source": [
    "df['sex'].replace({'male': 1, 'female': 0},inplace=True)\n",
    "df['sex'].dtype"
   ]
  },
  {
   "cell_type": "code",
   "execution_count": 30,
   "id": "226f6710",
   "metadata": {},
   "outputs": [
    {
     "name": "stdout",
     "output_type": "stream",
     "text": [
      "<class 'pandas.core.frame.DataFrame'>\n",
      "RangeIndex: 1338 entries, 0 to 1337\n",
      "Data columns (total 7 columns):\n",
      " #   Column    Non-Null Count  Dtype  \n",
      "---  ------    --------------  -----  \n",
      " 0   age       1338 non-null   int64  \n",
      " 1   sex       1338 non-null   int64  \n",
      " 2   bmi       1338 non-null   float64\n",
      " 3   children  1338 non-null   int64  \n",
      " 4   smoker    1338 non-null   object \n",
      " 5   region    1338 non-null   object \n",
      " 6   charges   1338 non-null   float64\n",
      "dtypes: float64(2), int64(3), object(2)\n",
      "memory usage: 73.3+ KB\n"
     ]
    }
   ],
   "source": [
    "df.info()"
   ]
  },
  {
   "cell_type": "code",
   "execution_count": 33,
   "id": "2e2f546e",
   "metadata": {},
   "outputs": [
    {
     "data": {
      "text/plain": [
       "0"
      ]
     },
     "execution_count": 33,
     "metadata": {},
     "output_type": "execute_result"
    }
   ],
   "source": [
    "df['sex'].isna().sum()"
   ]
  },
  {
   "cell_type": "code",
   "execution_count": 31,
   "id": "425b192c",
   "metadata": {},
   "outputs": [
    {
     "data": {
      "text/plain": [
       "1    676\n",
       "0    662\n",
       "Name: sex, dtype: int64"
      ]
     },
     "execution_count": 31,
     "metadata": {},
     "output_type": "execute_result"
    }
   ],
   "source": [
    "df['sex'].value_counts()"
   ]
  },
  {
   "cell_type": "code",
   "execution_count": 32,
   "id": "2b5e6c2f",
   "metadata": {},
   "outputs": [
    {
     "name": "stdout",
     "output_type": "stream",
     "text": [
      "upper_tail: 2.5\n",
      "lower_tail: -1.5\n"
     ]
    },
    {
     "data": {
      "text/html": [
       "<div>\n",
       "<style scoped>\n",
       "    .dataframe tbody tr th:only-of-type {\n",
       "        vertical-align: middle;\n",
       "    }\n",
       "\n",
       "    .dataframe tbody tr th {\n",
       "        vertical-align: top;\n",
       "    }\n",
       "\n",
       "    .dataframe thead th {\n",
       "        text-align: right;\n",
       "    }\n",
       "</style>\n",
       "<table border=\"1\" class=\"dataframe\">\n",
       "  <thead>\n",
       "    <tr style=\"text-align: right;\">\n",
       "      <th></th>\n",
       "      <th>sex</th>\n",
       "    </tr>\n",
       "  </thead>\n",
       "  <tbody>\n",
       "  </tbody>\n",
       "</table>\n",
       "</div>"
      ],
      "text/plain": [
       "Empty DataFrame\n",
       "Columns: [sex]\n",
       "Index: []"
      ]
     },
     "execution_count": 32,
     "metadata": {},
     "output_type": "execute_result"
    },
    {
     "data": {
      "image/png": "[encoded data removed]",
      "text/plain": [
       "<Figure size 640x480 with 1 Axes>"
      ]
     },
     "metadata": {},
     "output_type": "display_data"
    }
   ],
   "source": [
    "detect_outliers('sex')"
   ]
  },
  {
   "cell_type": "markdown",
   "id": "a57de0f5",
   "metadata": {},
   "source": [
    "### 3.bmi"
   ]
  },
  {
   "cell_type": "code",
   "execution_count": 35,
   "id": "ce0f091e",
   "metadata": {},
   "outputs": [
    {
     "data": {
      "text/plain": [
       "0"
      ]
     },
     "execution_count": 35,
     "metadata": {},
     "output_type": "execute_result"
    }
   ],
   "source": [
    "df['bmi'].isna().sum()"
   ]
  },
  {
   "cell_type": "code",
   "execution_count": 36,
   "id": "91f1b34f",
   "metadata": {},
   "outputs": [
    {
     "data": {
      "text/plain": [
       "32.300    13\n",
       "28.310     9\n",
       "30.495     8\n",
       "30.875     8\n",
       "31.350     8\n",
       "          ..\n",
       "46.200     1\n",
       "23.800     1\n",
       "44.770     1\n",
       "32.120     1\n",
       "30.970     1\n",
       "Name: bmi, Length: 548, dtype: int64"
      ]
     },
     "execution_count": 36,
     "metadata": {},
     "output_type": "execute_result"
    }
   ],
   "source": [
    "df['bmi'].value_counts()"
   ]
  },
  {
   "cell_type": "code",
   "execution_count": 38,
   "id": "fd384b61",
   "metadata": {},
   "outputs": [
    {
     "data": {
      "text/plain": [
       "dtype('float64')"
      ]
     },
     "execution_count": 38,
     "metadata": {},
     "output_type": "execute_result"
    }
   ],
   "source": [
    "df['bmi'].dtype"
   ]
  },
  {
   "cell_type": "code",
   "execution_count": 40,
   "id": "fffa05b4",
   "metadata": {},
   "outputs": [
    {
     "name": "stdout",
     "output_type": "stream",
     "text": [
      "upper_tail: 47.290000000000006\n",
      "lower_tail: 13.7\n"
     ]
    },
    {
     "data": {
      "text/html": [
       "<div>\n",
       "<style scoped>\n",
       "    .dataframe tbody tr th:only-of-type {\n",
       "        vertical-align: middle;\n",
       "    }\n",
       "\n",
       "    .dataframe tbody tr th {\n",
       "        vertical-align: top;\n",
       "    }\n",
       "\n",
       "    .dataframe thead th {\n",
       "        text-align: right;\n",
       "    }\n",
       "</style>\n",
       "<table border=\"1\" class=\"dataframe\">\n",
       "  <thead>\n",
       "    <tr style=\"text-align: right;\">\n",
       "      <th></th>\n",
       "      <th>bmi</th>\n",
       "    </tr>\n",
       "  </thead>\n",
       "  <tbody>\n",
       "    <tr>\n",
       "      <th>116</th>\n",
       "      <td>49.06</td>\n",
       "    </tr>\n",
       "    <tr>\n",
       "      <th>286</th>\n",
       "      <td>48.07</td>\n",
       "    </tr>\n",
       "    <tr>\n",
       "      <th>401</th>\n",
       "      <td>47.52</td>\n",
       "    </tr>\n",
       "    <tr>\n",
       "      <th>543</th>\n",
       "      <td>47.41</td>\n",
       "    </tr>\n",
       "    <tr>\n",
       "      <th>847</th>\n",
       "      <td>50.38</td>\n",
       "    </tr>\n",
       "    <tr>\n",
       "      <th>860</th>\n",
       "      <td>47.60</td>\n",
       "    </tr>\n",
       "    <tr>\n",
       "      <th>1047</th>\n",
       "      <td>52.58</td>\n",
       "    </tr>\n",
       "    <tr>\n",
       "      <th>1088</th>\n",
       "      <td>47.74</td>\n",
       "    </tr>\n",
       "    <tr>\n",
       "      <th>1317</th>\n",
       "      <td>53.13</td>\n",
       "    </tr>\n",
       "  </tbody>\n",
       "</table>\n",
       "</div>"
      ],
      "text/plain": [
       "        bmi\n",
       "116   49.06\n",
       "286   48.07\n",
       "401   47.52\n",
       "543   47.41\n",
       "847   50.38\n",
       "860   47.60\n",
       "1047  52.58\n",
       "1088  47.74\n",
       "1317  53.13"
      ]
     },
     "execution_count": 40,
     "metadata": {},
     "output_type": "execute_result"
    },
    {
     "data": {
      "image/png": "[encoded data removed]",
      "text/plain": [
       "<Figure size 640x480 with 1 Axes>"
      ]
     },
     "metadata": {},
     "output_type": "display_data"
    }
   ],
   "source": [
    "detect_outliers('bmi') # outliers are present"
   ]
  },
  {
   "cell_type": "markdown",
   "id": "a3b8c1e4",
   "metadata": {},
   "source": [
    "### 4.children"
   ]
  },
  {
   "cell_type": "code",
   "execution_count": 41,
   "id": "6b31fa89",
   "metadata": {},
   "outputs": [
    {
     "data": {
      "text/plain": [
       "0       0\n",
       "1       1\n",
       "2       3\n",
       "3       0\n",
       "4       0\n",
       "       ..\n",
       "1333    3\n",
       "1334    0\n",
       "1335    0\n",
       "1336    0\n",
       "1337    0\n",
       "Name: children, Length: 1338, dtype: int64"
      ]
     },
     "execution_count": 41,
     "metadata": {},
     "output_type": "execute_result"
    }
   ],
   "source": [
    "df['children']"
   ]
  },
  {
   "cell_type": "code",
   "execution_count": 42,
   "id": "a55d8d30",
   "metadata": {},
   "outputs": [
    {
     "data": {
      "text/plain": [
       "0    574\n",
       "1    324\n",
       "2    240\n",
       "3    157\n",
       "4     25\n",
       "5     18\n",
       "Name: children, dtype: int64"
      ]
     },
     "execution_count": 42,
     "metadata": {},
     "output_type": "execute_result"
    }
   ],
   "source": [
    "df['children'].value_counts()"
   ]
  },
  {
   "cell_type": "code",
   "execution_count": 44,
   "id": "62b66e03",
   "metadata": {},
   "outputs": [
    {
     "data": {
      "text/plain": [
       "0"
      ]
     },
     "execution_count": 44,
     "metadata": {},
     "output_type": "execute_result"
    }
   ],
   "source": [
    "df['children'].isna().sum() # NO missing values"
   ]
  },
  {
   "cell_type": "code",
   "execution_count": 45,
   "id": "ebfa815a",
   "metadata": {},
   "outputs": [
    {
     "data": {
      "text/plain": [
       "dtype('int64')"
      ]
     },
     "execution_count": 45,
     "metadata": {},
     "output_type": "execute_result"
    }
   ],
   "source": [
    "df['children'].dtype"
   ]
  },
  {
   "cell_type": "code",
   "execution_count": 46,
   "id": "9db1b9f4",
   "metadata": {},
   "outputs": [
    {
     "name": "stdout",
     "output_type": "stream",
     "text": [
      "upper_tail: 5.0\n",
      "lower_tail: -3.0\n"
     ]
    },
    {
     "data": {
      "text/html": [
       "<div>\n",
       "<style scoped>\n",
       "    .dataframe tbody tr th:only-of-type {\n",
       "        vertical-align: middle;\n",
       "    }\n",
       "\n",
       "    .dataframe tbody tr th {\n",
       "        vertical-align: top;\n",
       "    }\n",
       "\n",
       "    .dataframe thead th {\n",
       "        text-align: right;\n",
       "    }\n",
       "</style>\n",
       "<table border=\"1\" class=\"dataframe\">\n",
       "  <thead>\n",
       "    <tr style=\"text-align: right;\">\n",
       "      <th></th>\n",
       "      <th>children</th>\n",
       "    </tr>\n",
       "  </thead>\n",
       "  <tbody>\n",
       "  </tbody>\n",
       "</table>\n",
       "</div>"
      ],
      "text/plain": [
       "Empty DataFrame\n",
       "Columns: [children]\n",
       "Index: []"
      ]
     },
     "execution_count": 46,
     "metadata": {},
     "output_type": "execute_result"
    },
    {
     "data": {
      "image/png": "[encoded data removed]",
      "text/plain": [
       "<Figure size 640x480 with 1 Axes>"
      ]
     },
     "metadata": {},
     "output_type": "display_data"
    }
   ],
   "source": [
    "detect_outliers(\"children\")"
   ]
  },
  {
   "cell_type": "markdown",
   "id": "bbb54140",
   "metadata": {},
   "source": [
    "### 5.smoker"
   ]
  },
  {
   "cell_type": "code",
   "execution_count": 47,
   "id": "5a9be7ce",
   "metadata": {},
   "outputs": [
    {
     "data": {
      "text/plain": [
       "0       yes\n",
       "1        no\n",
       "2        no\n",
       "3        no\n",
       "4        no\n",
       "       ... \n",
       "1333     no\n",
       "1334     no\n",
       "1335     no\n",
       "1336     no\n",
       "1337    yes\n",
       "Name: smoker, Length: 1338, dtype: object"
      ]
     },
     "execution_count": 47,
     "metadata": {},
     "output_type": "execute_result"
    }
   ],
   "source": [
    "df['smoker']"
   ]
  },
  {
   "cell_type": "code",
   "execution_count": 48,
   "id": "8efb3555",
   "metadata": {},
   "outputs": [
    {
     "data": {
      "text/plain": [
       "no     1064\n",
       "yes     274\n",
       "Name: smoker, dtype: int64"
      ]
     },
     "execution_count": 48,
     "metadata": {},
     "output_type": "execute_result"
    }
   ],
   "source": [
    "df['smoker'].value_counts()"
   ]
  },
  {
   "cell_type": "code",
   "execution_count": 49,
   "id": "c6dee8f5",
   "metadata": {},
   "outputs": [
    {
     "data": {
      "text/plain": [
       "dtype('O')"
      ]
     },
     "execution_count": 49,
     "metadata": {},
     "output_type": "execute_result"
    }
   ],
   "source": [
    "df['smoker'].dtype"
   ]
  },
  {
   "cell_type": "code",
   "execution_count": 50,
   "id": "2125537e",
   "metadata": {},
   "outputs": [
    {
     "data": {
      "text/plain": [
       "{'no': 1064, 'yes': 274}"
      ]
     },
     "execution_count": 50,
     "metadata": {},
     "output_type": "execute_result"
    }
   ],
   "source": [
    "df['smoker'].value_counts().to_dict()"
   ]
  },
  {
   "cell_type": "code",
   "execution_count": 51,
   "id": "6826fff9",
   "metadata": {},
   "outputs": [],
   "source": [
    "df['smoker'].replace({'no': 0, 'yes': 1},inplace=True)"
   ]
  },
  {
   "cell_type": "code",
   "execution_count": 53,
   "id": "c50b9cea",
   "metadata": {},
   "outputs": [
    {
     "name": "stdout",
     "output_type": "stream",
     "text": [
      "<class 'pandas.core.frame.DataFrame'>\n",
      "RangeIndex: 1338 entries, 0 to 1337\n",
      "Data columns (total 7 columns):\n",
      " #   Column    Non-Null Count  Dtype  \n",
      "---  ------    --------------  -----  \n",
      " 0   age       1338 non-null   int64  \n",
      " 1   sex       1338 non-null   int64  \n",
      " 2   bmi       1338 non-null   float64\n",
      " 3   children  1338 non-null   int64  \n",
      " 4   smoker    1338 non-null   int64  \n",
      " 5   region    1338 non-null   object \n",
      " 6   charges   1338 non-null   float64\n",
      "dtypes: float64(2), int64(4), object(1)\n",
      "memory usage: 73.3+ KB\n"
     ]
    }
   ],
   "source": [
    "df.info()"
   ]
  },
  {
   "cell_type": "markdown",
   "id": "fb08a915",
   "metadata": {},
   "source": [
    "### 6.region"
   ]
  },
  {
   "cell_type": "code",
   "execution_count": 54,
   "id": "2b905930",
   "metadata": {},
   "outputs": [
    {
     "data": {
      "text/plain": [
       "0       southwest\n",
       "1       southeast\n",
       "2       southeast\n",
       "3       northwest\n",
       "4       northwest\n",
       "          ...    \n",
       "1333    northwest\n",
       "1334    northeast\n",
       "1335    southeast\n",
       "1336    southwest\n",
       "1337    northwest\n",
       "Name: region, Length: 1338, dtype: object"
      ]
     },
     "execution_count": 54,
     "metadata": {},
     "output_type": "execute_result"
    }
   ],
   "source": [
    "df['region']"
   ]
  },
  {
   "cell_type": "code",
   "execution_count": 55,
   "id": "9cc08029",
   "metadata": {},
   "outputs": [
    {
     "data": {
      "text/plain": [
       "southeast    364\n",
       "southwest    325\n",
       "northwest    325\n",
       "northeast    324\n",
       "Name: region, dtype: int64"
      ]
     },
     "execution_count": 55,
     "metadata": {},
     "output_type": "execute_result"
    }
   ],
   "source": [
    "df['region'].value_counts() # need to do encoding "
   ]
  },
  {
   "cell_type": "code",
   "execution_count": 59,
   "id": "833511ca",
   "metadata": {},
   "outputs": [],
   "source": [
    "df=pd.get_dummies(df,columns=['region'])"
   ]
  },
  {
   "cell_type": "code",
   "execution_count": 60,
   "id": "6210cee2",
   "metadata": {},
   "outputs": [
    {
     "data": {
      "text/html": [
       "<div>\n",
       "<style scoped>\n",
       "    .dataframe tbody tr th:only-of-type {\n",
       "        vertical-align: middle;\n",
       "    }\n",
       "\n",
       "    .dataframe tbody tr th {\n",
       "        vertical-align: top;\n",
       "    }\n",
       "\n",
       "    .dataframe thead th {\n",
       "        text-align: right;\n",
       "    }\n",
       "</style>\n",
       "<table border=\"1\" class=\"dataframe\">\n",
       "  <thead>\n",
       "    <tr style=\"text-align: right;\">\n",
       "      <th></th>\n",
       "      <th>age</th>\n",
       "      <th>sex</th>\n",
       "      <th>bmi</th>\n",
       "      <th>children</th>\n",
       "      <th>smoker</th>\n",
       "      <th>charges</th>\n",
       "      <th>region_northeast</th>\n",
       "      <th>region_northwest</th>\n",
       "      <th>region_southeast</th>\n",
       "      <th>region_southwest</th>\n",
       "    </tr>\n",
       "  </thead>\n",
       "  <tbody>\n",
       "    <tr>\n",
       "      <th>0</th>\n",
       "      <td>19</td>\n",
       "      <td>0</td>\n",
       "      <td>27.900</td>\n",
       "      <td>0</td>\n",
       "      <td>1</td>\n",
       "      <td>16884.92400</td>\n",
       "      <td>0</td>\n",
       "      <td>0</td>\n",
       "      <td>0</td>\n",
       "      <td>1</td>\n",
       "    </tr>\n",
       "    <tr>\n",
       "      <th>1</th>\n",
       "      <td>18</td>\n",
       "      <td>1</td>\n",
       "      <td>33.770</td>\n",
       "      <td>1</td>\n",
       "      <td>0</td>\n",
       "      <td>1725.55230</td>\n",
       "      <td>0</td>\n",
       "      <td>0</td>\n",
       "      <td>1</td>\n",
       "      <td>0</td>\n",
       "    </tr>\n",
       "    <tr>\n",
       "      <th>2</th>\n",
       "      <td>28</td>\n",
       "      <td>1</td>\n",
       "      <td>33.000</td>\n",
       "      <td>3</td>\n",
       "      <td>0</td>\n",
       "      <td>4449.46200</td>\n",
       "      <td>0</td>\n",
       "      <td>0</td>\n",
       "      <td>1</td>\n",
       "      <td>0</td>\n",
       "    </tr>\n",
       "    <tr>\n",
       "      <th>3</th>\n",
       "      <td>33</td>\n",
       "      <td>1</td>\n",
       "      <td>22.705</td>\n",
       "      <td>0</td>\n",
       "      <td>0</td>\n",
       "      <td>21984.47061</td>\n",
       "      <td>0</td>\n",
       "      <td>1</td>\n",
       "      <td>0</td>\n",
       "      <td>0</td>\n",
       "    </tr>\n",
       "    <tr>\n",
       "      <th>4</th>\n",
       "      <td>32</td>\n",
       "      <td>1</td>\n",
       "      <td>28.880</td>\n",
       "      <td>0</td>\n",
       "      <td>0</td>\n",
       "      <td>3866.85520</td>\n",
       "      <td>0</td>\n",
       "      <td>1</td>\n",
       "      <td>0</td>\n",
       "      <td>0</td>\n",
       "    </tr>\n",
       "    <tr>\n",
       "      <th>...</th>\n",
       "      <td>...</td>\n",
       "      <td>...</td>\n",
       "      <td>...</td>\n",
       "      <td>...</td>\n",
       "      <td>...</td>\n",
       "      <td>...</td>\n",
       "      <td>...</td>\n",
       "      <td>...</td>\n",
       "      <td>...</td>\n",
       "      <td>...</td>\n",
       "    </tr>\n",
       "    <tr>\n",
       "      <th>1333</th>\n",
       "      <td>50</td>\n",
       "      <td>1</td>\n",
       "      <td>30.970</td>\n",
       "      <td>3</td>\n",
       "      <td>0</td>\n",
       "      <td>10600.54830</td>\n",
       "      <td>0</td>\n",
       "      <td>1</td>\n",
       "      <td>0</td>\n",
       "      <td>0</td>\n",
       "    </tr>\n",
       "    <tr>\n",
       "      <th>1334</th>\n",
       "      <td>18</td>\n",
       "      <td>0</td>\n",
       "      <td>31.920</td>\n",
       "      <td>0</td>\n",
       "      <td>0</td>\n",
       "      <td>2205.98080</td>\n",
       "      <td>1</td>\n",
       "      <td>0</td>\n",
       "      <td>0</td>\n",
       "      <td>0</td>\n",
       "    </tr>\n",
       "    <tr>\n",
       "      <th>1335</th>\n",
       "      <td>18</td>\n",
       "      <td>0</td>\n",
       "      <td>36.850</td>\n",
       "      <td>0</td>\n",
       "      <td>0</td>\n",
       "      <td>1629.83350</td>\n",
       "      <td>0</td>\n",
       "      <td>0</td>\n",
       "      <td>1</td>\n",
       "      <td>0</td>\n",
       "    </tr>\n",
       "    <tr>\n",
       "      <th>1336</th>\n",
       "      <td>21</td>\n",
       "      <td>0</td>\n",
       "      <td>25.800</td>\n",
       "      <td>0</td>\n",
       "      <td>0</td>\n",
       "      <td>2007.94500</td>\n",
       "      <td>0</td>\n",
       "      <td>0</td>\n",
       "      <td>0</td>\n",
       "      <td>1</td>\n",
       "    </tr>\n",
       "    <tr>\n",
       "      <th>1337</th>\n",
       "      <td>61</td>\n",
       "      <td>0</td>\n",
       "      <td>29.070</td>\n",
       "      <td>0</td>\n",
       "      <td>1</td>\n",
       "      <td>29141.36030</td>\n",
       "      <td>0</td>\n",
       "      <td>1</td>\n",
       "      <td>0</td>\n",
       "      <td>0</td>\n",
       "    </tr>\n",
       "  </tbody>\n",
       "</table>\n",
       "<p>1338 rows × 10 columns</p>\n",
       "</div>"
      ],
      "text/plain": [
       "      age  sex     bmi  children  smoker      charges  region_northeast  \\\n",
       "0      19    0  27.900         0       1  16884.92400                 0   \n",
       "1      18    1  33.770         1       0   1725.55230                 0   \n",
       "2      28    1  33.000         3       0   4449.46200                 0   \n",
       "3      33    1  22.705         0       0  21984.47061                 0   \n",
       "4      32    1  28.880         0       0   3866.85520                 0   \n",
       "...   ...  ...     ...       ...     ...          ...               ...   \n",
       "1333   50    1  30.970         3       0  10600.54830                 0   \n",
       "1334   18    0  31.920         0       0   2205.98080                 1   \n",
       "1335   18    0  36.850         0       0   1629.83350                 0   \n",
       "1336   21    0  25.800         0       0   2007.94500                 0   \n",
       "1337   61    0  29.070         0       1  29141.36030                 0   \n",
       "\n",
       "      region_northwest  region_southeast  region_southwest  \n",
       "0                    0                 0                 1  \n",
       "1                    0                 1                 0  \n",
       "2                    0                 1                 0  \n",
       "3                    1                 0                 0  \n",
       "4                    1                 0                 0  \n",
       "...                ...               ...               ...  \n",
       "1333                 1                 0                 0  \n",
       "1334                 0                 0                 0  \n",
       "1335                 0                 1                 0  \n",
       "1336                 0                 0                 1  \n",
       "1337                 1                 0                 0  \n",
       "\n",
       "[1338 rows x 10 columns]"
      ]
     },
     "execution_count": 60,
     "metadata": {},
     "output_type": "execute_result"
    }
   ],
   "source": [
    "df"
   ]
  },
  {
   "cell_type": "code",
   "execution_count": 61,
   "id": "f9a62de5",
   "metadata": {},
   "outputs": [
    {
     "name": "stdout",
     "output_type": "stream",
     "text": [
      "<class 'pandas.core.frame.DataFrame'>\n",
      "RangeIndex: 1338 entries, 0 to 1337\n",
      "Data columns (total 10 columns):\n",
      " #   Column            Non-Null Count  Dtype  \n",
      "---  ------            --------------  -----  \n",
      " 0   age               1338 non-null   int64  \n",
      " 1   sex               1338 non-null   int64  \n",
      " 2   bmi               1338 non-null   float64\n",
      " 3   children          1338 non-null   int64  \n",
      " 4   smoker            1338 non-null   int64  \n",
      " 5   charges           1338 non-null   float64\n",
      " 6   region_northeast  1338 non-null   uint8  \n",
      " 7   region_northwest  1338 non-null   uint8  \n",
      " 8   region_southeast  1338 non-null   uint8  \n",
      " 9   region_southwest  1338 non-null   uint8  \n",
      "dtypes: float64(2), int64(4), uint8(4)\n",
      "memory usage: 68.1 KB\n"
     ]
    }
   ],
   "source": [
    "df.info()"
   ]
  },
  {
   "cell_type": "markdown",
   "id": "d97b36c2",
   "metadata": {},
   "source": [
    "# Feature Engineering"
   ]
  },
  {
   "cell_type": "code",
   "execution_count": null,
   "id": "1a577d01",
   "metadata": {},
   "outputs": [],
   "source": [
    "# Impute outliers\n",
    "# Impute missing values\n"
   ]
  },
  {
   "cell_type": "markdown",
   "id": "45a51de6",
   "metadata": {},
   "source": [
    "# Feature Selection"
   ]
  },
  {
   "cell_type": "code",
   "execution_count": null,
   "id": "0abf9f32",
   "metadata": {},
   "outputs": [],
   "source": [
    "# In feature selection we  have filter method,wrapper method and embedded method for feature selection\n",
    "# as this is linear regression algorithm we have two methods present in filter method\n",
    "# 1.linearity\n",
    "# 2. No Multicollinearity\n",
    "\n"
   ]
  },
  {
   "cell_type": "markdown",
   "id": "d5c3036e",
   "metadata": {},
   "source": [
    "### 1.Linearity"
   ]
  },
  {
   "cell_type": "code",
   "execution_count": null,
   "id": "08996596",
   "metadata": {},
   "outputs": [],
   "source": [
    "# checking linear relationship between independent variable and dependent variable with correlation coefficient"
   ]
  },
  {
   "cell_type": "code",
   "execution_count": 65,
   "id": "a993d5ae",
   "metadata": {},
   "outputs": [
    {
     "data": {
      "text/html": [
       "<div>\n",
       "<style scoped>\n",
       "    .dataframe tbody tr th:only-of-type {\n",
       "        vertical-align: middle;\n",
       "    }\n",
       "\n",
       "    .dataframe tbody tr th {\n",
       "        vertical-align: top;\n",
       "    }\n",
       "\n",
       "    .dataframe thead th {\n",
       "        text-align: right;\n",
       "    }\n",
       "</style>\n",
       "<table border=\"1\" class=\"dataframe\">\n",
       "  <thead>\n",
       "    <tr style=\"text-align: right;\">\n",
       "      <th></th>\n",
       "      <th>age</th>\n",
       "      <th>sex</th>\n",
       "      <th>bmi</th>\n",
       "      <th>children</th>\n",
       "      <th>smoker</th>\n",
       "      <th>charges</th>\n",
       "      <th>region_northeast</th>\n",
       "      <th>region_northwest</th>\n",
       "      <th>region_southeast</th>\n",
       "      <th>region_southwest</th>\n",
       "    </tr>\n",
       "  </thead>\n",
       "  <tbody>\n",
       "    <tr>\n",
       "      <th>charges</th>\n",
       "      <td>0.299008</td>\n",
       "      <td>0.057292</td>\n",
       "      <td>0.198341</td>\n",
       "      <td>0.067998</td>\n",
       "      <td>0.787251</td>\n",
       "      <td>1.0</td>\n",
       "      <td>0.006349</td>\n",
       "      <td>-0.039905</td>\n",
       "      <td>0.073982</td>\n",
       "      <td>-0.04321</td>\n",
       "    </tr>\n",
       "  </tbody>\n",
       "</table>\n",
       "</div>"
      ],
      "text/plain": [
       "              age       sex       bmi  children    smoker  charges  \\\n",
       "charges  0.299008  0.057292  0.198341  0.067998  0.787251      1.0   \n",
       "\n",
       "         region_northeast  region_northwest  region_southeast  \\\n",
       "charges          0.006349         -0.039905          0.073982   \n",
       "\n",
       "         region_southwest  \n",
       "charges          -0.04321  "
      ]
     },
     "execution_count": 65,
     "metadata": {},
     "output_type": "execute_result"
    }
   ],
   "source": [
    "df.corr().loc[['charges']]"
   ]
  },
  {
   "cell_type": "code",
   "execution_count": 72,
   "id": "3abf1b5e",
   "metadata": {},
   "outputs": [
    {
     "data": {
      "text/plain": [
       "<AxesSubplot:>"
      ]
     },
     "execution_count": 72,
     "metadata": {},
     "output_type": "execute_result"
    },
    {
     "data": {
      "image/png": "[encoded data removed]",
      "text/plain": [
       "<Figure size 1400x200 with 2 Axes>"
      ]
     },
     "metadata": {},
     "output_type": "display_data"
    }
   ],
   "source": [
    "plt.figure(figsize=(14,2))\n",
    "sns.heatmap(df.corr().loc[['charges']],annot=True)"
   ]
  },
  {
   "cell_type": "markdown",
   "id": "986e7107",
   "metadata": {},
   "source": [
    "### 2. No Multicollinearity"
   ]
  },
  {
   "cell_type": "code",
   "execution_count": 91,
   "id": "a353a373",
   "metadata": {},
   "outputs": [
    {
     "data": {
      "text/html": [
       "<div>\n",
       "<style scoped>\n",
       "    .dataframe tbody tr th:only-of-type {\n",
       "        vertical-align: middle;\n",
       "    }\n",
       "\n",
       "    .dataframe tbody tr th {\n",
       "        vertical-align: top;\n",
       "    }\n",
       "\n",
       "    .dataframe thead th {\n",
       "        text-align: right;\n",
       "    }\n",
       "</style>\n",
       "<table border=\"1\" class=\"dataframe\">\n",
       "  <thead>\n",
       "    <tr style=\"text-align: right;\">\n",
       "      <th></th>\n",
       "      <th>VIF Factors</th>\n",
       "    </tr>\n",
       "  </thead>\n",
       "  <tbody>\n",
       "    <tr>\n",
       "      <th>age</th>\n",
       "      <td>1.016822</td>\n",
       "    </tr>\n",
       "    <tr>\n",
       "      <th>sex</th>\n",
       "      <td>1.008900</td>\n",
       "    </tr>\n",
       "    <tr>\n",
       "      <th>bmi</th>\n",
       "      <td>1.106630</td>\n",
       "    </tr>\n",
       "    <tr>\n",
       "      <th>children</th>\n",
       "      <td>1.004011</td>\n",
       "    </tr>\n",
       "    <tr>\n",
       "      <th>smoker</th>\n",
       "      <td>1.012074</td>\n",
       "    </tr>\n",
       "    <tr>\n",
       "      <th>region_northeast</th>\n",
       "      <td>8.603069</td>\n",
       "    </tr>\n",
       "    <tr>\n",
       "      <th>region_northwest</th>\n",
       "      <td>8.636205</td>\n",
       "    </tr>\n",
       "    <tr>\n",
       "      <th>region_southeast</th>\n",
       "      <td>11.535195</td>\n",
       "    </tr>\n",
       "    <tr>\n",
       "      <th>region_southwest</th>\n",
       "      <td>9.218449</td>\n",
       "    </tr>\n",
       "  </tbody>\n",
       "</table>\n",
       "</div>"
      ],
      "text/plain": [
       "                  VIF Factors\n",
       "age                  1.016822\n",
       "sex                  1.008900\n",
       "bmi                  1.106630\n",
       "children             1.004011\n",
       "smoker               1.012074\n",
       "region_northeast     8.603069\n",
       "region_northwest     8.636205\n",
       "region_southeast    11.535195\n",
       "region_southwest     9.218449"
      ]
     },
     "execution_count": 91,
     "metadata": {},
     "output_type": "execute_result"
    }
   ],
   "source": [
    "vif_factors_list=[]\n",
    "x=df.drop(\"charges\",axis=1)\n",
    "for i in range(len(x.columns)):\n",
    "    \n",
    "    vif=variance_inflation_factor(x,i)\n",
    "    vif_factors_list.append(vif)\n",
    "vif_factors=pd.DataFrame(vif_factors_list,index=list(x.columns),columns=['VIF Factors'])\n",
    "vif_factors"
   ]
  },
  {
   "cell_type": "code",
   "execution_count": 96,
   "id": "bb42587e",
   "metadata": {},
   "outputs": [
    {
     "data": {
      "text/plain": [
       "<AxesSubplot:>"
      ]
     },
     "execution_count": 96,
     "metadata": {},
     "output_type": "execute_result"
    },
    {
     "data": {
      "image/png": "[encoded data removed]",
      "text/plain": [
       "<Figure size 640x480 with 1 Axes>"
      ]
     },
     "metadata": {},
     "output_type": "display_data"
    }
   ],
   "source": [
    "vif_factors.sort_values(['VIF Factors']).plot(kind='barh')"
   ]
  },
  {
   "cell_type": "markdown",
   "id": "e4ae652e",
   "metadata": {},
   "source": [
    "# Model Building"
   ]
  },
  {
   "cell_type": "code",
   "execution_count": 114,
   "id": "0a9a15e4",
   "metadata": {},
   "outputs": [],
   "source": [
    "x=df.drop(\"charges\",axis=1)\n",
    "y=df['charges']\n",
    "x_train,x_test,y_train,y_test=train_test_split(x,y,test_size=0.2,random_state=12)"
   ]
  },
  {
   "cell_type": "markdown",
   "id": "75db8d06",
   "metadata": {},
   "source": [
    "### Model Training"
   ]
  },
  {
   "cell_type": "markdown",
   "id": "27ff3344",
   "metadata": {},
   "source": [
    "#### Linear Regression Model"
   ]
  },
  {
   "cell_type": "code",
   "execution_count": 120,
   "id": "6c436d00",
   "metadata": {},
   "outputs": [
    {
     "data": {
      "text/plain": [
       "LinearRegression()"
      ]
     },
     "execution_count": 120,
     "metadata": {},
     "output_type": "execute_result"
    }
   ],
   "source": [
    "# create instance and fit the model\n",
    "lin_reg_model=LinearRegression()\n",
    "lin_reg_model.fit(x_train,y_train)"
   ]
  },
  {
   "cell_type": "markdown",
   "id": "1e41c522",
   "metadata": {},
   "source": [
    "#### Model Evaluation"
   ]
  },
  {
   "cell_type": "code",
   "execution_count": 128,
   "id": "df96e950",
   "metadata": {},
   "outputs": [],
   "source": [
    "# testing\n",
    "testing_accuracy_list=[]\n",
    "def model_evaluation_testing(x_test,y_test,model_instance):\n",
    "    y_pred=model_instance.predict(x_test)\n",
    "    \n",
    "    mae=mean_absolute_error(y_test,y_pred)\n",
    "    print(\"MAE:\",mae)\n",
    "    print(\"-\"*100)\n",
    "    \n",
    "    mse=mean_squared_error(y_test,y_pred)\n",
    "    print(\"MSE:\",mse)\n",
    "    print(\"-\"*100)\n",
    "    \n",
    "    rmse=np.sqrt(mse)\n",
    "    print(\"RMSE:\",rmse)\n",
    "    \n",
    "    print(\"-\"*100)\n",
    "    \n",
    "    r2_value=r2_score(y_test,y_pred)\n",
    "    print(\"R2 SCORE_testing:\",r2_value)\n",
    "    testing_accuracy_list.append(r2_value)\n",
    "    "
   ]
  },
  {
   "cell_type": "code",
   "execution_count": 129,
   "id": "ef0bb2db",
   "metadata": {},
   "outputs": [],
   "source": [
    "training_accuracy_list=[]\n",
    "def model_evaluation_training(x_train,y_train,model_instance):\n",
    "    y_pred_train=model_instance.predict(x_train)\n",
    "    \n",
    "    mae=mean_absolute_error(y_train,y_pred_train)\n",
    "    print(\"MAE:\",mae)\n",
    "    print(\"-\"*100)\n",
    "    \n",
    "    mse=mean_squared_error(y_train,y_pred_train)\n",
    "    print(\"MSE:\",mse)\n",
    "    print(\"-\"*100)\n",
    "    \n",
    "    rmse=np.sqrt(mse)\n",
    "    print(\"RMSE:\",rmse)\n",
    "    \n",
    "    print(\"-\"*100)\n",
    "    \n",
    "    r2_value=r2_score(y_train,y_pred_train)\n",
    "    print(\"R2 SCORE_training:\",r2_value)\n",
    "    training_accuracy_list.append(r2_value)\n",
    "    "
   ]
  },
  {
   "cell_type": "code",
   "execution_count": 130,
   "id": "0fe58262",
   "metadata": {},
   "outputs": [
    {
     "name": "stdout",
     "output_type": "stream",
     "text": [
      "MAE: 4319.450090036729\n",
      "----------------------------------------------------------------------------------------------------\n",
      "MSE: 41761889.1906428\n",
      "----------------------------------------------------------------------------------------------------\n",
      "RMSE: 6462.343939364632\n",
      "----------------------------------------------------------------------------------------------------\n",
      "R2 SCORE_testing: 0.7100098801471331\n"
     ]
    }
   ],
   "source": [
    "model_evaluation_testing(x_test,y_test,lin_reg_model)"
   ]
  },
  {
   "cell_type": "code",
   "execution_count": 131,
   "id": "b07363ee",
   "metadata": {},
   "outputs": [
    {
     "name": "stdout",
     "output_type": "stream",
     "text": [
      "MAE: 4143.046171517503\n",
      "----------------------------------------------------------------------------------------------------\n",
      "MSE: 35240347.237063214\n",
      "----------------------------------------------------------------------------------------------------\n",
      "RMSE: 5936.358078575046\n",
      "----------------------------------------------------------------------------------------------------\n",
      "R2 SCORE_training: 0.7605423221866592\n"
     ]
    }
   ],
   "source": [
    "model_evaluation_training(x_train,y_train,lin_reg_model)"
   ]
  },
  {
   "cell_type": "markdown",
   "id": "df0db540",
   "metadata": {},
   "source": [
    "## 3 Normality of residual"
   ]
  },
  {
   "cell_type": "code",
   "execution_count": null,
   "id": "e23dc580",
   "metadata": {},
   "outputs": [],
   "source": [
    "# residual should be normally distribyted"
   ]
  },
  {
   "cell_type": "code",
   "execution_count": 134,
   "id": "c8b09a3c",
   "metadata": {},
   "outputs": [
    {
     "data": {
      "text/plain": [
       "161     8090.248745\n",
       "1032    -863.192931\n",
       "151    -1773.429793\n",
       "759     7859.747229\n",
       "362    -9448.659650\n",
       "           ...     \n",
       "278    -1043.416856\n",
       "432    -1208.553999\n",
       "1283    -509.083163\n",
       "1265   -8647.929236\n",
       "1277   -1483.375170\n",
       "Name: charges, Length: 1070, dtype: float64"
      ]
     },
     "execution_count": 134,
     "metadata": {},
     "output_type": "execute_result"
    }
   ],
   "source": [
    "y_pred_train=lin_reg_model.predict(x_train)\n",
    "residual_train=y_train-y_pred_train\n",
    "residual_train"
   ]
  },
  {
   "cell_type": "markdown",
   "id": "e91bf2cc",
   "metadata": {},
   "source": [
    "### 3.1 KDE plot"
   ]
  },
  {
   "cell_type": "code",
   "execution_count": 136,
   "id": "52ded027",
   "metadata": {},
   "outputs": [
    {
     "data": {
      "text/plain": [
       "<function matplotlib.pyplot.show(close=None, block=None)>"
      ]
     },
     "execution_count": 136,
     "metadata": {},
     "output_type": "execute_result"
    },
    {
     "data": {
      "image/png": "[encoded data removed]",
      "text/plain": [
       "<Figure size 640x480 with 1 Axes>"
      ]
     },
     "metadata": {},
     "output_type": "display_data"
    }
   ],
   "source": [
    "sns.kdeplot(residual_train)\n",
    "plt.show"
   ]
  },
  {
   "cell_type": "code",
   "execution_count": 139,
   "id": "5bae47cd",
   "metadata": {},
   "outputs": [
    {
     "data": {
      "text/plain": [
       "1.1257542008869017"
      ]
     },
     "execution_count": 139,
     "metadata": {},
     "output_type": "execute_result"
    }
   ],
   "source": [
    "skewness=skew(residual_train)\n",
    "skewness"
   ]
  },
  {
   "cell_type": "code",
   "execution_count": 140,
   "id": "cb29d434",
   "metadata": {},
   "outputs": [],
   "source": [
    "# skewness > 0.5 >>>> data is positively skewed"
   ]
  },
  {
   "cell_type": "markdown",
   "id": "a284125a",
   "metadata": {},
   "source": [
    "### 3.2 Hypothesis Testing"
   ]
  },
  {
   "cell_type": "markdown",
   "id": "58cace94",
   "metadata": {},
   "source": [
    "#### 3.2.1 shapiro test"
   ]
  },
  {
   "cell_type": "code",
   "execution_count": 143,
   "id": "b39f15de",
   "metadata": {},
   "outputs": [
    {
     "data": {
      "text/plain": [
       "7.905083426139527e-25"
      ]
     },
     "execution_count": 143,
     "metadata": {},
     "output_type": "execute_result"
    }
   ],
   "source": [
    "_,p_val=shapiro(residual_train)\n",
    "p_val"
   ]
  },
  {
   "cell_type": "code",
   "execution_count": 152,
   "id": "9022c6bf",
   "metadata": {},
   "outputs": [
    {
     "name": "stdout",
     "output_type": "stream",
     "text": [
      "P_Value: 7.905083426139527e-25\n",
      "Alternative Hypothesis accepted\n",
      "Data is not normally distributed\n"
     ]
    }
   ],
   "source": [
    "print(\"P_Value:\",p_val)\n",
    "if p_val>=0.05:\n",
    "    print(\"Null hypothesis is accepted \")\n",
    "    print(\"Data is normally distributed\")\n",
    "else:\n",
    "    print(\"Alternative Hypothesis accepted\")\n",
    "    print(\"Data is not normally distributed\")"
   ]
  },
  {
   "cell_type": "markdown",
   "id": "b5099a2b",
   "metadata": {},
   "source": [
    "#### 3.2.2 ks test"
   ]
  },
  {
   "cell_type": "code",
   "execution_count": 148,
   "id": "b915fb67",
   "metadata": {},
   "outputs": [
    {
     "data": {
      "text/plain": [
       "7.905083426139527e-25"
      ]
     },
     "execution_count": 148,
     "metadata": {},
     "output_type": "execute_result"
    }
   ],
   "source": [
    "_,_p_val=kstest(residual_train,\"norm\")\n",
    "p_val"
   ]
  },
  {
   "cell_type": "code",
   "execution_count": 153,
   "id": "f193294a",
   "metadata": {},
   "outputs": [
    {
     "name": "stdout",
     "output_type": "stream",
     "text": [
      "P_VALUE: 7.905083426139527e-25\n",
      "Alternative Hypothesis is accepted\n",
      "Data is not normally distributed\n"
     ]
    }
   ],
   "source": [
    "print(\"P_VALUE:\",p_val)\n",
    "if p_val>=0.05:\n",
    "    print(\"Null Hypothesis is accepted\")\n",
    "    print(\"Data is normally distributed\")\n",
    "else:\n",
    "    print(\"Alternative Hypothesis is accepted\")\n",
    "    print(\"Data is not normally distributed\")"
   ]
  },
  {
   "cell_type": "markdown",
   "id": "fbf456df",
   "metadata": {},
   "source": [
    "# 3.2.3 normal test"
   ]
  },
  {
   "cell_type": "code",
   "execution_count": 155,
   "id": "6cd92b2d",
   "metadata": {},
   "outputs": [],
   "source": [
    "_,p_val=normaltest(residual_train)"
   ]
  },
  {
   "cell_type": "code",
   "execution_count": 156,
   "id": "89aa09d6",
   "metadata": {},
   "outputs": [
    {
     "name": "stdout",
     "output_type": "stream",
     "text": [
      "P_VALUE: 1.1093146993502498e-47\n",
      "Alternative Hypothesis is accepted\n",
      "Data is not normally distributed\n"
     ]
    }
   ],
   "source": [
    "print(\"P_VALUE:\",p_val)\n",
    "if p_val>=0.05:\n",
    "    print(\"Null Hypothesis is accepted\")\n",
    "    print(\"Data is normally distributed\")\n",
    "else:\n",
    "    print(\"Alternative Hypothesis is accepted\")\n",
    "    print(\"Data is not normally distributed\")"
   ]
  },
  {
   "cell_type": "markdown",
   "id": "e3226492",
   "metadata": {},
   "source": [
    "# 3.3 QQ Plot"
   ]
  },
  {
   "cell_type": "code",
   "execution_count": 158,
   "id": "24745c05",
   "metadata": {},
   "outputs": [
    {
     "data": {
      "image/png": "[encoded data removed]",
      "text/plain": [
       "<Figure size 640x480 with 1 Axes>"
      ]
     },
     "execution_count": 158,
     "metadata": {},
     "output_type": "execute_result"
    },
    {
     "data": {
      "image/png": "[encoded data removed]",
      "text/plain": [
       "<Figure size 640x480 with 1 Axes>"
      ]
     },
     "metadata": {},
     "output_type": "display_data"
    }
   ],
   "source": [
    "import statsmodels.api as sm\n",
    "sm.qqplot(residual_train,line='45',fit=True)"
   ]
  },
  {
   "cell_type": "raw",
   "id": "ad5566e2",
   "metadata": {},
   "source": [
    "conclusion:\n",
    "    data is not normally distributed"
   ]
  },
  {
   "cell_type": "markdown",
   "id": "c867e960",
   "metadata": {},
   "source": [
    "### 4. Homoscadasticity"
   ]
  },
  {
   "cell_type": "code",
   "execution_count": 160,
   "id": "67497031",
   "metadata": {},
   "outputs": [
    {
     "data": {
      "image/png": "[encoded data removed]",
      "text/plain": [
       "<Figure size 640x480 with 1 Axes>"
      ]
     },
     "metadata": {},
     "output_type": "display_data"
    }
   ],
   "source": [
    "sns.scatterplot(x=y_train,y=residual_train)\n",
    "plt.show()"
   ]
  },
  {
   "cell_type": "code",
   "execution_count": 161,
   "id": "ca62606b",
   "metadata": {},
   "outputs": [
    {
     "data": {
      "text/plain": [
       "[0.7605423221866592]"
      ]
     },
     "execution_count": 161,
     "metadata": {},
     "output_type": "execute_result"
    }
   ],
   "source": [
    "training_accuracy_list"
   ]
  },
  {
   "cell_type": "code",
   "execution_count": 162,
   "id": "bec55cb1",
   "metadata": {},
   "outputs": [
    {
     "data": {
      "text/plain": [
       "[0.7100098801471331]"
      ]
     },
     "execution_count": 162,
     "metadata": {},
     "output_type": "execute_result"
    }
   ],
   "source": [
    "testing_accuracy_list"
   ]
  },
  {
   "cell_type": "code",
   "execution_count": null,
   "id": "c885d947",
   "metadata": {},
   "outputs": [],
   "source": [
    "# Now we will train a model on Ridge and Lasso regression"
   ]
  },
  {
   "cell_type": "markdown",
   "id": "7c0424ca",
   "metadata": {},
   "source": [
    "## Ridge Reg"
   ]
  },
  {
   "cell_type": "code",
   "execution_count": 164,
   "id": "47fa1b4b",
   "metadata": {},
   "outputs": [
    {
     "data": {
      "text/plain": [
       "Ridge()"
      ]
     },
     "execution_count": 164,
     "metadata": {},
     "output_type": "execute_result"
    }
   ],
   "source": [
    "ridge_reg_model=Ridge(alpha=1.0)\n",
    "ridge_reg_model.fit(x_train,y_train)"
   ]
  },
  {
   "cell_type": "code",
   "execution_count": 165,
   "id": "6ac8a285",
   "metadata": {},
   "outputs": [
    {
     "data": {
      "text/plain": [
       "array([  261.67324785,   -53.67360974,   341.0813174 ,   408.47896537,\n",
       "       23714.00378756,   387.27487075,    82.30275039,  -302.1114559 ,\n",
       "        -167.46616524])"
      ]
     },
     "execution_count": 165,
     "metadata": {},
     "output_type": "execute_result"
    }
   ],
   "source": [
    "ridge_reg_model.coef_"
   ]
  },
  {
   "cell_type": "code",
   "execution_count": 166,
   "id": "420daf6c",
   "metadata": {},
   "outputs": [
    {
     "data": {
      "text/plain": [
       "-12736.46791608106"
      ]
     },
     "execution_count": 166,
     "metadata": {},
     "output_type": "execute_result"
    }
   ],
   "source": [
    "ridge_reg_model.intercept_"
   ]
  },
  {
   "cell_type": "markdown",
   "id": "7c964d85",
   "metadata": {},
   "source": [
    "### Model Evaluation for Ridge regresssion"
   ]
  },
  {
   "cell_type": "code",
   "execution_count": 167,
   "id": "b6d79492",
   "metadata": {},
   "outputs": [
    {
     "name": "stdout",
     "output_type": "stream",
     "text": [
      "MAE: 4327.357724541561\n",
      "----------------------------------------------------------------------------------------------------\n",
      "MSE: 41763189.38706967\n",
      "----------------------------------------------------------------------------------------------------\n",
      "RMSE: 6462.444536479185\n",
      "----------------------------------------------------------------------------------------------------\n",
      "R2 SCORE_testing: 0.710000851721337\n"
     ]
    }
   ],
   "source": [
    "# testing\n",
    "model_evaluation_testing(x_test,y_test,ridge_reg_model)"
   ]
  },
  {
   "cell_type": "code",
   "execution_count": 168,
   "id": "dc7f1a4b",
   "metadata": {},
   "outputs": [
    {
     "name": "stdout",
     "output_type": "stream",
     "text": [
      "MAE: 4153.281436363145\n",
      "----------------------------------------------------------------------------------------------------\n",
      "MSE: 35243344.96844891\n",
      "----------------------------------------------------------------------------------------------------\n",
      "RMSE: 5936.610562303115\n",
      "----------------------------------------------------------------------------------------------------\n",
      "R2 SCORE_training: 0.7605219526428662\n"
     ]
    }
   ],
   "source": [
    "model_evaluation_training(x_train,y_train,ridge_reg_model)"
   ]
  },
  {
   "cell_type": "code",
   "execution_count": 169,
   "id": "ba9de277",
   "metadata": {},
   "outputs": [
    {
     "data": {
      "text/plain": [
       "[0.7605423221866592, 0.7605219526428662]"
      ]
     },
     "execution_count": 169,
     "metadata": {},
     "output_type": "execute_result"
    }
   ],
   "source": [
    "training_accuracy_list"
   ]
  },
  {
   "cell_type": "code",
   "execution_count": 170,
   "id": "cfbaae54",
   "metadata": {},
   "outputs": [
    {
     "data": {
      "text/plain": [
       "[0.7100098801471331, 0.710000851721337]"
      ]
     },
     "execution_count": 170,
     "metadata": {},
     "output_type": "execute_result"
    }
   ],
   "source": [
    "testing_accuracy_list"
   ]
  },
  {
   "cell_type": "code",
   "execution_count": 171,
   "id": "951fb7a1",
   "metadata": {},
   "outputs": [
    {
     "data": {
      "text/plain": [
       "<AxesSubplot:xlabel='charges', ylabel='Density'>"
      ]
     },
     "execution_count": 171,
     "metadata": {},
     "output_type": "execute_result"
    },
    {
     "data": {
      "image/png": "[encoded data removed]",
      "text/plain": [
       "<Figure size 640x480 with 1 Axes>"
      ]
     },
     "metadata": {},
     "output_type": "display_data"
    }
   ],
   "source": [
    "y_pred_train=ridge_reg_model.predict(x_train)\n",
    "ridge_residuals=y_train-y_pred_train\n",
    "sns.kdeplot(ridge_residuals)"
   ]
  },
  {
   "cell_type": "markdown",
   "id": "9f274e18",
   "metadata": {},
   "source": [
    "#### hyperparameter tuning for ridge regression"
   ]
  },
  {
   "cell_type": "markdown",
   "id": "23cd95bd",
   "metadata": {},
   "source": [
    "#### GridSearchCV in ridge regression"
   ]
  },
  {
   "cell_type": "code",
   "execution_count": 173,
   "id": "e6ed6ffb",
   "metadata": {},
   "outputs": [
    {
     "data": {
      "text/plain": [
       "GridSearchCV(cv=5, estimator=Ridge(), n_jobs=-1,\n",
       "             param_grid={'alpha': array([0.01, 0.02, 0.03, 0.04, 0.05, 0.06, 0.07, 0.08, 0.09, 0.1 , 0.11,\n",
       "       0.12, 0.13, 0.14, 0.15, 0.16, 0.17, 0.18, 0.19, 0.2 , 0.21, 0.22,\n",
       "       0.23, 0.24, 0.25, 0.26, 0.27, 0.28, 0.29, 0.3 , 0.31, 0.32, 0.33,\n",
       "       0.34, 0.35, 0.36, 0.37, 0.38, 0.39, 0.4 , 0.41, 0.42, 0.43, 0.44,\n",
       "       0.45, 0.46, 0.47, 0.48, 0.49, 0.5 , 0.51, 0.52, 0.53, 0.54, 0.55,\n",
       "       0.56, 0....\n",
       "       2.21, 2.22, 2.23, 2.24, 2.25, 2.26, 2.27, 2.28, 2.29, 2.3 , 2.31,\n",
       "       2.32, 2.33, 2.34, 2.35, 2.36, 2.37, 2.38, 2.39, 2.4 , 2.41, 2.42,\n",
       "       2.43, 2.44, 2.45, 2.46, 2.47, 2.48, 2.49, 2.5 , 2.51, 2.52, 2.53,\n",
       "       2.54, 2.55, 2.56, 2.57, 2.58, 2.59, 2.6 , 2.61, 2.62, 2.63, 2.64,\n",
       "       2.65, 2.66, 2.67, 2.68, 2.69, 2.7 , 2.71, 2.72, 2.73, 2.74, 2.75,\n",
       "       2.76, 2.77, 2.78, 2.79, 2.8 , 2.81, 2.82, 2.83, 2.84, 2.85, 2.86,\n",
       "       2.87, 2.88, 2.89, 2.9 , 2.91, 2.92, 2.93, 2.94, 2.95, 2.96, 2.97,\n",
       "       2.98, 2.99])})"
      ]
     },
     "execution_count": 173,
     "metadata": {},
     "output_type": "execute_result"
    }
   ],
   "source": [
    "ridge_reg_model=Ridge()\n",
    "param_grid={\"alpha\":np.arange(0.01,3,0.01)}\n",
    "\n",
    "gscv_ridge_reg_model=GridSearchCV(ridge_reg_model,param_grid,cv=5,n_jobs=-1)\n",
    "gscv_ridge_reg_model.fit(x_train,y_train)"
   ]
  },
  {
   "cell_type": "code",
   "execution_count": 174,
   "id": "9749fd4b",
   "metadata": {},
   "outputs": [
    {
     "data": {
      "text/plain": [
       "Ridge(alpha=0.49)"
      ]
     },
     "execution_count": 174,
     "metadata": {},
     "output_type": "execute_result"
    }
   ],
   "source": [
    "gscv_ridge_reg_model.best_estimator_"
   ]
  },
  {
   "cell_type": "code",
   "execution_count": 175,
   "id": "08d2112b",
   "metadata": {},
   "outputs": [],
   "source": [
    "ridge_reg_model_gscv=gscv_ridge_reg_model.best_estimator_"
   ]
  },
  {
   "cell_type": "code",
   "execution_count": 176,
   "id": "70796016",
   "metadata": {},
   "outputs": [
    {
     "data": {
      "text/plain": [
       "Ridge(alpha=0.49)"
      ]
     },
     "execution_count": 176,
     "metadata": {},
     "output_type": "execute_result"
    }
   ],
   "source": [
    "ridge_reg_model_gscv"
   ]
  },
  {
   "cell_type": "markdown",
   "id": "2e9f4afd",
   "metadata": {},
   "source": [
    "### model evaluation"
   ]
  },
  {
   "cell_type": "code",
   "execution_count": 177,
   "id": "4de98643",
   "metadata": {},
   "outputs": [
    {
     "name": "stdout",
     "output_type": "stream",
     "text": [
      "MAE: 4323.333273269257\n",
      "----------------------------------------------------------------------------------------------------\n",
      "MSE: 41761845.40314636\n",
      "----------------------------------------------------------------------------------------------------\n",
      "RMSE: 6462.340551467893\n",
      "----------------------------------------------------------------------------------------------------\n",
      "R2 SCORE_testing: 0.7100101842028543\n"
     ]
    }
   ],
   "source": [
    "model_evaluation_testing(x_test,y_test,ridge_reg_model_gscv)"
   ]
  },
  {
   "cell_type": "code",
   "execution_count": 178,
   "id": "90a39414",
   "metadata": {},
   "outputs": [
    {
     "name": "stdout",
     "output_type": "stream",
     "text": [
      "MAE: 4148.068704461576\n",
      "----------------------------------------------------------------------------------------------------\n",
      "MSE: 35241071.19525862\n",
      "----------------------------------------------------------------------------------------------------\n",
      "RMSE: 5936.419054889792\n",
      "----------------------------------------------------------------------------------------------------\n",
      "R2 SCORE_training: 0.7605374029006164\n"
     ]
    }
   ],
   "source": [
    "model_evaluation_training(x_train,y_train,ridge_reg_model_gscv)"
   ]
  },
  {
   "cell_type": "code",
   "execution_count": 179,
   "id": "2f6f528e",
   "metadata": {},
   "outputs": [
    {
     "data": {
      "text/plain": [
       "[0.7605423221866592, 0.7605219526428662, 0.7605374029006164]"
      ]
     },
     "execution_count": 179,
     "metadata": {},
     "output_type": "execute_result"
    }
   ],
   "source": [
    "training_accuracy_list"
   ]
  },
  {
   "cell_type": "code",
   "execution_count": 180,
   "id": "c3f48757",
   "metadata": {},
   "outputs": [
    {
     "data": {
      "text/plain": [
       "[0.7100098801471331, 0.710000851721337, 0.7100101842028543]"
      ]
     },
     "execution_count": 180,
     "metadata": {},
     "output_type": "execute_result"
    }
   ],
   "source": [
    "testing_accuracy_list"
   ]
  },
  {
   "cell_type": "markdown",
   "id": "0624f5f3",
   "metadata": {},
   "source": [
    "### RandomizedSearchCV in ridge regression"
   ]
  },
  {
   "cell_type": "code",
   "execution_count": 181,
   "id": "c4239965",
   "metadata": {},
   "outputs": [
    {
     "data": {
      "text/plain": [
       "RandomizedSearchCV(cv=5, estimator=Ridge(), n_jobs=-1,\n",
       "                   param_distributions={'alpha': array([0.01, 0.02, 0.03, 0.04, 0.05, 0.06, 0.07, 0.08, 0.09, 0.1 , 0.11,\n",
       "       0.12, 0.13, 0.14, 0.15, 0.16, 0.17, 0.18, 0.19, 0.2 , 0.21, 0.22,\n",
       "       0.23, 0.24, 0.25, 0.26, 0.27, 0.28, 0.29, 0.3 , 0.31, 0.32, 0.33,\n",
       "       0.34, 0.35, 0.36, 0.37, 0.38, 0.39, 0.4 , 0.41, 0.42, 0.43, 0.44,\n",
       "       0.45, 0.46, 0.47, 0.48, 0.49, 0.5 , 0.51, 0.52, 0.53, 0....\n",
       "       2.21, 2.22, 2.23, 2.24, 2.25, 2.26, 2.27, 2.28, 2.29, 2.3 , 2.31,\n",
       "       2.32, 2.33, 2.34, 2.35, 2.36, 2.37, 2.38, 2.39, 2.4 , 2.41, 2.42,\n",
       "       2.43, 2.44, 2.45, 2.46, 2.47, 2.48, 2.49, 2.5 , 2.51, 2.52, 2.53,\n",
       "       2.54, 2.55, 2.56, 2.57, 2.58, 2.59, 2.6 , 2.61, 2.62, 2.63, 2.64,\n",
       "       2.65, 2.66, 2.67, 2.68, 2.69, 2.7 , 2.71, 2.72, 2.73, 2.74, 2.75,\n",
       "       2.76, 2.77, 2.78, 2.79, 2.8 , 2.81, 2.82, 2.83, 2.84, 2.85, 2.86,\n",
       "       2.87, 2.88, 2.89, 2.9 , 2.91, 2.92, 2.93, 2.94, 2.95, 2.96, 2.97,\n",
       "       2.98, 2.99])})"
      ]
     },
     "execution_count": 181,
     "metadata": {},
     "output_type": "execute_result"
    }
   ],
   "source": [
    "ridge_reg_model=Ridge()\n",
    "param_grid={\"alpha\":np.arange(0.01,3,0.01)}\n",
    "\n",
    "rscv_ridge_reg_model=RandomizedSearchCV(ridge_reg_model,param_grid,cv=5,n_jobs=-1)\n",
    "rscv_ridge_reg_model.fit(x_train,y_train)"
   ]
  },
  {
   "cell_type": "code",
   "execution_count": 182,
   "id": "a26e6be4",
   "metadata": {},
   "outputs": [
    {
     "data": {
      "text/plain": [
       "Ridge(alpha=0.39)"
      ]
     },
     "execution_count": 182,
     "metadata": {},
     "output_type": "execute_result"
    }
   ],
   "source": [
    "rscv_ridge_reg_model.best_estimator_"
   ]
  },
  {
   "cell_type": "code",
   "execution_count": 185,
   "id": "7ce2f91c",
   "metadata": {},
   "outputs": [
    {
     "data": {
      "text/plain": [
       "Ridge(alpha=0.39)"
      ]
     },
     "execution_count": 185,
     "metadata": {},
     "output_type": "execute_result"
    }
   ],
   "source": [
    "ridge_reg_model_rscv=rscv_ridge_reg_model.best_estimator_\n",
    "ridge_reg_model_rscv"
   ]
  },
  {
   "cell_type": "markdown",
   "id": "ba7f6312",
   "metadata": {},
   "source": [
    "#### model Evaluation "
   ]
  },
  {
   "cell_type": "code",
   "execution_count": 186,
   "id": "2cc625db",
   "metadata": {},
   "outputs": [
    {
     "name": "stdout",
     "output_type": "stream",
     "text": [
      "MAE: 4322.542498860077\n",
      "----------------------------------------------------------------------------------------------------\n",
      "MSE: 41761747.337516345\n",
      "----------------------------------------------------------------------------------------------------\n",
      "RMSE: 6462.332963993448\n",
      "----------------------------------------------------------------------------------------------------\n",
      "R2 SCORE_testing: 0.7100108651601662\n"
     ]
    }
   ],
   "source": [
    "# testing\n",
    "model_evaluation_testing(x_test,y_test,ridge_reg_model_rscv)"
   ]
  },
  {
   "cell_type": "code",
   "execution_count": 187,
   "id": "e16f7c96",
   "metadata": {},
   "outputs": [
    {
     "name": "stdout",
     "output_type": "stream",
     "text": [
      "MAE: 4147.045970723214\n",
      "----------------------------------------------------------------------------------------------------\n",
      "MSE: 35240806.37927624\n",
      "----------------------------------------------------------------------------------------------------\n",
      "RMSE: 5936.396750494044\n",
      "----------------------------------------------------------------------------------------------------\n",
      "R2 SCORE_training: 0.7605392023215971\n"
     ]
    }
   ],
   "source": [
    "# training\n",
    "model_evaluation_training(x_train,y_train,ridge_reg_model_rscv)"
   ]
  },
  {
   "cell_type": "code",
   "execution_count": 188,
   "id": "369a6bf3",
   "metadata": {},
   "outputs": [
    {
     "data": {
      "text/plain": [
       "[0.7605423221866592,\n",
       " 0.7605219526428662,\n",
       " 0.7605374029006164,\n",
       " 0.7605392023215971]"
      ]
     },
     "execution_count": 188,
     "metadata": {},
     "output_type": "execute_result"
    }
   ],
   "source": [
    "training_accuracy_list"
   ]
  },
  {
   "cell_type": "code",
   "execution_count": 189,
   "id": "6f822575",
   "metadata": {},
   "outputs": [
    {
     "data": {
      "text/plain": [
       "[0.7100098801471331, 0.710000851721337, 0.7100101842028543, 0.7100108651601662]"
      ]
     },
     "execution_count": 189,
     "metadata": {},
     "output_type": "execute_result"
    }
   ],
   "source": [
    "testing_accuracy_list"
   ]
  },
  {
   "cell_type": "markdown",
   "id": "2f51ab5d",
   "metadata": {},
   "source": [
    "## Lasso Regression"
   ]
  },
  {
   "cell_type": "code",
   "execution_count": 190,
   "id": "d65c7654",
   "metadata": {},
   "outputs": [
    {
     "data": {
      "text/plain": [
       "Lasso()"
      ]
     },
     "execution_count": 190,
     "metadata": {},
     "output_type": "execute_result"
    }
   ],
   "source": [
    "lasso_reg_model=Lasso(alpha=1.0)\n",
    "lasso_reg_model.fit(x_train,y_train)\n"
   ]
  },
  {
   "cell_type": "code",
   "execution_count": 191,
   "id": "0ef492b1",
   "metadata": {},
   "outputs": [
    {
     "data": {
      "text/plain": [
       "array([  261.81758722,   -56.99092654,   341.01436293,   407.38795117,\n",
       "       23842.67392512,   544.26432048,   243.87693708,  -140.19151269,\n",
       "          -0.        ])"
      ]
     },
     "execution_count": 191,
     "metadata": {},
     "output_type": "execute_result"
    }
   ],
   "source": [
    "lasso_reg_model.coef_"
   ]
  },
  {
   "cell_type": "code",
   "execution_count": 192,
   "id": "d10c22bd",
   "metadata": {},
   "outputs": [
    {
     "data": {
      "text/plain": [
       "-12926.165412008439"
      ]
     },
     "execution_count": 192,
     "metadata": {},
     "output_type": "execute_result"
    }
   ],
   "source": [
    "lasso_reg_model.intercept_"
   ]
  },
  {
   "cell_type": "markdown",
   "id": "34465839",
   "metadata": {},
   "source": [
    "### Model Evaluation for lasso regression "
   ]
  },
  {
   "cell_type": "code",
   "execution_count": 193,
   "id": "c31cb0c4",
   "metadata": {},
   "outputs": [
    {
     "name": "stdout",
     "output_type": "stream",
     "text": [
      "MAE: 4319.592533371794\n",
      "----------------------------------------------------------------------------------------------------\n",
      "MSE: 41769393.956441134\n",
      "----------------------------------------------------------------------------------------------------\n",
      "RMSE: 6462.924566822758\n",
      "----------------------------------------------------------------------------------------------------\n",
      "R2 SCORE_testing: 0.7099577678510778\n"
     ]
    }
   ],
   "source": [
    "# testing\n",
    "model_evaluation_testing(x_test,y_test,lasso_reg_model)"
   ]
  },
  {
   "cell_type": "code",
   "execution_count": 195,
   "id": "dc981b4b",
   "metadata": {},
   "outputs": [
    {
     "name": "stdout",
     "output_type": "stream",
     "text": [
      "MAE: 4143.5306095146425\n",
      "----------------------------------------------------------------------------------------------------\n",
      "MSE: 35240373.382381976\n",
      "----------------------------------------------------------------------------------------------------\n",
      "RMSE: 5936.360280709214\n",
      "----------------------------------------------------------------------------------------------------\n",
      "R2 SCORE_training: 0.7605421445295755\n"
     ]
    }
   ],
   "source": [
    "# training\n",
    "model_evaluation_training(x_train,y_train,lasso_reg_model)"
   ]
  },
  {
   "cell_type": "code",
   "execution_count": 196,
   "id": "6b274d98",
   "metadata": {},
   "outputs": [
    {
     "data": {
      "text/plain": [
       "[0.7605423221866592,\n",
       " 0.7605219526428662,\n",
       " 0.7605374029006164,\n",
       " 0.7605392023215971,\n",
       " 0.7605421445295755]"
      ]
     },
     "execution_count": 196,
     "metadata": {},
     "output_type": "execute_result"
    }
   ],
   "source": [
    "training_accuracy_list"
   ]
  },
  {
   "cell_type": "code",
   "execution_count": 197,
   "id": "e0d7dbc0",
   "metadata": {},
   "outputs": [
    {
     "data": {
      "text/plain": [
       "[0.7100098801471331,\n",
       " 0.710000851721337,\n",
       " 0.7100101842028543,\n",
       " 0.7100108651601662,\n",
       " 0.7099577678510778]"
      ]
     },
     "execution_count": 197,
     "metadata": {},
     "output_type": "execute_result"
    }
   ],
   "source": [
    "testing_accuracy_list"
   ]
  },
  {
   "cell_type": "markdown",
   "id": "38909e43",
   "metadata": {},
   "source": [
    "### hyperparameter tuning for Lasso regression"
   ]
  },
  {
   "cell_type": "markdown",
   "id": "c1767c93",
   "metadata": {},
   "source": [
    "#### GridSearchCV in  lasso regression"
   ]
  },
  {
   "cell_type": "code",
   "execution_count": 201,
   "id": "555f8291",
   "metadata": {},
   "outputs": [
    {
     "data": {
      "text/plain": [
       "GridSearchCV(cv=5, estimator=Lasso(), n_jobs=-1,\n",
       "             param_grid={'alpha': array([0.01, 0.02, 0.03, 0.04, 0.05, 0.06, 0.07, 0.08, 0.09, 0.1 , 0.11,\n",
       "       0.12, 0.13, 0.14, 0.15, 0.16, 0.17, 0.18, 0.19, 0.2 , 0.21, 0.22,\n",
       "       0.23, 0.24, 0.25, 0.26, 0.27, 0.28, 0.29, 0.3 , 0.31, 0.32, 0.33,\n",
       "       0.34, 0.35, 0.36, 0.37, 0.38, 0.39, 0.4 , 0.41, 0.42, 0.43, 0.44,\n",
       "       0.45, 0.46, 0.47, 0.48, 0.49, 0.5 , 0.51, 0.52, 0.53, 0.54, 0.55,\n",
       "       0.56, 0....\n",
       "       2.21, 2.22, 2.23, 2.24, 2.25, 2.26, 2.27, 2.28, 2.29, 2.3 , 2.31,\n",
       "       2.32, 2.33, 2.34, 2.35, 2.36, 2.37, 2.38, 2.39, 2.4 , 2.41, 2.42,\n",
       "       2.43, 2.44, 2.45, 2.46, 2.47, 2.48, 2.49, 2.5 , 2.51, 2.52, 2.53,\n",
       "       2.54, 2.55, 2.56, 2.57, 2.58, 2.59, 2.6 , 2.61, 2.62, 2.63, 2.64,\n",
       "       2.65, 2.66, 2.67, 2.68, 2.69, 2.7 , 2.71, 2.72, 2.73, 2.74, 2.75,\n",
       "       2.76, 2.77, 2.78, 2.79, 2.8 , 2.81, 2.82, 2.83, 2.84, 2.85, 2.86,\n",
       "       2.87, 2.88, 2.89, 2.9 , 2.91, 2.92, 2.93, 2.94, 2.95, 2.96, 2.97,\n",
       "       2.98, 2.99])})"
      ]
     },
     "execution_count": 201,
     "metadata": {},
     "output_type": "execute_result"
    }
   ],
   "source": [
    "lasso_reg_model=Lasso()\n",
    "\n",
    "param_grid={'alpha':np.arange(0.01,3,0.01)}\n",
    "gscv_lasso_reg_model=GridSearchCV(lasso_reg_model,param_grid,cv=5,n_jobs=-1)\n",
    "gscv_lasso_reg_model.fit(x_train,y_train)"
   ]
  },
  {
   "cell_type": "code",
   "execution_count": 202,
   "id": "8726f3cc",
   "metadata": {},
   "outputs": [
    {
     "data": {
      "text/plain": [
       "Lasso(alpha=2.9899999999999998)"
      ]
     },
     "execution_count": 202,
     "metadata": {},
     "output_type": "execute_result"
    }
   ],
   "source": [
    "gscv_lasso_reg_model.best_estimator_"
   ]
  },
  {
   "cell_type": "code",
   "execution_count": 205,
   "id": "30a54a91",
   "metadata": {},
   "outputs": [
    {
     "data": {
      "text/plain": [
       "Lasso(alpha=2.9899999999999998)"
      ]
     },
     "execution_count": 205,
     "metadata": {},
     "output_type": "execute_result"
    }
   ],
   "source": [
    "gscv_lasso_model=gscv_lasso_reg_model.best_estimator_\n",
    "gscv_lasso_model"
   ]
  },
  {
   "cell_type": "markdown",
   "id": "d65a32ea",
   "metadata": {},
   "source": [
    "### Model Evaluation for GridSearchCV lasso regression"
   ]
  },
  {
   "cell_type": "code",
   "execution_count": 206,
   "id": "aa3e7930",
   "metadata": {},
   "outputs": [
    {
     "name": "stdout",
     "output_type": "stream",
     "text": [
      "MAE: 4319.83228593165\n",
      "----------------------------------------------------------------------------------------------------\n",
      "MSE: 41785964.83552129\n",
      "----------------------------------------------------------------------------------------------------\n",
      "RMSE: 6464.20643509482\n",
      "----------------------------------------------------------------------------------------------------\n",
      "R2 SCORE_testing: 0.7098427014279909\n"
     ]
    }
   ],
   "source": [
    "# testing\n",
    "model_evaluation_testing(x_test,y_test,gscv_lasso_model)"
   ]
  },
  {
   "cell_type": "code",
   "execution_count": 207,
   "id": "d935a0a2",
   "metadata": {},
   "outputs": [
    {
     "name": "stdout",
     "output_type": "stream",
     "text": [
      "MAE: 4144.4827333004005\n",
      "----------------------------------------------------------------------------------------------------\n",
      "MSE: 35240598.23538707\n",
      "----------------------------------------------------------------------------------------------------\n",
      "RMSE: 5936.379219304227\n",
      "----------------------------------------------------------------------------------------------------\n",
      "R2 SCORE_training: 0.7605406166564792\n"
     ]
    }
   ],
   "source": [
    "# training\n",
    "model_evaluation_training(x_train,y_train,gscv_lasso_model)"
   ]
  },
  {
   "cell_type": "markdown",
   "id": "ab90708c",
   "metadata": {},
   "source": [
    "### RandomizedSearchCV in Lasso model"
   ]
  },
  {
   "cell_type": "code",
   "execution_count": 208,
   "id": "32799d0c",
   "metadata": {},
   "outputs": [
    {
     "data": {
      "text/plain": [
       "RandomizedSearchCV(cv=5, estimator=Lasso(), n_jobs=-1,\n",
       "                   param_distributions={'alpha': array([0.01, 0.02, 0.03, 0.04, 0.05, 0.06, 0.07, 0.08, 0.09, 0.1 , 0.11,\n",
       "       0.12, 0.13, 0.14, 0.15, 0.16, 0.17, 0.18, 0.19, 0.2 , 0.21, 0.22,\n",
       "       0.23, 0.24, 0.25, 0.26, 0.27, 0.28, 0.29, 0.3 , 0.31, 0.32, 0.33,\n",
       "       0.34, 0.35, 0.36, 0.37, 0.38, 0.39, 0.4 , 0.41, 0.42, 0.43, 0.44,\n",
       "       0.45, 0.46, 0.47, 0.48, 0.49, 0.5 , 0.51, 0.52, 0.53, 0....\n",
       "       2.21, 2.22, 2.23, 2.24, 2.25, 2.26, 2.27, 2.28, 2.29, 2.3 , 2.31,\n",
       "       2.32, 2.33, 2.34, 2.35, 2.36, 2.37, 2.38, 2.39, 2.4 , 2.41, 2.42,\n",
       "       2.43, 2.44, 2.45, 2.46, 2.47, 2.48, 2.49, 2.5 , 2.51, 2.52, 2.53,\n",
       "       2.54, 2.55, 2.56, 2.57, 2.58, 2.59, 2.6 , 2.61, 2.62, 2.63, 2.64,\n",
       "       2.65, 2.66, 2.67, 2.68, 2.69, 2.7 , 2.71, 2.72, 2.73, 2.74, 2.75,\n",
       "       2.76, 2.77, 2.78, 2.79, 2.8 , 2.81, 2.82, 2.83, 2.84, 2.85, 2.86,\n",
       "       2.87, 2.88, 2.89, 2.9 , 2.91, 2.92, 2.93, 2.94, 2.95, 2.96, 2.97,\n",
       "       2.98, 2.99])})"
      ]
     },
     "execution_count": 208,
     "metadata": {},
     "output_type": "execute_result"
    }
   ],
   "source": [
    "lasso_reg_model=Lasso()\n",
    "\n",
    "param_grid={'alpha':np.arange(0.01,3,0.01)}\n",
    "rscv_lasso_reg_model=RandomizedSearchCV(lasso_reg_model,param_grid,cv=5,n_jobs=-1)\n",
    "rscv_lasso_reg_model.fit(x_train,y_train)"
   ]
  },
  {
   "cell_type": "code",
   "execution_count": 209,
   "id": "9095e0e5",
   "metadata": {},
   "outputs": [
    {
     "data": {
      "text/plain": [
       "Lasso(alpha=2.51)"
      ]
     },
     "execution_count": 209,
     "metadata": {},
     "output_type": "execute_result"
    }
   ],
   "source": [
    "rscv_lasso_reg_model.best_estimator_"
   ]
  },
  {
   "cell_type": "code",
   "execution_count": 210,
   "id": "f56a3f3b",
   "metadata": {},
   "outputs": [
    {
     "data": {
      "text/plain": [
       "Lasso(alpha=2.51)"
      ]
     },
     "execution_count": 210,
     "metadata": {},
     "output_type": "execute_result"
    }
   ],
   "source": [
    "rscv_lasso_model=rscv_lasso_reg_model.best_estimator_\n",
    "rscv_lasso_model"
   ]
  },
  {
   "cell_type": "markdown",
   "id": "14604823",
   "metadata": {},
   "source": [
    "### Model Evaluation "
   ]
  },
  {
   "cell_type": "code",
   "execution_count": 211,
   "id": "3213c60a",
   "metadata": {},
   "outputs": [
    {
     "name": "stdout",
     "output_type": "stream",
     "text": [
      "MAE: 4319.774456168469\n",
      "----------------------------------------------------------------------------------------------------\n",
      "MSE: 41781948.14823482\n",
      "----------------------------------------------------------------------------------------------------\n",
      "RMSE: 6463.895740823395\n",
      "----------------------------------------------------------------------------------------------------\n",
      "R2 SCORE_testing: 0.7098705928775921\n"
     ]
    }
   ],
   "source": [
    "# testing\n",
    "model_evaluation_testing(x_test,y_test,rscv_lasso_model)"
   ]
  },
  {
   "cell_type": "code",
   "execution_count": 212,
   "id": "9db5c3c9",
   "metadata": {},
   "outputs": [
    {
     "name": "stdout",
     "output_type": "stream",
     "text": [
      "MAE: 4144.2530753018245\n",
      "----------------------------------------------------------------------------------------------------\n",
      "MSE: 35240522.888587095\n",
      "----------------------------------------------------------------------------------------------------\n",
      "RMSE: 5936.372873109227\n",
      "----------------------------------------------------------------------------------------------------\n",
      "R2 SCORE_training: 0.7605411286369551\n"
     ]
    }
   ],
   "source": [
    "# training\n",
    "model_evaluation_training(x_train,y_train,rscv_lasso_model)"
   ]
  },
  {
   "cell_type": "code",
   "execution_count": 213,
   "id": "9366d3b5",
   "metadata": {},
   "outputs": [
    {
     "data": {
      "text/plain": [
       "[0.7605423221866592,\n",
       " 0.7605219526428662,\n",
       " 0.7605374029006164,\n",
       " 0.7605392023215971,\n",
       " 0.7605421445295755,\n",
       " 0.7605406166564792,\n",
       " 0.7605411286369551]"
      ]
     },
     "execution_count": 213,
     "metadata": {},
     "output_type": "execute_result"
    }
   ],
   "source": [
    "training_accuracy_list"
   ]
  },
  {
   "cell_type": "code",
   "execution_count": 214,
   "id": "7f9a9e3d",
   "metadata": {},
   "outputs": [
    {
     "data": {
      "text/plain": [
       "[0.7100098801471331,\n",
       " 0.710000851721337,\n",
       " 0.7100101842028543,\n",
       " 0.7100108651601662,\n",
       " 0.7099577678510778,\n",
       " 0.7098427014279909,\n",
       " 0.7098705928775921]"
      ]
     },
     "execution_count": 214,
     "metadata": {},
     "output_type": "execute_result"
    }
   ],
   "source": [
    "testing_accuracy_list"
   ]
  },
  {
   "cell_type": "code",
   "execution_count": 222,
   "id": "4bc0f68b",
   "metadata": {},
   "outputs": [],
   "source": [
    "result=pd.DataFrame(training_accuracy_list,index=['Linear Regression','Ridge Regession',\"gscv Ridge regression\",'rscv Ridge Regression',\n",
    "                                                 'Lasso regression','gscv Lasso regression',\"rscv Lasso Regression\"],columns=['R2_Train'])\n",
    "result['R2_test']=testing_accuracy_list"
   ]
  },
  {
   "cell_type": "code",
   "execution_count": 231,
   "id": "2b10d950",
   "metadata": {},
   "outputs": [],
   "source": [
    "result[\"Diff_in_percetage\"]=(result['R2_Train']-result['R2_test'])*100\n",
    "result.insert(0,'Alpha',['--','1.0','0.49','0.39','1.0','2.989','2.51'])"
   ]
  },
  {
   "cell_type": "code",
   "execution_count": 232,
   "id": "0248bcf7",
   "metadata": {},
   "outputs": [
    {
     "data": {
      "text/html": [
       "<div>\n",
       "<style scoped>\n",
       "    .dataframe tbody tr th:only-of-type {\n",
       "        vertical-align: middle;\n",
       "    }\n",
       "\n",
       "    .dataframe tbody tr th {\n",
       "        vertical-align: top;\n",
       "    }\n",
       "\n",
       "    .dataframe thead th {\n",
       "        text-align: right;\n",
       "    }\n",
       "</style>\n",
       "<table border=\"1\" class=\"dataframe\">\n",
       "  <thead>\n",
       "    <tr style=\"text-align: right;\">\n",
       "      <th></th>\n",
       "      <th>Alpha</th>\n",
       "      <th>R2_Train</th>\n",
       "      <th>R2_test</th>\n",
       "      <th>Diff_in_percetage</th>\n",
       "    </tr>\n",
       "  </thead>\n",
       "  <tbody>\n",
       "    <tr>\n",
       "      <th>Linear Regression</th>\n",
       "      <td>--</td>\n",
       "      <td>0.760542</td>\n",
       "      <td>0.710010</td>\n",
       "      <td>5.053244</td>\n",
       "    </tr>\n",
       "    <tr>\n",
       "      <th>Ridge Regession</th>\n",
       "      <td>1.0</td>\n",
       "      <td>0.760522</td>\n",
       "      <td>0.710001</td>\n",
       "      <td>5.052110</td>\n",
       "    </tr>\n",
       "    <tr>\n",
       "      <th>gscv Ridge regression</th>\n",
       "      <td>0.49</td>\n",
       "      <td>0.760537</td>\n",
       "      <td>0.710010</td>\n",
       "      <td>5.052722</td>\n",
       "    </tr>\n",
       "    <tr>\n",
       "      <th>rscv Ridge Regression</th>\n",
       "      <td>0.39</td>\n",
       "      <td>0.760539</td>\n",
       "      <td>0.710011</td>\n",
       "      <td>5.052834</td>\n",
       "    </tr>\n",
       "    <tr>\n",
       "      <th>Lasso regression</th>\n",
       "      <td>1.0</td>\n",
       "      <td>0.760542</td>\n",
       "      <td>0.709958</td>\n",
       "      <td>5.058438</td>\n",
       "    </tr>\n",
       "    <tr>\n",
       "      <th>gscv Lasso regression</th>\n",
       "      <td>2.989</td>\n",
       "      <td>0.760541</td>\n",
       "      <td>0.709843</td>\n",
       "      <td>5.069792</td>\n",
       "    </tr>\n",
       "    <tr>\n",
       "      <th>rscv Lasso Regression</th>\n",
       "      <td>2.51</td>\n",
       "      <td>0.760541</td>\n",
       "      <td>0.709871</td>\n",
       "      <td>5.067054</td>\n",
       "    </tr>\n",
       "  </tbody>\n",
       "</table>\n",
       "</div>"
      ],
      "text/plain": [
       "                       Alpha  R2_Train   R2_test  Diff_in_percetage\n",
       "Linear Regression         --  0.760542  0.710010           5.053244\n",
       "Ridge Regession          1.0  0.760522  0.710001           5.052110\n",
       "gscv Ridge regression   0.49  0.760537  0.710010           5.052722\n",
       "rscv Ridge Regression   0.39  0.760539  0.710011           5.052834\n",
       "Lasso regression         1.0  0.760542  0.709958           5.058438\n",
       "gscv Lasso regression  2.989  0.760541  0.709843           5.069792\n",
       "rscv Lasso Regression   2.51  0.760541  0.709871           5.067054"
      ]
     },
     "execution_count": 232,
     "metadata": {},
     "output_type": "execute_result"
    }
   ],
   "source": [
    "result"
   ]
  },
  {
   "cell_type": "code",
   "execution_count": 233,
   "id": "83d50b28",
   "metadata": {},
   "outputs": [
    {
     "data": {
      "text/html": [
       "<div>\n",
       "<style scoped>\n",
       "    .dataframe tbody tr th:only-of-type {\n",
       "        vertical-align: middle;\n",
       "    }\n",
       "\n",
       "    .dataframe tbody tr th {\n",
       "        vertical-align: top;\n",
       "    }\n",
       "\n",
       "    .dataframe thead th {\n",
       "        text-align: right;\n",
       "    }\n",
       "</style>\n",
       "<table border=\"1\" class=\"dataframe\">\n",
       "  <thead>\n",
       "    <tr style=\"text-align: right;\">\n",
       "      <th></th>\n",
       "      <th>age</th>\n",
       "      <th>sex</th>\n",
       "      <th>bmi</th>\n",
       "      <th>children</th>\n",
       "      <th>smoker</th>\n",
       "      <th>charges</th>\n",
       "      <th>region_northeast</th>\n",
       "      <th>region_northwest</th>\n",
       "      <th>region_southeast</th>\n",
       "      <th>region_southwest</th>\n",
       "    </tr>\n",
       "  </thead>\n",
       "  <tbody>\n",
       "    <tr>\n",
       "      <th>0</th>\n",
       "      <td>19</td>\n",
       "      <td>0</td>\n",
       "      <td>27.900</td>\n",
       "      <td>0</td>\n",
       "      <td>1</td>\n",
       "      <td>16884.92400</td>\n",
       "      <td>0</td>\n",
       "      <td>0</td>\n",
       "      <td>0</td>\n",
       "      <td>1</td>\n",
       "    </tr>\n",
       "    <tr>\n",
       "      <th>1</th>\n",
       "      <td>18</td>\n",
       "      <td>1</td>\n",
       "      <td>33.770</td>\n",
       "      <td>1</td>\n",
       "      <td>0</td>\n",
       "      <td>1725.55230</td>\n",
       "      <td>0</td>\n",
       "      <td>0</td>\n",
       "      <td>1</td>\n",
       "      <td>0</td>\n",
       "    </tr>\n",
       "    <tr>\n",
       "      <th>2</th>\n",
       "      <td>28</td>\n",
       "      <td>1</td>\n",
       "      <td>33.000</td>\n",
       "      <td>3</td>\n",
       "      <td>0</td>\n",
       "      <td>4449.46200</td>\n",
       "      <td>0</td>\n",
       "      <td>0</td>\n",
       "      <td>1</td>\n",
       "      <td>0</td>\n",
       "    </tr>\n",
       "    <tr>\n",
       "      <th>3</th>\n",
       "      <td>33</td>\n",
       "      <td>1</td>\n",
       "      <td>22.705</td>\n",
       "      <td>0</td>\n",
       "      <td>0</td>\n",
       "      <td>21984.47061</td>\n",
       "      <td>0</td>\n",
       "      <td>1</td>\n",
       "      <td>0</td>\n",
       "      <td>0</td>\n",
       "    </tr>\n",
       "    <tr>\n",
       "      <th>4</th>\n",
       "      <td>32</td>\n",
       "      <td>1</td>\n",
       "      <td>28.880</td>\n",
       "      <td>0</td>\n",
       "      <td>0</td>\n",
       "      <td>3866.85520</td>\n",
       "      <td>0</td>\n",
       "      <td>1</td>\n",
       "      <td>0</td>\n",
       "      <td>0</td>\n",
       "    </tr>\n",
       "    <tr>\n",
       "      <th>...</th>\n",
       "      <td>...</td>\n",
       "      <td>...</td>\n",
       "      <td>...</td>\n",
       "      <td>...</td>\n",
       "      <td>...</td>\n",
       "      <td>...</td>\n",
       "      <td>...</td>\n",
       "      <td>...</td>\n",
       "      <td>...</td>\n",
       "      <td>...</td>\n",
       "    </tr>\n",
       "    <tr>\n",
       "      <th>1333</th>\n",
       "      <td>50</td>\n",
       "      <td>1</td>\n",
       "      <td>30.970</td>\n",
       "      <td>3</td>\n",
       "      <td>0</td>\n",
       "      <td>10600.54830</td>\n",
       "      <td>0</td>\n",
       "      <td>1</td>\n",
       "      <td>0</td>\n",
       "      <td>0</td>\n",
       "    </tr>\n",
       "    <tr>\n",
       "      <th>1334</th>\n",
       "      <td>18</td>\n",
       "      <td>0</td>\n",
       "      <td>31.920</td>\n",
       "      <td>0</td>\n",
       "      <td>0</td>\n",
       "      <td>2205.98080</td>\n",
       "      <td>1</td>\n",
       "      <td>0</td>\n",
       "      <td>0</td>\n",
       "      <td>0</td>\n",
       "    </tr>\n",
       "    <tr>\n",
       "      <th>1335</th>\n",
       "      <td>18</td>\n",
       "      <td>0</td>\n",
       "      <td>36.850</td>\n",
       "      <td>0</td>\n",
       "      <td>0</td>\n",
       "      <td>1629.83350</td>\n",
       "      <td>0</td>\n",
       "      <td>0</td>\n",
       "      <td>1</td>\n",
       "      <td>0</td>\n",
       "    </tr>\n",
       "    <tr>\n",
       "      <th>1336</th>\n",
       "      <td>21</td>\n",
       "      <td>0</td>\n",
       "      <td>25.800</td>\n",
       "      <td>0</td>\n",
       "      <td>0</td>\n",
       "      <td>2007.94500</td>\n",
       "      <td>0</td>\n",
       "      <td>0</td>\n",
       "      <td>0</td>\n",
       "      <td>1</td>\n",
       "    </tr>\n",
       "    <tr>\n",
       "      <th>1337</th>\n",
       "      <td>61</td>\n",
       "      <td>0</td>\n",
       "      <td>29.070</td>\n",
       "      <td>0</td>\n",
       "      <td>1</td>\n",
       "      <td>29141.36030</td>\n",
       "      <td>0</td>\n",
       "      <td>1</td>\n",
       "      <td>0</td>\n",
       "      <td>0</td>\n",
       "    </tr>\n",
       "  </tbody>\n",
       "</table>\n",
       "<p>1338 rows × 10 columns</p>\n",
       "</div>"
      ],
      "text/plain": [
       "      age  sex     bmi  children  smoker      charges  region_northeast  \\\n",
       "0      19    0  27.900         0       1  16884.92400                 0   \n",
       "1      18    1  33.770         1       0   1725.55230                 0   \n",
       "2      28    1  33.000         3       0   4449.46200                 0   \n",
       "3      33    1  22.705         0       0  21984.47061                 0   \n",
       "4      32    1  28.880         0       0   3866.85520                 0   \n",
       "...   ...  ...     ...       ...     ...          ...               ...   \n",
       "1333   50    1  30.970         3       0  10600.54830                 0   \n",
       "1334   18    0  31.920         0       0   2205.98080                 1   \n",
       "1335   18    0  36.850         0       0   1629.83350                 0   \n",
       "1336   21    0  25.800         0       0   2007.94500                 0   \n",
       "1337   61    0  29.070         0       1  29141.36030                 0   \n",
       "\n",
       "      region_northwest  region_southeast  region_southwest  \n",
       "0                    0                 0                 1  \n",
       "1                    0                 1                 0  \n",
       "2                    0                 1                 0  \n",
       "3                    1                 0                 0  \n",
       "4                    1                 0                 0  \n",
       "...                ...               ...               ...  \n",
       "1333                 1                 0                 0  \n",
       "1334                 0                 0                 0  \n",
       "1335                 0                 1                 0  \n",
       "1336                 0                 0                 1  \n",
       "1337                 1                 0                 0  \n",
       "\n",
       "[1338 rows x 10 columns]"
      ]
     },
     "execution_count": 233,
     "metadata": {},
     "output_type": "execute_result"
    }
   ],
   "source": [
    "df"
   ]
  },
  {
   "cell_type": "code",
   "execution_count": 234,
   "id": "2f8d7741",
   "metadata": {},
   "outputs": [],
   "source": [
    "# here we will train the model on gscv ridge regression\n"
   ]
  },
  {
   "cell_type": "code",
   "execution_count": null,
   "id": "94fe1aa4",
   "metadata": {},
   "outputs": [],
   "source": [
    "# we have to make a pickle file of gscv ridge regression model\n"
   ]
  },
  {
   "cell_type": "markdown",
   "id": "59f7a60c",
   "metadata": {},
   "source": [
    "# storing the best model in pickle file"
   ]
  },
  {
   "cell_type": "code",
   "execution_count": 236,
   "id": "2cfe57f6",
   "metadata": {},
   "outputs": [],
   "source": [
    "with open (\"Linear_model.pkl\",'wb') as f:\n",
    "    pickle.dump(gscv_ridge_reg_model,f)\n",
    "    "
   ]
  },
  {
   "cell_type": "code",
   "execution_count": 237,
   "id": "36983a31",
   "metadata": {},
   "outputs": [
    {
     "data": {
      "text/html": [
       "<div>\n",
       "<style scoped>\n",
       "    .dataframe tbody tr th:only-of-type {\n",
       "        vertical-align: middle;\n",
       "    }\n",
       "\n",
       "    .dataframe tbody tr th {\n",
       "        vertical-align: top;\n",
       "    }\n",
       "\n",
       "    .dataframe thead th {\n",
       "        text-align: right;\n",
       "    }\n",
       "</style>\n",
       "<table border=\"1\" class=\"dataframe\">\n",
       "  <thead>\n",
       "    <tr style=\"text-align: right;\">\n",
       "      <th></th>\n",
       "      <th>age</th>\n",
       "      <th>sex</th>\n",
       "      <th>bmi</th>\n",
       "      <th>children</th>\n",
       "      <th>smoker</th>\n",
       "      <th>charges</th>\n",
       "      <th>region_northeast</th>\n",
       "      <th>region_northwest</th>\n",
       "      <th>region_southeast</th>\n",
       "      <th>region_southwest</th>\n",
       "    </tr>\n",
       "  </thead>\n",
       "  <tbody>\n",
       "    <tr>\n",
       "      <th>0</th>\n",
       "      <td>19</td>\n",
       "      <td>0</td>\n",
       "      <td>27.900</td>\n",
       "      <td>0</td>\n",
       "      <td>1</td>\n",
       "      <td>16884.92400</td>\n",
       "      <td>0</td>\n",
       "      <td>0</td>\n",
       "      <td>0</td>\n",
       "      <td>1</td>\n",
       "    </tr>\n",
       "    <tr>\n",
       "      <th>1</th>\n",
       "      <td>18</td>\n",
       "      <td>1</td>\n",
       "      <td>33.770</td>\n",
       "      <td>1</td>\n",
       "      <td>0</td>\n",
       "      <td>1725.55230</td>\n",
       "      <td>0</td>\n",
       "      <td>0</td>\n",
       "      <td>1</td>\n",
       "      <td>0</td>\n",
       "    </tr>\n",
       "    <tr>\n",
       "      <th>2</th>\n",
       "      <td>28</td>\n",
       "      <td>1</td>\n",
       "      <td>33.000</td>\n",
       "      <td>3</td>\n",
       "      <td>0</td>\n",
       "      <td>4449.46200</td>\n",
       "      <td>0</td>\n",
       "      <td>0</td>\n",
       "      <td>1</td>\n",
       "      <td>0</td>\n",
       "    </tr>\n",
       "    <tr>\n",
       "      <th>3</th>\n",
       "      <td>33</td>\n",
       "      <td>1</td>\n",
       "      <td>22.705</td>\n",
       "      <td>0</td>\n",
       "      <td>0</td>\n",
       "      <td>21984.47061</td>\n",
       "      <td>0</td>\n",
       "      <td>1</td>\n",
       "      <td>0</td>\n",
       "      <td>0</td>\n",
       "    </tr>\n",
       "    <tr>\n",
       "      <th>4</th>\n",
       "      <td>32</td>\n",
       "      <td>1</td>\n",
       "      <td>28.880</td>\n",
       "      <td>0</td>\n",
       "      <td>0</td>\n",
       "      <td>3866.85520</td>\n",
       "      <td>0</td>\n",
       "      <td>1</td>\n",
       "      <td>0</td>\n",
       "      <td>0</td>\n",
       "    </tr>\n",
       "    <tr>\n",
       "      <th>...</th>\n",
       "      <td>...</td>\n",
       "      <td>...</td>\n",
       "      <td>...</td>\n",
       "      <td>...</td>\n",
       "      <td>...</td>\n",
       "      <td>...</td>\n",
       "      <td>...</td>\n",
       "      <td>...</td>\n",
       "      <td>...</td>\n",
       "      <td>...</td>\n",
       "    </tr>\n",
       "    <tr>\n",
       "      <th>1333</th>\n",
       "      <td>50</td>\n",
       "      <td>1</td>\n",
       "      <td>30.970</td>\n",
       "      <td>3</td>\n",
       "      <td>0</td>\n",
       "      <td>10600.54830</td>\n",
       "      <td>0</td>\n",
       "      <td>1</td>\n",
       "      <td>0</td>\n",
       "      <td>0</td>\n",
       "    </tr>\n",
       "    <tr>\n",
       "      <th>1334</th>\n",
       "      <td>18</td>\n",
       "      <td>0</td>\n",
       "      <td>31.920</td>\n",
       "      <td>0</td>\n",
       "      <td>0</td>\n",
       "      <td>2205.98080</td>\n",
       "      <td>1</td>\n",
       "      <td>0</td>\n",
       "      <td>0</td>\n",
       "      <td>0</td>\n",
       "    </tr>\n",
       "    <tr>\n",
       "      <th>1335</th>\n",
       "      <td>18</td>\n",
       "      <td>0</td>\n",
       "      <td>36.850</td>\n",
       "      <td>0</td>\n",
       "      <td>0</td>\n",
       "      <td>1629.83350</td>\n",
       "      <td>0</td>\n",
       "      <td>0</td>\n",
       "      <td>1</td>\n",
       "      <td>0</td>\n",
       "    </tr>\n",
       "    <tr>\n",
       "      <th>1336</th>\n",
       "      <td>21</td>\n",
       "      <td>0</td>\n",
       "      <td>25.800</td>\n",
       "      <td>0</td>\n",
       "      <td>0</td>\n",
       "      <td>2007.94500</td>\n",
       "      <td>0</td>\n",
       "      <td>0</td>\n",
       "      <td>0</td>\n",
       "      <td>1</td>\n",
       "    </tr>\n",
       "    <tr>\n",
       "      <th>1337</th>\n",
       "      <td>61</td>\n",
       "      <td>0</td>\n",
       "      <td>29.070</td>\n",
       "      <td>0</td>\n",
       "      <td>1</td>\n",
       "      <td>29141.36030</td>\n",
       "      <td>0</td>\n",
       "      <td>1</td>\n",
       "      <td>0</td>\n",
       "      <td>0</td>\n",
       "    </tr>\n",
       "  </tbody>\n",
       "</table>\n",
       "<p>1338 rows × 10 columns</p>\n",
       "</div>"
      ],
      "text/plain": [
       "      age  sex     bmi  children  smoker      charges  region_northeast  \\\n",
       "0      19    0  27.900         0       1  16884.92400                 0   \n",
       "1      18    1  33.770         1       0   1725.55230                 0   \n",
       "2      28    1  33.000         3       0   4449.46200                 0   \n",
       "3      33    1  22.705         0       0  21984.47061                 0   \n",
       "4      32    1  28.880         0       0   3866.85520                 0   \n",
       "...   ...  ...     ...       ...     ...          ...               ...   \n",
       "1333   50    1  30.970         3       0  10600.54830                 0   \n",
       "1334   18    0  31.920         0       0   2205.98080                 1   \n",
       "1335   18    0  36.850         0       0   1629.83350                 0   \n",
       "1336   21    0  25.800         0       0   2007.94500                 0   \n",
       "1337   61    0  29.070         0       1  29141.36030                 0   \n",
       "\n",
       "      region_northwest  region_southeast  region_southwest  \n",
       "0                    0                 0                 1  \n",
       "1                    0                 1                 0  \n",
       "2                    0                 1                 0  \n",
       "3                    1                 0                 0  \n",
       "4                    1                 0                 0  \n",
       "...                ...               ...               ...  \n",
       "1333                 1                 0                 0  \n",
       "1334                 0                 0                 0  \n",
       "1335                 0                 1                 0  \n",
       "1336                 0                 0                 1  \n",
       "1337                 1                 0                 0  \n",
       "\n",
       "[1338 rows x 10 columns]"
      ]
     },
     "execution_count": 237,
     "metadata": {},
     "output_type": "execute_result"
    }
   ],
   "source": [
    "df"
   ]
  },
  {
   "cell_type": "code",
   "execution_count": 238,
   "id": "1c7b64f3",
   "metadata": {},
   "outputs": [],
   "source": [
    "# we have three encoded columns\n",
    "# 2 are label encoded 1 is one hot encoded"
   ]
  },
  {
   "cell_type": "markdown",
   "id": "57b0b351",
   "metadata": {},
   "source": [
    "# storing the data in json file"
   ]
  },
  {
   "cell_type": "code",
   "execution_count": 240,
   "id": "855f22cd",
   "metadata": {},
   "outputs": [],
   "source": [
    "# for label encoded columns we have to store their data in json file \n",
    "\n",
    "sex_value={'male': 1, 'female': 0}\n",
    "smoker_value={'no': 0, 'yes': 1}"
   ]
  },
  {
   "cell_type": "code",
   "execution_count": 244,
   "id": "ad960757",
   "metadata": {},
   "outputs": [],
   "source": [
    "json_data={'sex':sex_value,\n",
    "          'smoker':smoker_value,\n",
    "          \"columns\":list(x.columns)}"
   ]
  },
  {
   "cell_type": "code",
   "execution_count": 241,
   "id": "5ee778db",
   "metadata": {},
   "outputs": [
    {
     "data": {
      "text/plain": [
       "Index(['age', 'sex', 'bmi', 'children', 'smoker', 'region_northeast',\n",
       "       'region_northwest', 'region_southeast', 'region_southwest'],\n",
       "      dtype='object')"
      ]
     },
     "execution_count": 241,
     "metadata": {},
     "output_type": "execute_result"
    }
   ],
   "source": [
    "x.columns"
   ]
  },
  {
   "cell_type": "code",
   "execution_count": 246,
   "id": "c23588d3",
   "metadata": {},
   "outputs": [],
   "source": [
    "with open (\"json_data.json\",'w') as f:\n",
    "    json.dump(json_data,f)"
   ]
  },
  {
   "cell_type": "markdown",
   "id": "415979b5",
   "metadata": {},
   "source": [
    "# Prediction on user input values"
   ]
  },
  {
   "cell_type": "code",
   "execution_count": 251,
   "id": "6e05fb67",
   "metadata": {},
   "outputs": [
    {
     "data": {
      "text/plain": [
       "Index(['age', 'sex', 'bmi', 'children', 'smoker', 'region_northeast',\n",
       "       'region_northwest', 'region_southeast', 'region_southwest'],\n",
       "      dtype='object')"
      ]
     },
     "execution_count": 251,
     "metadata": {},
     "output_type": "execute_result"
    }
   ],
   "source": []
  },
  {
   "cell_type": "code",
   "execution_count": 263,
   "id": "2bbd3591",
   "metadata": {},
   "outputs": [],
   "source": [
    "age=26\n",
    "sex='male'\n",
    "bmi=28.6\n",
    "children=2\n",
    "smoker='no'\n",
    "region='northeast'"
   ]
  },
  {
   "cell_type": "code",
   "execution_count": 264,
   "id": "d770a560",
   "metadata": {},
   "outputs": [
    {
     "data": {
      "text/plain": [
       "'region_northeast'"
      ]
     },
     "execution_count": 264,
     "metadata": {},
     "output_type": "execute_result"
    }
   ],
   "source": [
    "region=\"region_\"+region # one hot encoded column\n",
    "region"
   ]
  },
  {
   "cell_type": "code",
   "execution_count": 265,
   "id": "4db64765",
   "metadata": {},
   "outputs": [
    {
     "data": {
      "text/plain": [
       "5"
      ]
     },
     "execution_count": 265,
     "metadata": {},
     "output_type": "execute_result"
    }
   ],
   "source": [
    "region_index=list(x.columns).index(region)\n",
    "region_index"
   ]
  },
  {
   "cell_type": "code",
   "execution_count": 266,
   "id": "822fbb15",
   "metadata": {},
   "outputs": [
    {
     "data": {
      "text/plain": [
       "Index(['age', 'sex', 'bmi', 'children', 'smoker', 'region_northeast',\n",
       "       'region_northwest', 'region_southeast', 'region_southwest'],\n",
       "      dtype='object')"
      ]
     },
     "execution_count": 266,
     "metadata": {},
     "output_type": "execute_result"
    }
   ],
   "source": [
    "x.columns"
   ]
  },
  {
   "cell_type": "markdown",
   "id": "580fe425",
   "metadata": {},
   "source": [
    "### craeting test array this input will given to model"
   ]
  },
  {
   "cell_type": "code",
   "execution_count": 267,
   "id": "37c0a38f",
   "metadata": {},
   "outputs": [
    {
     "data": {
      "text/plain": [
       "array([0., 0., 0., 0., 0., 0., 0., 0., 0.])"
      ]
     },
     "execution_count": 267,
     "metadata": {},
     "output_type": "execute_result"
    }
   ],
   "source": [
    "test_array=np.zeros(len(x.columns))\n",
    "test_array"
   ]
  },
  {
   "cell_type": "code",
   "execution_count": 268,
   "id": "451b83e5",
   "metadata": {},
   "outputs": [],
   "source": [
    "test_array[0]=age\n",
    "test_array[1]=sex_value[sex] # label encoded column\n",
    "test_array[2]=bmi\n",
    "test_array[3]=children\n",
    "test_array[4]=smoker_value[smoker]# label encoded column\n",
    "test_array[region_index]=1 # one hot encoded column"
   ]
  },
  {
   "cell_type": "code",
   "execution_count": 269,
   "id": "cef4e569",
   "metadata": {},
   "outputs": [
    {
     "data": {
      "text/plain": [
       "array([26. ,  1. , 28.6,  2. ,  0. ,  1. ,  0. ,  0. ,  0. ])"
      ]
     },
     "execution_count": 269,
     "metadata": {},
     "output_type": "execute_result"
    }
   ],
   "source": [
    "test_array"
   ]
  },
  {
   "cell_type": "code",
   "execution_count": 277,
   "id": "1f030e65",
   "metadata": {},
   "outputs": [
    {
     "name": "stdout",
     "output_type": "stream",
     "text": [
      "Medical Insurance charges will be: 4954.27 /-Rs. Only\n"
     ]
    }
   ],
   "source": [
    "charges=np.around(gscv_ridge_reg_model.predict([test_array])[0],2)\n",
    "charges\n",
    "print(\"Medical Insurance charges will be:\",charges,'/-Rs. Only')"
   ]
  },
  {
   "cell_type": "code",
   "execution_count": null,
   "id": "3e0b1c59",
   "metadata": {},
   "outputs": [],
   "source": []
  }
 ],
 "metadata": {
  "kernelspec": {
   "display_name": "Python 3 (ipykernel)",
   "language": "python",
   "name": "python3"
  },
  "language_info": {
   "codemirror_mode": {
    "name": "ipython",
    "version": 3
   },
   "file_extension": ".py",
   "mimetype": "text/x-python",
   "name": "python",
   "nbconvert_exporter": "python",
   "pygments_lexer": "ipython3",
   "version": "3.9.13"
  }
 },
 "nbformat": 4,
 "nbformat_minor": 5
}
